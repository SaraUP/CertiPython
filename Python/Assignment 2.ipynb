{
 "cells": [
  {
   "cell_type": "markdown",
   "metadata": {},
   "source": [
    "21. Escribir un programa que determine si el año es bisiesto. Un año es bisiesto si es\n",
    "múltiplo de 4 (1988), excepto los múltiplos de 100 que no son bisiestos salvo que a su\n",
    "vez también sean múltiplos de 400 (1800no es bisiesto, 2000 sí)."
   ]
  },
  {
   "cell_type": "code",
   "execution_count": 33,
   "metadata": {},
   "outputs": [
    {
     "name": "stdout",
     "output_type": "stream",
     "text": [
      "Año\n",
      "Ingrese un año: 1800\n",
      "NO BISIESTO\n"
     ]
    }
   ],
   "source": [
    "#Escribir codigo\n",
    "print(\"Año\")\n",
    "\n",
    "num = int(input(\"Ingrese un año: \"))\n",
    "\n",
    "if num%4==0 and num%100!=0:\n",
    "    print(\"BISIESTO\")\n",
    "elif num%4==0 and num%100==0:\n",
    "    if num%400==0:\n",
    "        print(\"BISIESTO\")\n",
    "    else:\n",
    "        print(\"NO BISIESTO\")\n",
    "else:\n",
    "    print(\"NO BISIESTO\")"
   ]
  },
  {
   "cell_type": "markdown",
   "metadata": {},
   "source": [
    "22. Dado los valores de A, B, C que son los coeficientes de la ecuación de segundo grado,\n",
    "hallar sus raíces reales, desplegar los resultados."
   ]
  },
  {
   "cell_type": "code",
   "execution_count": 35,
   "metadata": {},
   "outputs": [
    {
     "name": "stdout",
     "output_type": "stream",
     "text": [
      "Ingrese el coeficiente de la variable cuadrática\n",
      "5\n",
      "Ingrese el coeficiente de la variable lineal\n",
      "10\n",
      "Ingrese el término independiente\n",
      "2\n",
      "Las soluciones de la ecuación son:\n",
      "-0.23\n",
      "-1.77\n"
     ]
    }
   ],
   "source": [
    "#Escribir codigo\n",
    "import math\n",
    "import cmath\n",
    "\n",
    "A = int(input(\"Ingrese el coeficiente de la variable cuadrática\\n\"))\n",
    "B = int(input(\"Ingrese el coeficiente de la variable lineal\\n\"))\n",
    "C = int(input(\"Ingrese el término independiente\\n\"))\n",
    "\n",
    "x1= 0\n",
    "x2= 0\n",
    "\n",
    "if ((B**2)-4*A*C) < 0:\n",
    "    print(\"La solución de la ecuación es con números complejos: \")\n",
    "    x1 = (-B+cmath.sqrt(B**2-(4*A*C)))/(2*A)\n",
    "    x2 = (-B-cmath.sqrt(B**2-(4*A*C)))/(2*A)\n",
    "    print(\"Las soluciones de la ecuación son:\")\n",
    "    print(\"{:.2f}\".format(x1))\n",
    "    print(\"{:.2f}\".format(x2))\n",
    "else:\n",
    "    x1 = (-B+math.sqrt(B**2-(4*A*C)))/(2*A)\n",
    "    x2 = (-B-math.sqrt(B**2-(4*A*C)))/(2*A)\n",
    "    print(\"Las soluciones de la ecuación son:\")\n",
    "    print(\"{:.2f}\".format(x1))\n",
    "    print(\"{:.2f}\".format(x2))"
   ]
  },
  {
   "cell_type": "markdown",
   "metadata": {},
   "source": [
    "23. Dado dos valores A y B, realizar el producto de los dos números por sumas sucesivas,\n",
    "almacenar el resultado en una variable P, mostrar el resultado."
   ]
  },
  {
   "cell_type": "code",
   "execution_count": 5,
   "metadata": {},
   "outputs": [
    {
     "name": "stdout",
     "output_type": "stream",
     "text": [
      "Primer valor: 10\n",
      "Segundo valor: 10\n",
      "El resultado es 100\n"
     ]
    }
   ],
   "source": [
    "#Escribir codigo\n",
    "num=int(input(\"Primer valor: \"))\n",
    "num2=int(input(\"Segundo valor: \"))\n",
    "cont=num2\n",
    "p=0\n",
    "\n",
    "while cont!=0:\n",
    "    p=p+num\n",
    "    cont=cont-1\n",
    "\n",
    "print(\"El resultado es\", p)"
   ]
  },
  {
   "cell_type": "markdown",
   "metadata": {},
   "source": [
    "24. Dado un número X, determinar el número de dígitos del que esta compuesto y\n",
    "desplegar el resultado."
   ]
  },
  {
   "cell_type": "code",
   "execution_count": 10,
   "metadata": {},
   "outputs": [
    {
     "name": "stdout",
     "output_type": "stream",
     "text": [
      "Escribir un numero: 33\n",
      "el numero de digitos del que esta compuesto es: 2\n"
     ]
    }
   ],
   "source": [
    "#Escribir codigo\n",
    "num=int(input(\"Escribir un numero: \"))\n",
    "cont=1\n",
    "control=10\n",
    "\n",
    "while control<=num:\n",
    "    cont=cont+1\n",
    "    control=control*10\n",
    "\n",
    "print(\"el numero de digitos del que esta compuesto es:\", cont)"
   ]
  },
  {
   "cell_type": "markdown",
   "metadata": {},
   "source": [
    "25. Escribir un programa que calcule y visualice el más grande, el más pequeño y la media\n",
    "de N números. El valor de N se solicitará al principio del programa y los números\n",
    "serán introducidos por el usuario."
   ]
  },
  {
   "cell_type": "code",
   "execution_count": 27,
   "metadata": {},
   "outputs": [
    {
     "name": "stdout",
     "output_type": "stream",
     "text": [
      "Cantidad de numeros: 5\n",
      "Escriba un numero: 1\n",
      "Escriba un numero: 2\n",
      "Escriba un numero: 3\n",
      "Escriba un numero: 4\n",
      "Escriba un numero: 5\n",
      "El numero mas grande:  5\n",
      "El numero mas pequeño:  1\n",
      "La media de los numeros:  3.00\n"
     ]
    }
   ],
   "source": [
    "#Escribir codigo\n",
    "num=int(input(\"Cantidad de numeros: \"))\n",
    "List=[]\n",
    "suma=0\n",
    "\n",
    "while num!=0:\n",
    "    n=int(input(\"Escriba un numero: \"))\n",
    "    List.append(n)\n",
    "    num=num-1\n",
    "    \n",
    "max_item = max(List, key=int)\n",
    "min_item = min(List, key=int)\n",
    "\n",
    "for i in List:\n",
    "    suma=suma+i\n",
    "    \n",
    "print(\"El numero mas grande: \", max_item)\n",
    "print(\"El numero mas pequeño: \", min_item)\n",
    "print(\"La media de los numeros: \", \"{0:.2f}\".format(suma/len(List)))"
   ]
  },
  {
   "cell_type": "markdown",
   "metadata": {},
   "source": [
    "26. Dado dos números A y B enteros mayores a cero, hallar A^B por sumas. Desplegar los números y el resultado."
   ]
  },
  {
   "cell_type": "code",
   "execution_count": 29,
   "metadata": {},
   "outputs": [
    {
     "name": "stdout",
     "output_type": "stream",
     "text": [
      "Primer valor: 5\n",
      "Segundo valor: 0\n",
      "El resultado es 1\n"
     ]
    }
   ],
   "source": [
    "#Escribir codigo\n",
    "a=int(input(\"Primer valor: \"))\n",
    "b=int(input(\"Segundo valor: \"))\n",
    "cont=b\n",
    "p=1\n",
    "\n",
    "while cont!=0:\n",
    "    p=p*a\n",
    "    print(p)\n",
    "    cont=cont-1\n",
    "\n",
    "print(\"El resultado es\", p)"
   ]
  },
  {
   "cell_type": "raw",
   "metadata": {},
   "source": [
    "27. La constante pi (3.1441592...) es muy utilizada en matemáticas. Un método sencillo de calcular su valor es:\n",
    "\n",
    "pi = 2*(2/1)*(2/3)*(4/3)*(4/5)*(6/5)*(6/7)*(8/7)*(8/9) ...\n",
    "\n",
    "Escribir un programa que efectúe este cálculo con un número de términos especificando por el usuario."
   ]
  },
  {
   "cell_type": "code",
   "execution_count": 47,
   "metadata": {},
   "outputs": [
    {
     "name": "stdout",
     "output_type": "stream",
     "text": [
      "Ingrese un numero: 200\n",
      "3.137658290464056\n"
     ]
    }
   ],
   "source": [
    "#Escribir codigo\n",
    "num=int(input(\"Ingrese un numero: \"))\n",
    "pi=2\n",
    "\n",
    "for i in range(1,num,1):\n",
    "    pi=pi*(((2*i)*(2*i))/((2*i-1)*(2*i+1)))\n",
    "\n",
    "print(pi)"
   ]
  },
  {
   "cell_type": "markdown",
   "metadata": {},
   "source": [
    "28. El valor de e^x se puede aproximar por la suma:\n",
    "\n",
    "1+x+(x^2/2!)+(x^2/3!)+(x^2/4!)+...+(x^2/n!)\n",
    "\n",
    "Escribir un programa que tome un valor de x como entrada y visualice la suma para\n",
    "cada uno de los valores de 1 a 100."
   ]
  },
  {
   "cell_type": "code",
   "execution_count": 4,
   "metadata": {},
   "outputs": [
    {
     "name": "stdout",
     "output_type": "stream",
     "text": [
      "Escriba el numero x: 1\n",
      "Escriba el numero n: 100\n",
      "El resultado es: 2.7183\n"
     ]
    }
   ],
   "source": [
    "#Escribir codigo\n",
    "x=int(input(\"Escriba el numero x: \"))\n",
    "n=int(input(\"Escriba el numero n: \"))\n",
    "\n",
    "res=1+x\n",
    "\n",
    "def facto(n):\n",
    "    factorial_total = 1\n",
    "    while n > 1:\n",
    "        factorial_total *= n\n",
    "        n -= 1\n",
    "    return factorial_total\n",
    "        \n",
    "for i in range(2,n+1):\n",
    "    res = res+(x**i/facto(i))\n",
    "    \n",
    "print(\"El resultado es:\", \"{0:.4f}\".format(res))"
   ]
  },
  {
   "cell_type": "markdown",
   "metadata": {},
   "source": [
    "29. Calcular la suma de todos los elementos de un vector, así como la media aritmética."
   ]
  },
  {
   "cell_type": "code",
   "execution_count": 69,
   "metadata": {},
   "outputs": [
    {
     "name": "stdout",
     "output_type": "stream",
     "text": [
      "Ingrese el tamanio de el vector que desea llenar: 5\n",
      "Ingrese el elemento al vector: 10\n",
      "Ingrese el elemento al vector: 20\n",
      "Ingrese el elemento al vector: 30\n",
      "Ingrese el elemento al vector: 40\n",
      "Ingrese el elemento al vector: 50\n",
      "La lista es: [10, 20, 30, 40, 50]\n",
      "La suma de los elementos es: 150\n",
      "La media aritmetica es: 30.0\n"
     ]
    }
   ],
   "source": [
    "#Escribir codigo\n",
    "num=int(input(\"Ingrese el tamanio de el vector que desea llenar: \"))\n",
    "cont=0\n",
    "List=[]\n",
    "\n",
    "if num<1:\n",
    "    print(\"Numeros mayores a 1!\")\n",
    "else:\n",
    "    for i in range(num):\n",
    "        ele=int(input(\"Ingrese el elemento al vector: \"))\n",
    "        List.append(ele)\n",
    "        cont=cont+ele\n",
    "    print(\"La lista es:\", List)\n",
    "    print(\"La suma de los elementos es:\", cont)\n",
    "    print(\"La media aritmetica es:\",(cont/len(List)))"
   ]
  },
  {
   "cell_type": "markdown",
   "metadata": {},
   "source": [
    "30. Multiplicar dos matrices."
   ]
  },
  {
   "cell_type": "code",
   "execution_count": 65,
   "metadata": {},
   "outputs": [
    {
     "name": "stdout",
     "output_type": "stream",
     "text": [
      "Ingrese el tamanio que tendran las matrices: 2\n",
      "Ingrese un numero para armar la primera matriz1\n",
      "Ingrese un numero para armar la primera matriz2\n",
      "Ingrese un numero para armar la primera matriz3\n",
      "Ingrese un numero para armar la primera matriz4\n",
      "[[1, 2], [3, 4]]\n",
      "Ingrese un numero para armar la segunda matriz4\n",
      "Ingrese un numero para armar la segunda matriz5\n",
      "Ingrese un numero para armar la segunda matriz6\n",
      "Ingrese un numero para armar la segunda matriz7\n",
      "[[4, 5], [6, 7]]\n",
      "\n",
      "MATRIZ MULTIPLICADA:\n"
     ]
    },
    {
     "data": {
      "text/plain": [
       "array([[16, 19],\n",
       "       [36, 43]])"
      ]
     },
     "execution_count": 65,
     "metadata": {},
     "output_type": "execute_result"
    }
   ],
   "source": [
    "#Escribir codigo\n",
    "import numpy as np\n",
    "import random\n",
    "\n",
    "tam=int(input(\"Ingrese el tamanio que tendran las matrices: \"))\n",
    "\n",
    "matrizA = []\n",
    "for i in range(tam):\n",
    "    matrizA.append([])\n",
    "    for j in range(tam):\n",
    "        num=int(input(\"Ingrese un numero para armar la primera matriz\"))\n",
    "        matrizA[i].append(num)\n",
    "print(matrizA)\n",
    "\n",
    "matrizB = []\n",
    "for i in range(tam):\n",
    "    matrizB.append([])\n",
    "    for j in range(tam):\n",
    "        num=int(input(\"Ingrese un numero para armar la segunda matriz\"))\n",
    "        matrizB[i].append(num)\n",
    "print(matrizB)  \n",
    "\n",
    "print(\"\")\n",
    "print(\"MATRIZ MULTIPLICADA:\")\n",
    "np.dot(matrizA,matrizB)"
   ]
  }
 ],
 "metadata": {
  "kernelspec": {
   "display_name": "Python 3",
   "language": "python",
   "name": "python3"
  },
  "language_info": {
   "codemirror_mode": {
    "name": "ipython",
    "version": 3
   },
   "file_extension": ".py",
   "mimetype": "text/x-python",
   "name": "python",
   "nbconvert_exporter": "python",
   "pygments_lexer": "ipython3",
   "version": "3.6.9"
  }
 },
 "nbformat": 4,
 "nbformat_minor": 4
}
