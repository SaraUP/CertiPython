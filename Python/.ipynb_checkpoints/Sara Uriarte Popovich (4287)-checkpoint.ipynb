{
 "cells": [
  {
   "cell_type": "markdown",
   "metadata": {},
   "source": [
    "#CODIGO 01-30 puntos"
   ]
  },
  {
   "cell_type": "code",
   "execution_count": 48,
   "metadata": {},
   "outputs": [
    {
     "name": "stdout",
     "output_type": "stream",
     "text": [
      "JUEGO DE DADOS HASTA REPETIR\n",
      "Tirada de Cubitus: 6 1 4 1 6 2 5 5 \n",
      "Tirada de Humerus: 6 5 2 5 5 \n",
      "Cubitus ha sacado 5 y Humerus ha sacado un 5\n",
      "Han empatado\n"
     ]
    }
   ],
   "source": [
    "#programa\n",
    "import random\n",
    "\n",
    "print(\"JUEGO DE DADOS HASTA REPETIR\")\n",
    "uno=0\n",
    "dos=0\n",
    "\n",
    "List1 = [-1]\n",
    "List2 = [-2]\n",
    "\n",
    "print(\"Tirada de Cubitus: \", end=\"\")\n",
    "for i in range(0,100):\n",
    "    dado = random.randrange(1,7)\n",
    "    print(dado, end=\" \")\n",
    "    List1.append(dado)\n",
    "    List2.append(dado)\n",
    "    \n",
    "    if List1[i]==List2[i+1]:\n",
    "        uno=List1[i]\n",
    "        break\n",
    "\n",
    "List3 = [-1]\n",
    "List4 = [-2]\n",
    "print(\"\")\n",
    "print(\"Tirada de Humerus: \", end=\"\")\n",
    "for j in range(0,100):\n",
    "    dado = random.randrange(1,7)\n",
    "    print(dado, end=\" \")\n",
    "    List3.append(dado)\n",
    "    List4.append(dado)\n",
    "    \n",
    "    if List3[j]==List4[j+1]:\n",
    "        dos=List3[j]\n",
    "        break\n",
    "        \n",
    "print(\"\")\n",
    "if uno>dos:\n",
    "    print(f\"Cubitus ha sacado {uno} y Humerus ha sacado un {dos}\")\n",
    "    print(\"Ha ganado Cubitus\")\n",
    "elif uno<dos:\n",
    "    print(f\"Cubitus ha sacado {uno} y Humerus ha sacado un {dos}\")\n",
    "    print(\"Ha ganado Humerus\")\n",
    "elif uno==dos:\n",
    "    print(f\"Cubitus ha sacado {uno} y Humerus ha sacado un {dos}\")\n",
    "    print(\"Han empatado\")"
   ]
  },
  {
   "cell_type": "markdown",
   "metadata": {},
   "source": [
    "#CODIGO 03-30 puntos"
   ]
  },
  {
   "cell_type": "code",
   "execution_count": 97,
   "metadata": {},
   "outputs": [
    {
     "name": "stdout",
     "output_type": "stream",
     "text": [
      "UPB Wood Cutter\n",
      "Ingrese el tamaño de la madera: 10\n",
      "Ingrese el numero de cortes: 4\n",
      "Ingrese los cortes a realizar: 4 5 7 8\n",
      "22\n"
     ]
    }
   ],
   "source": [
    "print(\"UPB Wood Cutter\")\n",
    "m=int(input(\"Ingrese el tamaño de la madera: \"))\n",
    "p=0\n",
    "\n",
    "if m==10:\n",
    "    p=6\n",
    "elif m==100:\n",
    "    p=15\n",
    "    \n",
    "if m<1000:\n",
    "    n=int(input(\"Ingrese el numero de cortes: \"))\n",
    "    if n<10:\n",
    "        cList = list(int(num) for num in input(\"Ingrese los cortes a realizar: \").strip().split())[:n]\n",
    "        check=0\n",
    "        lenght=len(cList)\n",
    "        for i in range(lenght):\n",
    "            if cList[i]<0 or cList[i]>m:\n",
    "                check=1\n",
    "        if check==0:\n",
    "            precio=1000000\n",
    "            tot=m\n",
    "            aux=[]\n",
    "            precioA=0\n",
    "            for i in range(lenght):\n",
    "                for j in range(lenght):\n",
    "                    if cList[j]<=tot:\n",
    "                        aux.append(tot)\n",
    "                        tot=tot-cList[j]\n",
    "                precioA=sum(aux)\n",
    "                if precioA<precio:\n",
    "                    precio= precioA\n",
    "                \n",
    "                sorted(cList, key=lambda v: (v, random.random()))\n",
    "                \n",
    "            print(precio+p)\n",
    "        else:\n",
    "            print(f\"Los cortes deben ser mayores a 0 y menores al tamaño de la madera ({m})m\")\n",
    "    else:\n",
    "        print(\"El numero de cortes debe ser menor a 10.\")\n",
    "else:\n",
    "    print(\"El tamaño debe ser menor a 1000.\")"
   ]
  },
  {
   "cell_type": "markdown",
   "metadata": {},
   "source": [
    "#CODIGO 05-40 puntos"
   ]
  },
  {
   "cell_type": "code",
   "execution_count": 92,
   "metadata": {},
   "outputs": [
    {
     "name": "stdout",
     "output_type": "stream",
     "text": [
      "3\n",
      "3 1 5 5 1 \n",
      "6 1 3 3 3 \n",
      "3 2 6 3 4 \n",
      "[3, 1, 5, 5, 1, 6, 1, 3, 3, 3, 3, 2, 6, 3, 4]\n"
     ]
    }
   ],
   "source": [
    "#programa\n",
    "num = int(input(\"\"))\n",
    "List=[]\n",
    "\n",
    "if num<=10:\n",
    "    for i in range(num):\n",
    "        for j in range(5):\n",
    "            dado = random.randrange(1,7)\n",
    "            print(dado, end=\" \")\n",
    "            List.append(dado)\n",
    "        print(\"\")\n",
    "else:\n",
    "    print(\"Error\")\n",
    "\n",
    "print(List)\n",
    "\n",
    "#nums = [0 for i in range(7)]\n",
    "\n",
    "#for dado in dados:\n",
    "    #nums[dado] += 1\n",
    "\n",
    "#if 5 in nums:\n",
    "    #print(f\"Grande 50 puntos ({salida})\")\n",
    "#elif 4 in nums:\n",
    "    #print(f\"Poker 45 puntos ({salida})\")\n",
    "#elif 3 in nums and 2 in nums:\n",
    "    #print(f\"Full 35 puntos ({salida})\")"
   ]
  },
  {
   "cell_type": "code",
   "execution_count": null,
   "metadata": {},
   "outputs": [],
   "source": []
  }
 ],
 "metadata": {
  "kernelspec": {
   "display_name": "Python 3",
   "language": "python",
   "name": "python3"
  },
  "language_info": {
   "codemirror_mode": {
    "name": "ipython",
    "version": 3
   },
   "file_extension": ".py",
   "mimetype": "text/x-python",
   "name": "python",
   "nbconvert_exporter": "python",
   "pygments_lexer": "ipython3",
   "version": "3.6.9"
  }
 },
 "nbformat": 4,
 "nbformat_minor": 4
}
