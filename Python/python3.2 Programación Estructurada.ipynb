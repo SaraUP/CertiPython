{
 "cells": [
  {
   "cell_type": "markdown",
   "metadata": {},
   "source": [
    "<img src=cenapad.jpg align=left><BR><BR><BR><BR><BR><BR>\n",
    "<h1>Curso Introducción al Lenguaje Python<br>Programación Estructurada</h1>\n",
    "<img src=python-logo.png align=left>"
   ]
  },
  {
   "cell_type": "markdown",
   "metadata": {},
   "source": [
    "# 2.1 Primeros pasos hacia la programación¶"
   ]
  },
  {
   "cell_type": "markdown",
   "metadata": {},
   "source": [
    "Por supuesto, podemos usar Python para tareas más complicadas que sumar dos y dos. Por ejemplo, podemos escribir una subsecuencia inicial de la serie de Fibonacci así:"
   ]
  },
  {
   "cell_type": "code",
   "execution_count": 1,
   "metadata": {},
   "outputs": [
    {
     "name": "stdout",
     "output_type": "stream",
     "text": [
      "1\n",
      "1\n",
      "2\n",
      "3\n",
      "5\n",
      "8\n"
     ]
    }
   ],
   "source": [
    "# Series de Fibonacci:\n",
    "# la suma de dos elementos define el siguiente\n",
    "a, b = 0, 1\n",
    "while b < 10:\n",
    "    print(b)\n",
    "    a, b = b, a+b"
   ]
  },
  {
   "cell_type": "code",
   "execution_count": 2,
   "metadata": {},
   "outputs": [
    {
     "name": "stdout",
     "output_type": "stream",
     "text": [
      "[1, 1, 2, 3, 5, 8]\n"
     ]
    }
   ],
   "source": [
    "lista=[]\n",
    "a, b = 0, 1\n",
    "\n",
    "while b < 10:\n",
    "    lista.append(b)\n",
    "    a, b = b, a+b\n",
    "    \n",
    "print(lista)"
   ]
  },
  {
   "cell_type": "markdown",
   "metadata": {},
   "source": [
    "Este ejemplo introduce varias características nuevas.\n",
    "<ul>\n",
    "<li>La primer línea contiene una asignación múltiple: las variables a y b toman en forma simultanea los nuevos valores 0 y 1. En la última linea esto se vuelve a usar, demostrando que las expresiones a la derecha son evaluadas antes de que suceda cualquier asignación. Las expresiones a la derecha son evaluadas de izquierda a derecha.</li><br>\n",
    "\n",
    "<li>El bucle while se ejecuta mientras la condición (aquí: b < 10) sea verdadera. En Python, como en C, cualquier entero distinto de cero es verdadero; cero es falso. La condición también puede ser una cadena de texto o una lista, de hecho cualquier secuencia; cualquier cosa con longitud distinta de cero es verdadero, las secuencias vacías son falsas. La prueba usada en el ejemplo es una comparación simple.</li><br>\n",
    "\n",
    "<li>El cuerpo del bucle tiene sangría: Python utiliza 4 espacios para diferencias que se encuentra en un bucle o función. El interpretador permite la utilziación de 4 espacios o tabulación (tab) pero no mezclar ambos tipos, pues puede generar errores en la interpretación.</li><br>\n",
    "\n",
    "<li>La función print() escribe el valor de el o los argumentos que se le pasan. Difiere de simplemente escribir la expresión que se quiere mostrar en la forma en que maneja múltiples argumentos, cantidades en punto flotante, y cadenas. Las cadenas de texto son impresas sin comillas, y un espacio en blanco es insertado entre los elementos, así puedes formatear cosas de una forma agradable:</li>\n",
    "\n",
    "</ul>"
   ]
  },
  {
   "cell_type": "code",
   "execution_count": 3,
   "metadata": {},
   "outputs": [
    {
     "name": "stdout",
     "output_type": "stream",
     "text": [
      "El valor de i es 65536\n"
     ]
    }
   ],
   "source": [
    "i = 256 * 256\n",
    "print('El valor de i es', i)"
   ]
  },
  {
   "cell_type": "markdown",
   "metadata": {},
   "source": [
    "El parámetro nombrado end puede usarse para evitar el salto de linea al final de la salida, o terminar la salida con una cadena diferente:"
   ]
  },
  {
   "cell_type": "code",
   "execution_count": 4,
   "metadata": {},
   "outputs": [
    {
     "name": "stdout",
     "output_type": "stream",
     "text": [
      "1, 1, 2, 3, 5, 8, 13, 21, 34, 55, 89, 144, 233, 377, 610, 987, "
     ]
    }
   ],
   "source": [
    "lista = []\n",
    "a, b = 0, 1\n",
    "while b < 1000:\n",
    "    print(b, end=', ')\n",
    "    lista.append(b)\n",
    "    a, b = b, a+b"
   ]
  },
  {
   "cell_type": "code",
   "execution_count": 5,
   "metadata": {},
   "outputs": [
    {
     "name": "stdout",
     "output_type": "stream",
     "text": [
      "1, 1, 2, 3, 5, 8, 13, 21, 34, 55, 89, 144, 233, 377, 610, 987, "
     ]
    }
   ],
   "source": [
    "for elemento in lista:\n",
    "    print(elemento, end=\", \")"
   ]
  },
  {
   "cell_type": "markdown",
   "metadata": {},
   "source": [
    "Otros ejemplos de la utilización de <b>print</b>."
   ]
  },
  {
   "cell_type": "code",
   "execution_count": 6,
   "metadata": {},
   "outputs": [
    {
     "name": "stdout",
     "output_type": "stream",
     "text": [
      "Mercury, Venus, Earth\n",
      "Mars, Jupiter, Saturn\n",
      "Uranus, Neptune, Pluto\n"
     ]
    }
   ],
   "source": [
    "print('Mercury', 'Venus', 'Earth', sep=', ')\n",
    "print('Mars', 'Jupiter', 'Saturn', sep=', ')\n",
    "print('Uranus', 'Neptune', 'Pluto', sep=', ')"
   ]
  },
  {
   "cell_type": "code",
   "execution_count": 7,
   "metadata": {},
   "outputs": [
    {
     "name": "stdout",
     "output_type": "stream",
     "text": [
      "Mercury, Venus, Earth\t\tMars, Jupiter, Saturn\t\tUranus, Neptune, Pluto\n"
     ]
    }
   ],
   "source": [
    "print('Mercury', 'Venus', 'Earth', sep=', ', end='\\t\\t')\n",
    "print('Mars', 'Jupiter', 'Saturn', sep=', ', end='\\t\\t')\n",
    "print('Uranus', 'Neptune', 'Pluto', sep=', ')"
   ]
  },
  {
   "cell_type": "code",
   "execution_count": 8,
   "metadata": {},
   "outputs": [
    {
     "name": "stdout",
     "output_type": "stream",
     "text": [
      "Mercury, Venus, Earth\n",
      "Mars, Jupiter, Saturn\n",
      "Uranus, Neptune, Pluto\n"
     ]
    }
   ],
   "source": [
    "print('Mercury', 'Venus', 'Earth', sep=', ')\n",
    "print('Mars', 'Jupiter', 'Saturn', sep=', ')\n",
    "print('Uranus', 'Neptune', 'Pluto', sep=', ')"
   ]
  },
  {
   "cell_type": "code",
   "execution_count": 9,
   "metadata": {},
   "outputs": [
    {
     "name": "stdout",
     "output_type": "stream",
     "text": [
      "Printing in a Nutshell\n",
      " * Calling Print\n",
      " * Separating Multiple Arguments\n",
      " * Preventing Line Breaks\n"
     ]
    }
   ],
   "source": [
    "print('Printing in a Nutshell', end='\\n * ')\n",
    "print('Calling Print', end='\\n * ')\n",
    "print('Separating Multiple Arguments', end='\\n * ')\n",
    "print('Preventing Line Breaks')"
   ]
  },
  {
   "cell_type": "markdown",
   "metadata": {},
   "source": [
    "Para más información sobre print visitar: https://realpython.com/python-print/"
   ]
  },
  {
   "cell_type": "markdown",
   "metadata": {},
   "source": [
    "# 2.2. Condicionales: if, elif y else"
   ]
  },
  {
   "cell_type": "markdown",
   "metadata": {},
   "source": [
    "La declaración if/elif/else funciona para controlar el fluxo de ejecución basandose en una o más condiciones. La sintaxis es la siguiente:"
   ]
  },
  {
   "cell_type": "code",
   "execution_count": null,
   "metadata": {},
   "outputs": [],
   "source": [
    "#No ejecute está célula\n",
    "if condicion:\n",
    "    comando1\n",
    "    comando2\n",
    "    ...\n",
    "    comandoN\n",
    "elif condicion:\n",
    "    comando1\n",
    "    comando2\n",
    "    ...\n",
    "    comandoN\n",
    "else:\n",
    "    comando1\n",
    "    comando2\n",
    "    ...\n",
    "    comandoN"
   ]
  },
  {
   "cell_type": "markdown",
   "metadata": {},
   "source": [
    "Observa la <b>IDENTACIÓN</b> que define los bloques de código, a diferencia de otros lenguajes que usan delimitadores como llaves tales como \"{\" y \"}\" o bloques con \"begin\" y \"end\".<br>\n",
    "\n",
    "Una buena práctica es usar <b>IDENTATION</b> con 4 espacios (primer nivel), 8 espacios (segundo nivel), etc.<br>\n",
    "\n",
    "<b>NO SE DEBÉN USAR TABULACIONES</b> (debido a las convenciones de portabilidad y legibilidad), aunque están permitidas.<br>\n",
    "\n",
    "<b>NUNCA se debe mezclar espacios con tabulaciones en el mismo programa.</b><br>\n",
    "\n",
    "IDENTATION en Python es obligatorio y forma parte de la sintaxis. La ventaja de esta característica es la legibilidad del código. La mayoría de los editores de código o IDE de desarrollo facilitarán el trabajo de IDENTACIÓN colocando espacios automáticamente si se encuentra dentro del contexto de un bloque de código."
   ]
  },
  {
   "cell_type": "markdown",
   "metadata": {},
   "source": [
    "#### Ejemplo de uso del condicional if elif else:"
   ]
  },
  {
   "cell_type": "code",
   "execution_count": 10,
   "metadata": {},
   "outputs": [
    {
     "name": "stdout",
     "output_type": "stream",
     "text": [
      "¿Cual es su nombre?:Sara\n",
      "¿Cual es su edad?:20\n",
      "Nombre: Sara - Edad: 20 - Pertenece al grupo Juventud.\n"
     ]
    }
   ],
   "source": [
    "nombre = input(\"¿Cual es su nombre?:\")\n",
    "edad = int(input(\"¿Cual es su edad?:\")) #Ingrese un número entero\n",
    "grupo=\"\"\n",
    "\n",
    "if edad <= 12:\n",
    "    grupo = \"Infancia\"\n",
    "elif edad <= 18:\n",
    "    grupo = \"Adolescencia\"\n",
    "elif edad <= 26:\n",
    "    grupo = \"Juventud\"\n",
    "elif edad <= 65:\n",
    "    grupo = \"Adultez\"\n",
    "else:\n",
    "    grupo = \"Persona Mayor\"\n",
    "\n",
    "print(f\"Nombre: {nombre} - Edad: {edad} - Pertenece al grupo {grupo}.\")"
   ]
  },
  {
   "cell_type": "markdown",
   "metadata": {},
   "source": [
    "La palabra reservada ‘elif‘ es una abreviación de ‘else if’, y es útil para evitar un sangrado excesivo. Una secuencia if ... elif ... elif ... sustituye las sentencias switch o case encontradas en otros lenguajes.\n",
    "\n",
    "La declaración if/elif/else puede precisa tener  tener ninguún bloque elif, por ejemplo:"
   ]
  },
  {
   "cell_type": "code",
   "execution_count": 11,
   "metadata": {},
   "outputs": [
    {
     "name": "stdout",
     "output_type": "stream",
     "text": [
      "Mayor de edad\n"
     ]
    }
   ],
   "source": [
    "edad=21\n",
    "if edad<=17:\n",
    "    print(\"Menor de edad\")\n",
    "else:\n",
    "    print(\"Mayor de edad\")"
   ]
  },
  {
   "cell_type": "markdown",
   "metadata": {},
   "source": [
    "Es posible combinar condiones con otros operadores <b>and</b>, <b>not</b> y <b>or</b>."
   ]
  },
  {
   "cell_type": "code",
   "execution_count": 12,
   "metadata": {},
   "outputs": [
    {
     "name": "stdout",
     "output_type": "stream",
     "text": [
      "Adulto\n"
     ]
    }
   ],
   "source": [
    "edad = 31\n",
    "if edad <= 12:\n",
    "    print(\"Infancia\")\n",
    "elif edad > 12 and edad < 21:\n",
    "    print(\"Adolescente\")\n",
    "elif edad>=21:\n",
    "    print(\"Adulto\")"
   ]
  },
  {
   "cell_type": "code",
   "execution_count": 13,
   "metadata": {},
   "outputs": [
    {
     "name": "stdout",
     "output_type": "stream",
     "text": [
      "Ingrese un número entero: 2\n",
      "Ingrese otro número entero: 3\n",
      "Por lo menos uno de los números es par\n"
     ]
    }
   ],
   "source": [
    "x = int(input(\"Ingrese un número entero: \"))\n",
    "y = int(input(\"Ingrese otro número entero: \"))\n",
    "if x%2==1 and y%2==1:\n",
    "    print(\"Ambos números son impares\")\n",
    "else:\n",
    "    print(\"Por lo menos uno de los números es par\")"
   ]
  },
  {
   "cell_type": "code",
   "execution_count": 14,
   "metadata": {},
   "outputs": [
    {
     "name": "stdout",
     "output_type": "stream",
     "text": [
      "Ingrese un número entero: 23\n",
      "Ingrese otro número entero: 4\n",
      "Por lo menos uno delos números es impar\n"
     ]
    }
   ],
   "source": [
    "x = int(input(\"Ingrese un número entero: \"))\n",
    "y = int(input(\"Ingrese otro número entero: \"))\n",
    "if x%2==1 or y%2==1:\n",
    "    print(\"Por lo menos uno delos números es impar\")\n",
    "else:\n",
    "    print(\"Ambos números son pares\")"
   ]
  },
  {
   "cell_type": "code",
   "execution_count": 15,
   "metadata": {},
   "outputs": [
    {
     "name": "stdout",
     "output_type": "stream",
     "text": [
      "3 es divisible por 3\n",
      "6 es divisible por 3\n",
      "9 es divisible por 3\n",
      "12 es divisible por 3\n",
      "15 es divisible por 3\n",
      "18 es divisible por 3\n",
      "21 es divisible por 3\n",
      "24 es divisible por 3\n",
      "27 es divisible por 3\n"
     ]
    }
   ],
   "source": [
    "num = list(range(1,30))\n",
    "for n in num:\n",
    "    if n%3==0:\n",
    "        print(f\"{n} es divisible por 3\")"
   ]
  },
  {
   "cell_type": "markdown",
   "metadata": {},
   "source": [
    "Alternativamente, en lugar de imprimir en la pantalla, podemos crear una lista con los números divisibles por 3 y luego imprimirla"
   ]
  },
  {
   "cell_type": "code",
   "execution_count": 16,
   "metadata": {},
   "outputs": [
    {
     "name": "stdout",
     "output_type": "stream",
     "text": [
      "[3, 6, 9, 12, 15, 18, 21, 24, 27]\n"
     ]
    }
   ],
   "source": [
    "num = list(range(1,30))\n",
    "num_div3=[] #Iniciando una lista vacia (Esto es necesario para que podemos usar el método append)\n",
    "for n in num:\n",
    "    if n%3==0:\n",
    "        num_div3.append(n)\n",
    "print(num_div3)"
   ]
  },
  {
   "cell_type": "markdown",
   "metadata": {},
   "source": [
    "### Ejercicio 1:\n",
    "\n",
    "Dado tres puntos en el plano expresados como coordenadas (x, y) informar cuál es el que se encuentra más lejos del centro de coordenadas."
   ]
  },
  {
   "cell_type": "code",
   "execution_count": 37,
   "metadata": {},
   "outputs": [
    {
     "name": "stdout",
     "output_type": "stream",
     "text": [
      "Ingrese la coordenada x del primer punto: 1\n",
      "Ingrese la coordenada y del primer punto: 9\n",
      "Ingrese la coordenada x del segundo punto: 2\n",
      "Ingrese la coordenada y del segundo punto: 5\n",
      "Ingrese la coordenada x del tercer punto: 288\n",
      "Ingrese la coordenada y del tercer punto: 3\n",
      "El centro es:  97.00, 5.67\n",
      "107.11\n",
      "95.44\n",
      "198.11\n",
      "El punto mas lejano del centro de coordenadas es el tercer punto\n"
     ]
    }
   ],
   "source": [
    "# Escriba el código aqui\n",
    "import math\n",
    "\n",
    "a = int(input(\"Ingrese la coordenada x del primer punto: \"))\n",
    "aa = int(input(\"Ingrese la coordenada y del primer punto: \"))\n",
    "b = int(input(\"Ingrese la coordenada x del segundo punto: \"))\n",
    "bb = int(input(\"Ingrese la coordenada y del segundo punto: \"))\n",
    "c = int(input(\"Ingrese la coordenada x del tercer punto: \"))\n",
    "cc = int(input(\"Ingrese la coordenada y del tercer punto: \"))\n",
    "\n",
    "x = (a+b+c)/3\n",
    "y = (aa+bb+cc)/3\n",
    "\n",
    "print(\"El centro es: \", end=\" \")\n",
    "print(\"{:.2f}\".format(x), end= \", \")\n",
    "print(\"{:.2f}\".format(y))\n",
    "\n",
    "raiza = math.sqrt((a-x)**2)+((aa-y)**2)\n",
    "raizb = math.sqrt((b-x)**2)+((bb-y)**2)\n",
    "raizc = math.sqrt((c-x)**2)+((cc-y)**2)\n",
    "\n",
    "print(\"{:.2f}\".format(raiza))\n",
    "print(\"{:.2f}\".format(raizb))\n",
    "print(\"{:.2f}\".format(raizc))\n",
    "\n",
    "if raiza>raizb and raiza>raizc:\n",
    "    print(\"El punto mas lejano del centro de coordenadas es el primer punto\")\n",
    "elif raizb>raiza and raizb>raizc:\n",
    "    print(\"El punto mas lejano del centro de coordenadas es el segundo punto\")\n",
    "elif raizc>raiza and raizc>raizb:\n",
    "    print(\"El punto mas lejano del centro de coordenadas es el tercer punto\")"
   ]
  },
  {
   "cell_type": "markdown",
   "metadata": {},
   "source": [
    "### Ejercicio 2:\n",
    "\n",
    "Escribir un programa que almacene la cadena de caracteres contraseña en una variable, pregunte al usuario por la contraseña e imprima por pantalla si la contraseña introducida por el usuario coincide con la guardada en la variable sin tener en cuenta mayúsculas y minúsculas.\n",
    "\n",
    "Sugerencia: utilizar la función lower.\n",
    "\n",
    "<b>Salida deseada:</b><br>\n",
    "La contaseña coincide<br>\n",
    "<br>\n",
    "La contraseña no coincide"
   ]
  },
  {
   "cell_type": "code",
   "execution_count": 25,
   "metadata": {},
   "outputs": [
    {
     "name": "stdout",
     "output_type": "stream",
     "text": [
      "Ingrese la contrasenia: sara\n",
      "Vuelva a ingresar la contrasenia: SaRa\n",
      "La contrasenia coincide\n"
     ]
    }
   ],
   "source": [
    "# Escriba el código aqui\n",
    "contrasenia = (input(\"Ingrese la contrasenia: \"))\n",
    "contrasenia2 = (input(\"Vuelva a ingresar la contrasenia: \"))\n",
    "\n",
    "con = contrasenia.lower()\n",
    "con2 = contrasenia2.lower()\n",
    "\n",
    "if con == con2:\n",
    "    print(\"La contrasenia coincide\")\n",
    "else:\n",
    "    print(\"La contrasenia no coincide\")"
   ]
  },
  {
   "cell_type": "markdown",
   "metadata": {},
   "source": [
    "### Ejercicio 3:\n",
    "\n",
    "Para tributar un determinado impuesto se debe ser mayor de 16 años y tener unos ingresos iguales o superiores a 2000 Bs mensuales. Escribir un programa que pregunte al usuario su edad y sus ingresos mensuales y muestre por pantalla si el usuario tiene que tributar o no.\n",
    "\n",
    "<b>Salida deseada:</b><br>\n",
    "Tienes que tributar<br>\n",
    "<br>\n",
    "No tienes que tributar"
   ]
  },
  {
   "cell_type": "code",
   "execution_count": 29,
   "metadata": {},
   "outputs": [
    {
     "name": "stdout",
     "output_type": "stream",
     "text": [
      "Ingrese su edad: 17\n",
      "Ingrese sus ingresos mensuales: 23456\n",
      "Tienes que tributar\n"
     ]
    }
   ],
   "source": [
    "# Escriba el código aqui\n",
    "edad = int(input(\"Ingrese su edad: \"))\n",
    "ingresos = int(input(\"Ingrese sus ingresos mensuales: \"))\n",
    "\n",
    "if edad>16 and ingresos>=2000:\n",
    "    print(\"Tienes que tributar\")\n",
    "else:\n",
    "    print(\"No tienes que tributar\")"
   ]
  },
  {
   "cell_type": "markdown",
   "metadata": {},
   "source": [
    "### Ejercicio 4:\n",
    "\n",
    "Escriba un programa que pida dos números enteros y que calcule su división, escribiendo si la división es exacta o no. El programa debe tomar en cuenta que no se puede dividir por cero."
   ]
  },
  {
   "cell_type": "code",
   "execution_count": 39,
   "metadata": {},
   "outputs": [
    {
     "name": "stdout",
     "output_type": "stream",
     "text": [
      "Ingrese un numero entero: 3\n",
      "Ingrese otro numero entero: 9\n",
      "0.3333333333333333\n",
      "La division no es exacta\n"
     ]
    }
   ],
   "source": [
    "# Escriba el código aqui\n",
    "a = int(input(\"Ingrese un numero entero: \"))\n",
    "b = int(input(\"Ingrese otro numero entero: \"))\n",
    "\n",
    "if b==0:\n",
    "    print(\"No puedes dividir por 0\")\n",
    "else:\n",
    "    c = a/b\n",
    "    print(c)\n",
    "    if a%b==0:\n",
    "        print(\"La division es exacta\")\n",
    "    else:\n",
    "        print(\"La division no es exacta\")"
   ]
  },
  {
   "cell_type": "markdown",
   "metadata": {},
   "source": [
    "### Ejercicio 5:\n",
    "\n",
    "Escriba un programa que pida año, mes y día y retorne cuantos días han pasado o faltan a la fecha actual."
   ]
  },
  {
   "cell_type": "code",
   "execution_count": 95,
   "metadata": {},
   "outputs": [
    {
     "name": "stdout",
     "output_type": "stream",
     "text": [
      "Ingrese un anio: 1999\n",
      "Ingrese un mes: 4\n",
      "Ingrese un dia: 3\n",
      "Ha pasado:  7630  dias\n"
     ]
    }
   ],
   "source": [
    "# Escriba el código aqui\n",
    "from datetime import datetime, date, time, timedelta\n",
    "import calendar\n",
    "\n",
    "anio = int(input(\"Ingrese un anio: \"))\n",
    "mes = int(input(\"Ingrese un mes: \"))\n",
    "dia = int(input(\"Ingrese un dia: \"))\n",
    "\n",
    "fecha = datetime.now()\n",
    "fechadia = fecha.day\n",
    "fechames = fecha.month\n",
    "fechaanio = fecha.year\n",
    "\n",
    "if fechaanio>=anio:\n",
    "    res=(fechaanio-anio)*365+(fechames-mes)*30+(fechadia-dia)\n",
    "    print(\"Ha pasado: \", res, \" dias\")\n",
    "else:\n",
    "    res=(anio-fechaanio)*365+(mes-fechames)*30+(dia-fechadia)\n",
    "    print(\"Faltan: \", res, \"dias\")"
   ]
  },
  {
   "cell_type": "markdown",
   "metadata": {},
   "source": [
    "### Ejercicio 6:\n",
    "\n",
    "Escriba un programa que pida dos números enteros y que escriba si el mayor es múltiplo del menor. El programa debe avisar cuando se escriba valores negativos o nulos."
   ]
  },
  {
   "cell_type": "code",
   "execution_count": 97,
   "metadata": {},
   "outputs": [
    {
     "name": "stdout",
     "output_type": "stream",
     "text": [
      "Introducir un numero entero: 40\n",
      "Introducir otro numero entero: 5\n",
      "Valores aceptables\n",
      "El numero 40 es multiplo de 5\n"
     ]
    }
   ],
   "source": [
    "# Escriba el código aqui\n",
    "x = int(input(\"Introducir un numero entero: \"))\n",
    "y = int(input(\"Introducir otro numero entero: \"))\n",
    "\n",
    "if x<0 or y<0:\n",
    "    print(\"Son valores negativos\")\n",
    "elif x==0 or y==0:\n",
    "    print(\"Son valores nulos\")\n",
    "else:\n",
    "    print(\"Valores aceptables\")\n",
    "\n",
    "if x>y:\n",
    "    if x%y==0:\n",
    "        print(\"El numero\", x, \"es multiplo de\", y)\n",
    "    else:\n",
    "        print(\"El numero\", x, \"no es multiplo de\", y)\n",
    "else:\n",
    "    if y%x==0:\n",
    "        print(\"El numero\", y, \"es multiplo de\", x)\n",
    "    else:\n",
    "        print(\"El numero\", y, \"no es multiplo de\", x)"
   ]
  },
  {
   "cell_type": "markdown",
   "metadata": {},
   "source": [
    "# Ejercicio 7:\n",
    "\n",
    "Escriba un programa que pida los coeficientes de una ecuación de segundo grado (a x² + b x + c = 0) y escriba la solución.\n",
    "\n",
    "Se recuerda que una ecuación de segundo grado puede no tener solución (solución con números complejos), tener una solución única, tener dos soluciones o que todos los números sean solución. Se recuerda que la fórmula de las soluciones cuando hay dos soluciones es x = (-b ± √(b2-4ac) ) / (2a)\n",
    "\n",
    "En caso de no tener solución, hacer uso de la números complejos de Python.\n",
    "\n",
    "Más información en:<br>\n",
    "[1] https://relopezbriega.github.io/blog/2015/10/12/numeros-complejos-con-python/<br>\n",
    "[2] https://pybonacci.org/2014/02/04/como-separar-parte-real-e-imaginaria-en-sympy/\n",
    "\n",
    "<b>Salida deseada</b><br>\n",
    "ECUACIÓN A X² + B X + C = 0<br>\n",
    "Escriba el valor del coeficiente a: 2<br>\n",
    "Escriba el valor del coeficiente b: -7<br>\n",
    "Escriba el valor del coeficiente c: 3<br>\n",
    "La ecuación tiene dos soluciones: 3.0 y 0.5"
   ]
  },
  {
   "cell_type": "code",
   "execution_count": 98,
   "metadata": {},
   "outputs": [
    {
     "name": "stdout",
     "output_type": "stream",
     "text": [
      "Ingrese el coeficiente de la variable cuadrática\n",
      "1\n",
      "Ingrese el coeficiente de la variable lineal\n",
      "1\n",
      "Ingrese el término independiente\n",
      "1\n",
      "La solución de la ecuación es con números complejos: \n",
      "Las soluciones de la ecuación son:\n",
      "-0.50+0.87j\n",
      "-0.50-0.87j\n"
     ]
    }
   ],
   "source": [
    "# Escriba el código aqui\n",
    "import math\n",
    "import cmath\n",
    "\n",
    "A = int(input(\"Ingrese el coeficiente de la variable cuadrática\\n\"))\n",
    "B = int(input(\"Ingrese el coeficiente de la variable lineal\\n\"))\n",
    "C = int(input(\"Ingrese el término independiente\\n\"))\n",
    "\n",
    "x1= 0\n",
    "x2= 0\n",
    "\n",
    "if ((B**2)-4*A*C) < 0:\n",
    "    print(\"La solución de la ecuación es con números complejos: \")\n",
    "    x1 = (-B+cmath.sqrt(B**2-(4*A*C)))/(2*A)\n",
    "    x2 = (-B-cmath.sqrt(B**2-(4*A*C)))/(2*A)\n",
    "    print(\"Las soluciones de la ecuación son:\")\n",
    "    print(\"{:.2f}\".format(x1))\n",
    "    print(\"{:.2f}\".format(x2))\n",
    "else:\n",
    "    x1 = (-B+math.sqrt(B**2-(4*A*C)))/(2*A)\n",
    "    x2 = (-B-math.sqrt(B**2-(4*A*C)))/(2*A)\n",
    "    print(\"Las soluciones de la ecuación son:\")\n",
    "    print(\"{:.2f}\".format(x1))\n",
    "    print(\"{:.2f}\".format(x2))"
   ]
  },
  {
   "cell_type": "markdown",
   "metadata": {},
   "source": [
    "### Ejercicio 8:\n",
    "\n",
    "Escriba un programa que pregunte primero si se quiere calcular el área de un triángulo o la de un círculo. Si se contesta que se quiere calcular el área de un triángulo (escribiendo T o t), el programa tiene que pedir entonces la base y la altura y escribir el área. Si se contesta que se quiere calcular el área de un círculo (escribiendo C o c), el programa tiene que pedir entonces el radio y escribir el área.\n",
    "\n",
    "Se recuerda que el área de un triángulo es base por altura dividido por 2 y que el área de un círculo es Pi (aproximadamente 3,141592) por el radio al cuadrado. Utilizar 2 decimales para la salida.\n",
    "\n",
    "Nota: Utilice la libreria math para obtener la función pi.\n",
    "\n",
    "<b>Salida deseada:</b><br>\n",
    "CÁLCULO DE ÁREAS<br>\n",
    "Elija una figura geométrica:<br>\n",
    "a) Triángulo<br>\n",
    "b) Círculo<br>\n",
    "¿Qué figura quiere calcular (Escriba T o C)? T<br>\n",
    "Escriba la base: 3<br>\n",
    "Escriba la altura: 5.5<br>\n",
    "Un triángulo de base 3.0 y altura 5.0 tiene un área de 8.25<br>\n",
    "<br>\n",
    "CÁLCULO DE ÁREAS<br>\n",
    "Elija una figura geométrica:<br>\n",
    "a) Triángulo<br>\n",
    "b) Círculo<br>\n",
    "¿Qué figura quiere calcular (Escriba T o C)? C<br>\n",
    "Escriba el radio: 2<br>\n",
    "Un círculo de radio 2.0 tiene un área de 12.57<br>"
   ]
  },
  {
   "cell_type": "code",
   "execution_count": 34,
   "metadata": {},
   "outputs": [
    {
     "name": "stdout",
     "output_type": "stream",
     "text": [
      "CÁLCULO DE ÁREAS\n",
      "Elija una figura geometrica:\n",
      "Triángulo o Círculo\n",
      "¿Qué figura quiere calcular? --> Escriba T o C t\n",
      "Escriba la base: 3\n",
      "Escriba la altura: 5.5\n",
      "Un triangulo de base 3.0 y de altura 5.5  tiene un area de 8.25\n"
     ]
    }
   ],
   "source": [
    "# Escriba el código aqui\n",
    "import math\n",
    "\n",
    "print(\"CÁLCULO DE ÁREAS\")\n",
    "print(\"Elija una figura geometrica:\")\n",
    "print(\"Triángulo o Círculo\")\n",
    "\n",
    "figura = str(input(\"¿Qué figura quiere calcular? --> Escriba T o C \"))\n",
    "\n",
    "if figura==\"T\" or figura==\"t\":\n",
    "    base = float(input(\"Escriba la base: \"))\n",
    "    altura = float(input(\"Escriba la altura: \"))\n",
    "    triangulo = (base*altura)/2\n",
    "    print(\"Un triangulo de base\", base, \"y de altura\", altura, \"tiene un area de \", end=\"\")\n",
    "    print(\"{:.2f}\".format(triangulo))\n",
    "elif figura==\"C\" or figura==\"c\":\n",
    "    circulo = float(input(\"Escriba el radio: \"))\n",
    "    area = math.pi*(circulo**2)\n",
    "    print(\"Un circulo de radio\", circulo, \"y de area \", end=\"\")\n",
    "    print(\"{:.2f}\".format(area))\n",
    "else:\n",
    "    print(\"Error\")"
   ]
  },
  {
   "cell_type": "markdown",
   "metadata": {},
   "source": [
    "# 2.3. La Sentencia for\n",
    "\n",
    "La sentencia <b>for</b> en Python difiere un poco de lo que uno puede estar acostumbrado en lenguajes como C o Pascal. En lugar de siempre iterar sobre una progresión aritmética de números (como en Pascal) o darle al usuario la posibilidad de definir tanto el paso de la iteración como la condición de fin (como en C), la sentencia <b>for</b> de Python itera sobre los ítems de cualquier secuencia (una lista o una cadena de texto), en el orden que aparecen en la secuencia. Por ejemplo:"
   ]
  },
  {
   "cell_type": "code",
   "execution_count": 1,
   "metadata": {},
   "outputs": [
    {
     "name": "stdout",
     "output_type": "stream",
     "text": [
      "gato 4\n",
      "ventana 7\n",
      "defenestrado 12\n"
     ]
    }
   ],
   "source": [
    "# Midiendo cadenas de texto\n",
    "palabras = ['gato', 'ventana', 'defenestrado']\n",
    "for p in palabras:\n",
    "    print(p, len(p))"
   ]
  },
  {
   "cell_type": "markdown",
   "metadata": {},
   "source": [
    "Si necesitá modificar la secuencia sobre la que estás iterando mientras estás adentro del ciclo (por ejemplo para borrar algunos ítems), se recomienda que hagas primero una copia. Iterar sobre una secuencia no hace implícitamente una copia. La notación abajo es especialmente conveniente para esto:"
   ]
  },
  {
   "cell_type": "code",
   "execution_count": 2,
   "metadata": {},
   "outputs": [
    {
     "name": "stdout",
     "output_type": "stream",
     "text": [
      "['defenestrado', 'ventana', 'gato', 'ventana', 'defenestrado']\n"
     ]
    }
   ],
   "source": [
    "for p in palabras[:]:  # hace una copiade toda la lista\n",
    "    if len(p) > 6:\n",
    "        palabras.insert(0, p)\n",
    "\n",
    "print(palabras)"
   ]
  },
  {
   "cell_type": "markdown",
   "metadata": {},
   "source": [
    "Con for w in words:, el ejemplo intentaría crear una lista infinita, insertando defenestrado una y otra vez.<br>\n",
    "\n",
    "Un bucle <b>for</b> funciona como un iterador. Un <b>for</b> se utiliza para realizar acciones sobre elementos de una secuencia o cualquier elemento iterable, como cadenas, listas y otros objetos iterables que veremos más adelante.\n",
    "\n",
    "<b>Formato general para una declaración for</b>\n",
    "\n",
    "for item in object:<br>\n",
    "&nbsp;&nbsp;&nbsp;&nbsp;statements to do stuff\n",
    "\n",
    "También es común usar un rango como iterable en un <b>for</b>\n",
    "\n",
    "for i in range(0,10):<br>\n",
    "&nbsp;&nbsp;&nbsp;&nbsp;hace alguna cosa con i"
   ]
  },
  {
   "cell_type": "markdown",
   "metadata": {},
   "source": [
    "#### Ejemplo. El complemento de una secuencia de ADN se obtiene reemplazando todo As con Ts, Ts con As, Gs con Cs y Cs con Gs por Gs"
   ]
  },
  {
   "cell_type": "code",
   "execution_count": 3,
   "metadata": {},
   "outputs": [
    {
     "data": {
      "text/plain": [
       "'AGCAGGTGCGAGTAGCAGTAGCA'"
      ]
     },
     "execution_count": 3,
     "metadata": {},
     "output_type": "execute_result"
    }
   ],
   "source": [
    "dna = \"AGCAGGTGCGAGTAGCAGTAGCA\"\n",
    "dna"
   ]
  },
  {
   "cell_type": "code",
   "execution_count": 4,
   "metadata": {},
   "outputs": [
    {
     "name": "stdout",
     "output_type": "stream",
     "text": [
      "TCGTCCACGCTCATCGTCATCGT\n"
     ]
    }
   ],
   "source": [
    "#Transformar todas las A's en Ts, Ts en As, Gs en Cs y Cs en Gs\n",
    "complemento=\"\"  #Iniciando string vacia\n",
    "for x in dna:  #A cada iteración en este bucle, x será una letra del dna\n",
    "    if x==\"G\":  #Si x fuera G, concatena la string complemento con un C\n",
    "        complemento = complemento + \"C\"\n",
    "    elif x==\"C\": #Si x fuera C, concatena la string complemento con un T\n",
    "        complemento = complemento + \"G\"\n",
    "    elif x == \"A\":\n",
    "        complemento = complemento + \"T\"\n",
    "    elif x == \"T\":\n",
    "        complemento = complemento + \"A\"\n",
    "        \n",
    "print(complemento)"
   ]
  },
  {
   "cell_type": "markdown",
   "metadata": {},
   "source": [
    "<b>join</b> es un método de la clase string que concatena una cadena con las cadenas de una lista.<br><br>\n",
    "<b>reversed</b> devuelve una lista o cadena invertida.<br><br>\n",
    "Vamos a invertir una string y usar el método de join para formar una nueva cadena con el inverso complementario de la secuencia de DNA."
   ]
  },
  {
   "cell_type": "code",
   "execution_count": 10,
   "metadata": {},
   "outputs": [
    {
     "name": "stdout",
     "output_type": "stream",
     "text": [
      "DNA=AGCAGGTGCGAGTAGCAGTAGCA\n",
      "REVCOMP=TGCTACTGCTACTCGCACCTGCT\n"
     ]
    }
   ],
   "source": [
    "reverso_complementar = ''.join(reversed(complemento)) #conatena la string vacia '' con el complemento invertido\n",
    "print(f\"DNA={dna}\\nREVCOMP={reverso_complementar}\")\n",
    "#print(complemento[::-1])"
   ]
  },
  {
   "cell_type": "code",
   "execution_count": 11,
   "metadata": {},
   "outputs": [
    {
     "name": "stdout",
     "output_type": "stream",
     "text": [
      "Caracter de índice 0 é um A\n",
      "Caracter de índice 1 é um G\n",
      "Caracter de índice 2 é um C\n",
      "Caracter de índice 3 é um A\n",
      "Caracter de índice 4 é um G\n",
      "Caracter de índice 5 é um G\n",
      "Caracter de índice 6 é um T\n",
      "Caracter de índice 7 é um G\n",
      "Caracter de índice 8 é um C\n",
      "Caracter de índice 9 é um G\n",
      "Caracter de índice 10 é um A\n",
      "Caracter de índice 11 é um G\n",
      "Caracter de índice 12 é um T\n",
      "Caracter de índice 13 é um A\n",
      "Caracter de índice 14 é um G\n",
      "Caracter de índice 15 é um C\n",
      "Caracter de índice 16 é um A\n",
      "Caracter de índice 17 é um G\n",
      "Caracter de índice 18 é um T\n",
      "Caracter de índice 19 é um A\n",
      "Caracter de índice 20 é um G\n",
      "Caracter de índice 21 é um C\n",
      "Caracter de índice 22 é um A\n"
     ]
    }
   ],
   "source": [
    "for i in range(len(dna)):\n",
    "    print(f\"Caracter de índice {i} é um {dna[i]}\")"
   ]
  },
  {
   "cell_type": "code",
   "execution_count": 12,
   "metadata": {},
   "outputs": [
    {
     "name": "stdout",
     "output_type": "stream",
     "text": [
      "Caracter de índice 0 é um A\n",
      "Caracter de índice 1 é um G\n",
      "Caracter de índice 2 é um C\n",
      "Caracter de índice 3 é um A\n",
      "Caracter de índice 4 é um G\n",
      "Caracter de índice 5 é um G\n",
      "Caracter de índice 6 é um T\n",
      "Caracter de índice 7 é um G\n",
      "Caracter de índice 8 é um C\n",
      "Caracter de índice 9 é um G\n",
      "Caracter de índice 10 é um A\n",
      "Caracter de índice 11 é um G\n",
      "Caracter de índice 12 é um T\n",
      "Caracter de índice 13 é um A\n",
      "Caracter de índice 14 é um G\n",
      "Caracter de índice 15 é um C\n",
      "Caracter de índice 16 é um A\n",
      "Caracter de índice 17 é um G\n",
      "Caracter de índice 18 é um T\n",
      "Caracter de índice 19 é um A\n",
      "Caracter de índice 20 é um G\n",
      "Caracter de índice 21 é um C\n",
      "Caracter de índice 22 é um A\n"
     ]
    }
   ],
   "source": [
    "#El ciclo for anterior también se puede hacer usando la función enumerate\n",
    "for i,x in enumerate(dna):\n",
    "    print(f\"Caracter de índice {i} é um {x}\")"
   ]
  },
  {
   "cell_type": "markdown",
   "metadata": {},
   "source": [
    "### Ejercicio 9:\n",
    "\n",
    "Escriba un programa que pida un número de dados y muestre los valores de ese número de dados, al azar.\n",
    "\n",
    "Nota. Utilizar la libreria random.\n",
    "Más información en:\n",
    "[1] https://stackoverflow.com/questions/3996904/generate-random-integers-between-0-and-9\n",
    "\n",
    "<b>Salida deseada:</b><br><br>\n",
    "TIRADA DE DADOS<br>\n",
    "Número de dados: 0<br>\n",
    "¡Imposible!<br>\n",
    "<br>\n",
    "TIRADA DE DADOS<br>\n",
    "Número de dados:  5<br>\n",
    "Dados: 3 5 1 1 3<br>"
   ]
  },
  {
   "cell_type": "code",
   "execution_count": 30,
   "metadata": {},
   "outputs": [
    {
     "name": "stdout",
     "output_type": "stream",
     "text": [
      "TIRADA DE DADOS\n",
      "Numero de dados: 5\n",
      "Dados: 4 4 2 4 4 "
     ]
    }
   ],
   "source": [
    "# Escriba el código aqui\n",
    "import random\n",
    "\n",
    "print(\"TIRADA DE DADOS\")\n",
    "\n",
    "dado = int(input(\"Numero de dados: \"))\n",
    "\n",
    "if dado<1:\n",
    "    print(\"IMPOSIBLE\")\n",
    "else:\n",
    "    print(\"Dados:\", end=\" \")\n",
    "    for i in range(0,dado):\n",
    "        print(random.randrange(1,6), end=\" \")     "
   ]
  },
  {
   "cell_type": "markdown",
   "metadata": {},
   "source": [
    "### Ejercicio 10:\n",
    "\n",
    "Escriba un programa que pida un número de jugadores y tire un dado para cada jugador. El jugador que tire el mayor dado ganará el juego.\n",
    "\n",
    "<b>Salida deseada:</b><br><br>\n",
    "TIRADAS DE DADO<br>\n",
    "Número de jugadores: 1<br>\n",
    "¡Imposible!<br>\n",
    "<br>\n",
    "TIRADAS DE DADO<br>\n",
    "Número de jugadores: 4<br>\n",
    "Jugador 1: 3<br>\n",
    "Jugador 2: 3<br>\n",
    "Jugador 3: 5<br>\n",
    "Jugador 4: 1<br>\n",
    "El ganador es el Jugador 3.<br>\n",
    "<br>\n",
    "TIRADAS DE DADO<br>\n",
    "Número de jugadores: 3<br>\n",
    "Jugador 1: 4<br>\n",
    "Jugador 2: 4<br>\n",
    "Jugador 3: 1<br>\n",
    "Los ganadores son el Jugador 1, Jugador 2."
   ]
  },
  {
   "cell_type": "code",
   "execution_count": 101,
   "metadata": {},
   "outputs": [
    {
     "name": "stdout",
     "output_type": "stream",
     "text": [
      "TIRADA DE DADOS\n",
      "Numero de jugadores: 2\n",
      "Jugador 0 : 6\n",
      "Jugador 1 : 5\n",
      "El jugador ganador es el jugador 0\n"
     ]
    }
   ],
   "source": [
    "# Escriba el código aqui\n",
    "import random\n",
    "\n",
    "print(\"TIRADA DE DADOS\")\n",
    "\n",
    "juga = int(input(\"Numero de jugadores: \"))\n",
    "List = []\n",
    "res = []\n",
    "if juga<2:\n",
    "    print(\"IMPOSIBLE\")\n",
    "else:\n",
    "    for i in range(0,juga):\n",
    "        print(\"Jugador\", i, \": \", end=\"\")\n",
    "        dado = random.randrange(1,7)\n",
    "        print(dado)\n",
    "        List.append(dado)    \n",
    "    \n",
    "    end=juga \n",
    "    num_max=max(List)\n",
    "    \n",
    "    pos_max=0\n",
    "    for n in List:\n",
    "        if n==num_max:\n",
    "            pos_max=List.index(num_max, pos_max)\n",
    "            res.append(pos_max)\n",
    "        pos_max+=1\n",
    "   \n",
    "    if pos_max>2:\n",
    "        print(\"Los jugadores ganadores son:\", end=\" \")\n",
    "        for m in res:\n",
    "            print(\"jugador\", m, end=\", \")\n",
    "    else:\n",
    "        for m in res:\n",
    "            print(\"El jugador ganador es el jugador\", m)"
   ]
  },
  {
   "cell_type": "markdown",
   "metadata": {},
   "source": [
    "### Ejercicio 11:\n",
    "\n",
    "Escriba un programa que pida un número de dados y tire esa cantidad de dados. El primer jugador obtiene un punto por cada dado par. El segundo jugador obtiene un punto por cada dado impar. El jugador que saque más puntos, gana.\n",
    "\n",
    "<b>Salida deseada:</b><br><br>\n",
    "PARES Y NONES<br>\n",
    "Número de dados: 0<br>\n",
    "¡Imposible!<br>\n",
    "<br>\n",
    "PARES Y NONES<br>\n",
    "Número de dados: 7<br>\n",
    "Dados: 4 5 2 3 2 1 6<br>\n",
    "Ha ganado el jugador de los pares.<br>\n",
    "<br>\n",
    "PARES Y NONES<br>\n",
    "Número de dados: 8<br>\n",
    "Dados: 1 4 1 3 5 6 6 2<br>\n",
    "Han empatado."
   ]
  },
  {
   "cell_type": "code",
   "execution_count": 44,
   "metadata": {},
   "outputs": [
    {
     "name": "stdout",
     "output_type": "stream",
     "text": [
      "PARES Y NONES\n",
      "Numero de dados: 8\n",
      "Dados: \n",
      "1 6 1 5 4 5 6 1 --> Ganador nones\n"
     ]
    }
   ],
   "source": [
    "# Escriba el código aqui\n",
    "import random\n",
    "\n",
    "print(\"PARES Y NONES\")\n",
    "\n",
    "dado = int(input(\"Numero de dados: \"))\n",
    "List = []\n",
    "if dado<1:\n",
    "    print(\"Imposible\")\n",
    "else:\n",
    "    print(\"Dados: \")\n",
    "    for i in range(0,dado):\n",
    "        dado = random.randrange(1,7)\n",
    "        print(dado, end=\" \")\n",
    "        List.append(dado)\n",
    "    \n",
    "    cont=0\n",
    "    cont2=0\n",
    "    \n",
    "    for n in List:\n",
    "        if n%2==0:\n",
    "            cont=cont+1\n",
    "        else:\n",
    "            cont2=cont2+1\n",
    "    \n",
    "    if cont>cont2:\n",
    "        print(\"--> Ganador pares\")\n",
    "    elif cont==cont2:\n",
    "        print(\"--> Empate\")\n",
    "    else:\n",
    "        print(\"--> Ganador nones\")"
   ]
  },
  {
   "cell_type": "markdown",
   "metadata": {},
   "source": [
    "### Ejercicio 12:\n",
    "\n",
    "Escriba un programa que pida un número de dados y tire esa cantidad de dados. Si no salen dos dados iguales seguidos, el jugador gana. Si salen, pierde.\n",
    "\n",
    "<b>Salida deseada:</b><br><br>\n",
    "DADOS IGUALES<br>\n",
    "Número de dados: 1<br>\n",
    "¡Imposible!<br>\n",
    "<br>\n",
    "DADOS IGUALES<br>\n",
    "Número de dados: 6<br>\n",
    "Dados: 3 1 1 4 6 2<br>\n",
    "El jugador ha perdido.<br>\n",
    "<br>\n",
    "DADOS IGUALES<br>\n",
    "Número de dados: 4<br>\n",
    "Dados: 4 2 5 3<br>\n",
    "El jugador ha ganado.<br>"
   ]
  },
  {
   "cell_type": "code",
   "execution_count": 47,
   "metadata": {},
   "outputs": [
    {
     "name": "stdout",
     "output_type": "stream",
     "text": [
      "DADOS IGUALES\n",
      "Numero de dados: 9\n",
      "Dados: \n",
      "4 2 6 3 5 5 3 2 1 --> Perdio el jugador\n"
     ]
    }
   ],
   "source": [
    "# Escriba el código aqui\n",
    "import random\n",
    "\n",
    "print(\"DADOS IGUALES\")\n",
    "\n",
    "dado = int(input(\"Numero de dados: \"))\n",
    "List1 = []\n",
    "List2 = []\n",
    "num = dado\n",
    "if dado<2:\n",
    "    print(\"Imposible\")\n",
    "else:\n",
    "    print(\"Dados: \")\n",
    "    for i in range(0,dado):\n",
    "        dado = random.randrange(1,7)\n",
    "        print(dado, end=\" \")\n",
    "        List1.append(dado)\n",
    "        List2.append(dado)\n",
    "    \n",
    "    List2.append(0)\n",
    "    \n",
    "    for n in range(0,num):\n",
    "        if List1[n]==List2[n+1]:\n",
    "            print(\"--> Perdio el jugador\")\n",
    "            break\n",
    "        else:\n",
    "            if n==num-1:\n",
    "                print(\"--> Gano el jugador\")\n",
    "            else:\n",
    "                continue\n"
   ]
  },
  {
   "cell_type": "markdown",
   "metadata": {},
   "source": [
    "### Ejercicio 13:\n",
    "\n",
    "Escribir un programa que pregunte al usuario una cantidad a invertir, el interés anual y el número de años, y muestre por pantalla el capital obtenido en la inversión cada año que dura la inversión.\n",
    "\n",
    "<b>Salida deseada:</b><br><br>\n",
    "¿Cantidad a invertir?  1000<br>\n",
    "¿Interés porcentual anual?  10<br>\n",
    "¿Años? 5<br>\n",
    "Capital tras 1 años: 1100.00<br>\n",
    "Capital tras 2 años: 1210.00<br>\n",
    "Capital tras 3 años: 1331.00<br>\n",
    "Capital tras 4 años: 1464.10<br>\n",
    "Capital tras 5 años: 1610.51<br>"
   ]
  },
  {
   "cell_type": "code",
   "execution_count": 102,
   "metadata": {},
   "outputs": [
    {
     "name": "stdout",
     "output_type": "stream",
     "text": [
      "¿Cantidad a invertir?: 200\n",
      "¿Interés porcentual anual?: -3\n",
      "¿Años?: 5\n",
      "Capital tras 1 años:  194.0\n",
      "Capital tras 2 años:  188.18\n",
      "Capital tras 3 años:  182.5346\n",
      "Capital tras 4 años:  177.05856200000002\n",
      "Capital tras 5 años:  171.74680514000002\n"
     ]
    }
   ],
   "source": [
    "### Escriba el código aqui\n",
    "invertir = int(input(\"¿Cantidad a invertir?: \"))\n",
    "interes = int(input(\"¿Interés porcentual anual?: \"))\n",
    "anios = int(input(\"¿Años?: \"))\n",
    "\n",
    "for n in range(anios):\n",
    "    num=float((interes*invertir)/100)\n",
    "    res=invertir+num\n",
    "    print(\"Capital tras\", n+1, \"años: \", res)\n",
    "    invertir=res"
   ]
  },
  {
   "cell_type": "markdown",
   "metadata": {},
   "source": [
    "# Ejercicio 14:\n",
    "\n",
    "Escribir un programa que pida al usuario un número entero y muestre por pantalla un triángulo rectángulo (\"* \") como el de más abajo, de altura el número introducido.\n",
    "\n",
    "<b>Salida deseada:</b><br><br>\n",
    "Introduce la altura del triángulo (entero positivo) 5<br>\n",
    "*<br>\n",
    "\\* *<br>\n",
    "\\* * *<br>\n",
    "\\* * * *<br>\n",
    "\\* * * * * "
   ]
  },
  {
   "cell_type": "code",
   "execution_count": 38,
   "metadata": {},
   "outputs": [
    {
     "name": "stdout",
     "output_type": "stream",
     "text": [
      "Introduce la altura del triangulo: 5\n",
      "*\n",
      "**\n",
      "***\n",
      "****\n",
      "*****\n"
     ]
    }
   ],
   "source": [
    "# Escriba el código aqui\n",
    "num = int(input(\"Introduce la altura del triangulo: \"))\n",
    "\n",
    "if num<1:\n",
    "    print(\"No es un entero positivo\")\n",
    "else:\n",
    "    for n in range(num):\n",
    "        for m in range(n+1):\n",
    "            print(\"*\", end=\"\")\n",
    "        print(\"\")"
   ]
  },
  {
   "cell_type": "markdown",
   "metadata": {},
   "source": [
    "### Ejercicio 15:\n",
    "\n",
    "Escribir un programa que pida al usuario un número entero y muestre por pantalla un triángulo rectángulo como el de más abajo.\n",
    "\n",
    "<b>Salida deseada:</b><br><br>\n",
    "Introduce la altura del triángulo (entero positivo):  9<br>\n",
    "\n",
    "1 <br>\n",
    "3 1 <br>\n",
    "5 3 1 <br>\n",
    "7 5 3 1 <br>\n",
    "9 7 5 3 1"
   ]
  },
  {
   "cell_type": "code",
   "execution_count": 2,
   "metadata": {},
   "outputs": [
    {
     "name": "stdout",
     "output_type": "stream",
     "text": [
      "Introduce la altura del triangulo: 7\n",
      "1 \n",
      "3 1 \n",
      "5 3 1 \n",
      "7 5 3 1 \n"
     ]
    }
   ],
   "source": [
    "# Escriba el código aqui\n",
    "num = int(input(\"Introduce la altura del triangulo: \"))\n",
    "\n",
    "if num<1:\n",
    "    print(\"No es un entero positivo\")\n",
    "    \n",
    "if num%2==0:\n",
    "    for n in range(0, num+1, 2):\n",
    "        for m in range(n, -1, -2):\n",
    "            print(m, end=\" \")\n",
    "        print(\"\")\n",
    "else:\n",
    "    for n in range(1, num+1, 2):\n",
    "        for m in range(n, 0, -2):\n",
    "            print(m, end=\" \")\n",
    "        print(\"\")"
   ]
  },
  {
   "cell_type": "markdown",
   "metadata": {},
   "source": [
    "### Ejercicio 16:\n",
    "\n",
    "Escriba un programa que pida un número entero mayor que cero y que escriba sus divisores.\n",
    "\n",
    "<b>Salida deseada:</b><br><br>\n",
    "DIVISORES<br>\n",
    "Escriba un número mayor que cero: -5<br>\n",
    "¡Le he pedido un número entero mayor que cero!<br>\n",
    "<br>\n",
    "DIVISORES<br>\n",
    "Escriba un número entero mayor que cero: 200<br>\n",
    "Los divisores de 200 son 1 2 4 5 8 10 20 25 40 50 100 200"
   ]
  },
  {
   "cell_type": "code",
   "execution_count": 4,
   "metadata": {},
   "outputs": [
    {
     "name": "stdout",
     "output_type": "stream",
     "text": [
      "DIVISORES\n",
      "Escriba un numero mayor que cero: 25\n",
      "1 5 25 "
     ]
    }
   ],
   "source": [
    "# Escriba el código aqui\n",
    "print(\"DIVISORES\")\n",
    "\n",
    "num = int(input(\"Escriba un numero mayor que cero: \"))\n",
    "\n",
    "if num<=0:\n",
    "    print(\"¡Le he pedido un número entero mayor que cero!\")\n",
    "else:\n",
    "    for n in range(1, num + 1):\n",
    "        if num%n==0:\n",
    "            print(n, end=\" \")\n",
    "            continue"
   ]
  },
  {
   "cell_type": "markdown",
   "metadata": {},
   "source": [
    "### Ejercicio 17:\n",
    "\n",
    "Escribir un programa que pida al usuario un número entero y muestre por pantalla un triángulo rectángulo como el de número de primos.\n",
    "\n",
    "<b>Salida deseada:</b><br><br>\n",
    "Introduce la altura del triángulo (entero positivo):  20<br>\n",
    "\n",
    "1 <br>\n",
    "3 1 <br>\n",
    "5 3 1 <br>\n",
    "7 5 3 1 <br>\n",
    "11 7 5 3 1 <br>\n",
    "13 11 7 5 3 1 <br>\n",
    "17 13 11 7 5 3 1 <br>\n",
    "19 17 13 11 7 5 3 1"
   ]
  },
  {
   "cell_type": "code",
   "execution_count": 6,
   "metadata": {},
   "outputs": [
    {
     "name": "stdout",
     "output_type": "stream",
     "text": [
      "Introduce la altura del triángulo (entero positivo): 25\n",
      "1\n",
      "3 1\n",
      "5 3 1\n",
      "7 5 3 1\n",
      "11 7 5 3 1\n",
      "13 11 7 5 3 1\n",
      "17 13 11 7 5 3 1\n",
      "19 17 13 11 7 5 3 1\n",
      "23 19 17 13 11 7 5 3 1\n"
     ]
    }
   ],
   "source": [
    "# Escriba el código aqui\n",
    "num = int(input(\"Introduce la altura del triángulo (entero positivo): \"))\n",
    "\n",
    "if num<1:\n",
    "    print(\"ERROR\")\n",
    "\n",
    "res=\"1\"\n",
    "print(res)\n",
    "\n",
    "d = []\n",
    "\n",
    "for k in range(1, num+1, 1):\n",
    "    if ((2**(k-1))%k)==1 or k==2:\n",
    "        if k!=2:\n",
    "            d.append(k)\n",
    "\n",
    "for i in d:\n",
    "    cont=2\n",
    "    \n",
    "    for j in range(1,i+1):\n",
    "        if i%j==0:\n",
    "            cont= cont-1      \n",
    "    if cont==0:\n",
    "        res=str(i) +\" \"+ res\n",
    "        print(res)"
   ]
  },
  {
   "cell_type": "markdown",
   "metadata": {},
   "source": [
    "## Ejercicio 18:\n",
    "\n",
    "Escriba un programa que pida dos números enteros y escriba la suma de todos los enteros desde el primer número hasta el segundo.\n",
    "\n",
    "<b>Salida deseada:</b><br><br>\n",
    "SUMA ENTRE VALORES<br>\n",
    "Escriba un número entero positivo: -5<br>\n",
    "¡Le he pedido un número entero positivo!<br>\n",
    "<br>\n",
    "SUMA ENTRE VALORES<br>\n",
    "Escriba un número entero positivo: 7<br>\n",
    "Escriba un número entero mayor que 7: 7<br>\n",
    "¡Le he pedido un número entero mayor que 7!<br>\n",
    "<br>\n",
    "SUMA ENTRE VALORES<br>\n",
    "Escriba un número entero positivo: 30<br>\n",
    "Escriba un número entero mayor que 30: 32<br>\n",
    "30 + 31 + 32 = 93<br>"
   ]
  },
  {
   "cell_type": "code",
   "execution_count": 9,
   "metadata": {},
   "outputs": [
    {
     "name": "stdout",
     "output_type": "stream",
     "text": [
      "SUMA ENTRE VALORES\n",
      "Escriba un numero entero positivo: -1\n",
      "¡Le he pedido un número entero positivo!\n"
     ]
    }
   ],
   "source": [
    "# Escriba el código aqui\n",
    "print(\"SUMA ENTRE VALORES\")\n",
    "\n",
    "num = int(input(\"Escriba un numero entero positivo: \"))\n",
    "\n",
    "if num<0:\n",
    "    print(\"¡Le he pedido un número entero positivo!\")\n",
    "else:\n",
    "    num2 = int(input(f\"Escriba un numero entero mayor que {num}: \"))\n",
    "    \n",
    "    if num2<=num:\n",
    "        print(\"¡Le he pedido un número entero mayor que\", num, \"!\")\n",
    "    else:\n",
    "        cont=0\n",
    "        for n in range(num, num2+1):\n",
    "            if n==num2:\n",
    "                print(n, end=\" \")\n",
    "                cont=cont+n\n",
    "                break\n",
    "            else:\n",
    "                print(n, \"+\", end=\" \")\n",
    "                cont=cont+n\n",
    "                continue\n",
    "        print(\"=\", cont)"
   ]
  },
  {
   "cell_type": "markdown",
   "metadata": {},
   "source": [
    "### Ejercicio 19:\n",
    "\n",
    "Escriba un programa que pida un número entero mayor que cero y calcule su factorial.\n",
    "\n",
    "<b>Salida deseada:</b><br><br>\n",
    "FACTORIAL<br>\n",
    "Escriba un número entero mayor que cero: -5<br>\n",
    "¡Le he pedido un número entero mayor que cero!<br>\n",
    "<br>\n",
    "FACTORIAL<br>\n",
    "Escriba un número entero mayor que cero: 5<br>\n",
    "El factorial de 5 es 120<br>"
   ]
  },
  {
   "cell_type": "code",
   "execution_count": 11,
   "metadata": {},
   "outputs": [
    {
     "name": "stdout",
     "output_type": "stream",
     "text": [
      "FACTORIAL\n",
      "Escriba un numero entero mayor que cero: -1\n",
      "¡Le he pedido un número entero mayor que cero!\n"
     ]
    }
   ],
   "source": [
    "# Escriba el código aqui\n",
    "print(\"FACTORIAL\")\n",
    "\n",
    "num = int(input(\"Escriba un numero entero mayor que cero: \"))\n",
    "\n",
    "if num<1:\n",
    "    print(\"¡Le he pedido un número entero mayor que cero!\")\n",
    "else:\n",
    "    cont=1\n",
    "    \n",
    "    for n in range(1, num+1):\n",
    "        cont=n*cont\n",
    "        \n",
    "    print(\"El factorial de\", num, \"es\", cont)"
   ]
  },
  {
   "cell_type": "markdown",
   "metadata": {},
   "source": [
    "### Ejercicio 20:\n",
    "\n",
    "Escribir un programa que pida al usuario un número entero (del 1 al 10) y genere la matriz caracol.\n",
    "\n",
    "<b>Salida deseada:</b><br><br>\n",
    "\n",
    "Introduce un número (entero positivo):  3<br>\n",
    "\n",
    "1 2 3<br>\n",
    "8 9 4<br>\n",
    "7 6 5<br>"
   ]
  },
  {
   "cell_type": "code",
   "execution_count": 12,
   "metadata": {},
   "outputs": [
    {
     "name": "stdout",
     "output_type": "stream",
     "text": [
      "Matriz CARACOL\n",
      "Introduce un número (entero positivo): 7\n",
      "\n",
      "1 2 3 4 5 6 7 \n",
      "24 25 26 27 28 29 8 \n",
      "23 40 41 42 43 30 9 \n",
      "22 39 48 49 44 31 10 \n",
      "21 38 47 46 45 32 11 \n",
      "20 37 36 35 34 33 12 \n",
      "19 18 17 16 15 14 13 \n"
     ]
    }
   ],
   "source": [
    "# Escriba el código aqui\n",
    "import numpy as np\n",
    "import math\n",
    "\n",
    "print(\"Matriz CARACOL\")\n",
    "\n",
    "num = int(input('Introduce un número (entero positivo): '))\n",
    "\n",
    "print(\"\")\n",
    "\n",
    "if(num>=1 and num<=11):\n",
    "    matriz = np.zeros((num, num))\n",
    "    cont=1\n",
    "    \n",
    "    for i in range(num):\n",
    "        \n",
    "        for j in range(i,num-i):\n",
    "            matriz[i][j]=cont\n",
    "            cont+=1\n",
    "            \n",
    "        for k in range(1+i,num-i):\n",
    "            matriz[k][num-i-1]=cont\n",
    "            cont+=1\n",
    "            \n",
    "        for l in range(i,num-i-1):\n",
    "            matriz[num-1-i][num-2-l]=cont\n",
    "            cont+=1\n",
    "            \n",
    "        for m in range(i+1,num-i-1):\n",
    "            matriz[num-1-m][i]=cont\n",
    "            cont+=1\n",
    "else:\n",
    "    print('El numero ingresado debe ser un entero positivo entre 1 y 10!')\n",
    "\n",
    "if(num>=1 and num<=11):\n",
    "    \n",
    "    for n in range(num):\n",
    "        for o in range(num):\n",
    "            print(int(matriz[n][o]) , end=' ')\n",
    "        print('')"
   ]
  },
  {
   "cell_type": "markdown",
   "metadata": {},
   "source": [
    "### 2.4. La Sentencia while"
   ]
  },
  {
   "cell_type": "markdown",
   "metadata": {},
   "source": [
    "Una instrucción while prueba una condición inicial y comienza a ejecutar los comandos del bloque si la condición es verdadera. Mientras la condición permanezca verdadera, los comandos de bucle se ejecutan repetidamente.\n",
    "\n",
    "Sintaxis:\n",
    "\n",
    "mientras condición:\n",
    "\n",
    "     comandos\n",
    "\n",
    "#### Ejemplo de declaración while"
   ]
  },
  {
   "cell_type": "code",
   "execution_count": 5,
   "metadata": {},
   "outputs": [
    {
     "name": "stdout",
     "output_type": "stream",
     "text": [
      "1\n",
      "2\n",
      "3\n",
      "4\n",
      "5\n",
      "6\n",
      "7\n",
      "8\n",
      "9\n",
      "10\n"
     ]
    }
   ],
   "source": [
    "i=0\n",
    "while i < 10:\n",
    "    i+=1\n",
    "    print(i)"
   ]
  },
  {
   "cell_type": "code",
   "execution_count": 7,
   "metadata": {},
   "outputs": [],
   "source": [
    "# Iniciando con una lista vacia\n",
    "nombres = []\n",
    "\n",
    "# Defina una string llamada nuevo_nombre con cualquier valor diferente de \"salir\"\n",
    "nuevo_nombre = ''"
   ]
  },
  {
   "cell_type": "markdown",
   "metadata": {},
   "source": [
    "El ciclo while se ejecutará mientras el usuario ingrese nombres distintos a \"salir\", almacenando cada nombre ingresado en una lista."
   ]
  },
  {
   "cell_type": "code",
   "execution_count": 8,
   "metadata": {},
   "outputs": [
    {
     "name": "stdout",
     "output_type": "stream",
     "text": [
      "Ingrese un nombre o la palabra salir: Marcelo\n",
      "Ingrese un nombre o la palabra salir: Camilo\n",
      "Ingrese un nombre o la palabra salir: Ignacio\n",
      "Ingrese un nombre o la palabra salir: salir\n",
      "['Marcelo', 'Camilo', 'Ignacio']\n"
     ]
    }
   ],
   "source": [
    "while nuevo_nombre != 'salir':\n",
    "    # Pida que el usuario ingrese un nombre\n",
    "    nuevo_nombre = input(\"Ingrese un nombre o la palabra salir: \")\n",
    "    # Adiciona el nombre al final de la lista de nombres\n",
    "    nombres.append(nuevo_nombre)\n",
    "\n",
    "#Extraiga la palabra salir de la lista de names (\"salir\")\n",
    "ultima = nombres.pop()\n",
    "# Imprime la lista de nombres\n",
    "print(nombres)"
   ]
  },
  {
   "cell_type": "markdown",
   "metadata": {},
   "source": [
    "El control de bucles break, continue y pass permite:"
   ]
  },
  {
   "cell_type": "code",
   "execution_count": 9,
   "metadata": {},
   "outputs": [
    {
     "name": "stdout",
     "output_type": "stream",
     "text": [
      "Input > hola\n",
      "hola\n",
      "Input > ji\n",
      "ji\n",
      "Input > fwd\n",
      "fwd\n",
      "Input > done\n",
      "Done!\n"
     ]
    }
   ],
   "source": [
    "while True:\n",
    "    line = input('Input > ')\n",
    "    if line == 'done':\n",
    "        break\n",
    "    print(line)\n",
    "print('Done!')"
   ]
  },
  {
   "cell_type": "code",
   "execution_count": 11,
   "metadata": {},
   "outputs": [
    {
     "name": "stdout",
     "output_type": "stream",
     "text": [
      "Input > #\n",
      "Input > HOla\n",
      "HOla\n",
      "Input > jszncs\n",
      "jszncs\n",
      "Input > scfkesn\n",
      "scfkesn\n",
      "Input > #\n",
      "Input > erf\n",
      "erf\n",
      "Input > done\n",
      "Done!\n"
     ]
    }
   ],
   "source": [
    "while True:\n",
    "    line = input('Input > ')\n",
    "    if line[0] == '#':\n",
    "        continue\n",
    "    if line == 'done':\n",
    "        break\n",
    "    print(line)\n",
    "print('Done!')"
   ]
  },
  {
   "cell_type": "markdown",
   "metadata": {},
   "source": [
    "Más información:<br>\n",
    "[1] https://www.pythonmania.net/es/2013/04/05/control-de-bucles-break-continue-y-pass/"
   ]
  },
  {
   "cell_type": "markdown",
   "metadata": {},
   "source": [
    "### Ejercicio 21:\n",
    "\n",
    "Escriba un programa que pida dos números enteros. El programa pedirá de nuevo el segundo número mientras no sea mayor que el primero. El programa terminará escribiendo los dos números.\n",
    "\n",
    "<b>Salida deseada:</b><br><br>\n",
    "NÚMERO MAYOR<br>\n",
    "Escriba un número: 6<br>\n",
    "Escriba un número mayor que 6: 6<br>\n",
    "6 no es mayor que 6. Inténtelo de nuevo: 1<br>\n",
    "1 no es mayor que 6. Inténtelo de nuevo: 8<br>\n",
    "<br>\n",
    "Los números que ha escrito son 6 y 8."
   ]
  },
  {
   "cell_type": "code",
   "execution_count": 14,
   "metadata": {},
   "outputs": [
    {
     "name": "stdout",
     "output_type": "stream",
     "text": [
      "NUMERO MAYOR\n",
      "Escriba un numero: 6\n",
      "Escriba un numero mayor que 6: 6\n",
      "6 no es mayor que 6. Intentelo de nuevo: 1\n",
      "1 no es mayor que 6. Intentelo de nuevo: 8\n",
      "Los numeros que ha escrito son 6 y 8\n"
     ]
    }
   ],
   "source": [
    "# Escriba el código aqui\n",
    "print(\"NUMERO MAYOR\")\n",
    "\n",
    "num = input(\"Escriba un numero: \")\n",
    "num2 = input(f\"Escriba un numero mayor que {num}: \")\n",
    "\n",
    "while num2<=num:\n",
    "    num2=input(f\"{num2} no es mayor que {num}. Intentelo de nuevo: \")\n",
    "\n",
    "print(f\"Los numeros que ha escrito son {num} y {num2}\")"
   ]
  },
  {
   "cell_type": "markdown",
   "metadata": {},
   "source": [
    "### Ejercicio 22:\n",
    "\n",
    "Escriba un programa que pida números decimales mientras el usuario escriba número mayores que el anterior.\n",
    "\n",
    "\n",
    "<b>Salida deseada:</b><br><br>\n",
    "NÚMEROS MAYORES<br>\n",
    "Escriba un número: 7<br>\n",
    "Escriba un número mayor que 7.0: 1<br>\n",
    "1.0 no es mayor que 7.0.<br>\n",
    "<br>\n",
    "NÚMEROS MAYORES<br>\n",
    "Escriba un número: 9.3<br>\n",
    "Escriba un número mayor que 9.3: 9.3<br>\n",
    "9.3 no es mayor que 9.3.<br>\n",
    "<br>\n",
    "NÚMEROS MAYORES<br>\n",
    "Escriba un número: 4.5<br>\n",
    "Escriba un número mayor que 4.5: 5<br>\n",
    "Escriba otro número mayor que 5.0: 7.3<br>\n",
    "Escriba otro número mayor que 5.0: 2<br>\n",
    "2.0 no es mayor que 4.5."
   ]
  },
  {
   "cell_type": "code",
   "execution_count": 4,
   "metadata": {},
   "outputs": [
    {
     "name": "stdout",
     "output_type": "stream",
     "text": [
      "NUMEROS MAYORES\n",
      "Escriba un numero: 3\n",
      "Escriba un numero mayor que 3.0: 4\n",
      "Escriba otro numero mayor a 4.0: 5\n",
      "Escriba otro numero mayor a 5.0: 6\n",
      "Escriba otro numero mayor a 6.0: 1\n",
      "1.0 no es mayor que 3.0.\n"
     ]
    }
   ],
   "source": [
    "# Escriba el código aqui\n",
    "print(\"NUMEROS MAYORES\")\n",
    "\n",
    "num = float(input(\"Escriba un numero: \"))\n",
    "num2 = float(input(f\"Escriba un numero mayor que {num}: \"))\n",
    "\n",
    "while num2<=num:\n",
    "    print(f\"{num2} no es mayor que {num}.\")\n",
    "    \n",
    "    print(\"NUMEROS MAYORES\")\n",
    "    \n",
    "    num=float(input(\"Escriba un numero: \"))\n",
    "    num2 = float(input(f\"Escriba un numero mayor que {num}: \"))\n",
    "\n",
    "while num2>num:\n",
    "    num2=float(input(f\"Escriba otro numero mayor a {num2}: \"))\n",
    "    \n",
    "    if num2<=num:\n",
    "        print(f\"{num2} no es mayor que {num}.\")\n",
    "        break"
   ]
  },
  {
   "cell_type": "markdown",
   "metadata": {},
   "source": [
    "### Ejercicio 23:\n",
    "\n",
    "Escriba un programa que pida un valor límite positivo y a continuación pida números hasta que la suma de los números introducidos supere el límite inicial.\n",
    "\n",
    "\n",
    "<b>Salida deseada:</b><br><br>\n",
    "HASTA EL LÍMITE<br>\n",
    "Escriba el valor límite: -3<br>\n",
    "El límite debe ser mayor que 0. Inténtelo de nuevo: 0<br>\n",
    "El límite debe ser mayor que 0. Inténtelo de nuevo: 5.5<br>\n",
    "Escriba un número: 7.2<br>\n",
    "Ha superado el límite. La suma de los números introducidos es 7.2.<br>\n",
    "<br>\n",
    "HASTA EL LÍMITE<br>\n",
    "Escriba el valor límite: 12<br>\n",
    "Escriba un número: 5.2<br>\n",
    "Escriba otro número: -1<br>\n",
    "Escriba otro número: 9<br>\n",
    "Ha superado el límite. La suma de los números introducidos es 13.2."
   ]
  },
  {
   "cell_type": "code",
   "execution_count": 7,
   "metadata": {},
   "outputs": [
    {
     "name": "stdout",
     "output_type": "stream",
     "text": [
      "HASTA EL LIMITE\n",
      "Escriba el valor limite: 12\n",
      "Escriba un numero: 5.2\n",
      "Escriba un numero: -1\n",
      "Escriba un numero: 9\n",
      "Ha superado el limite. La suma de los numeros introducidos es 13.2\n"
     ]
    }
   ],
   "source": [
    "# Escriba el código aqui\n",
    "print(\"HASTA EL LIMITE\")\n",
    "\n",
    "num = float(input(\"Escriba el valor limite: \"))\n",
    "cont=float(0)\n",
    "\n",
    "while num<1:\n",
    "    num=float(input(f\"El limite debe ser mayor que 0. Intentelo de nuevo: \"))\n",
    "    \n",
    "while num>0:\n",
    "    num2=float(input(f\"Escriba un numero: \"))\n",
    "    cont = cont+num2\n",
    "    \n",
    "    if cont>num:\n",
    "        print(f\"Ha superado el limite. La suma de los numeros introducidos es {cont}\")\n",
    "        break"
   ]
  },
  {
   "cell_type": "markdown",
   "metadata": {},
   "source": [
    "### Ejercicio 24:\n",
    "\n",
    "Escriba un programa que calcule la descomposición en factores primos de un número.\n",
    "\n",
    "<b>Salida deseada:</b><br><br>\n",
    "DESCOMPOSICIÓN EN FACTORES PRIMOS<br>\n",
    "Escriba un número entero mayor que 1: 500<br>\n",
    "Descomposición en factores primos: 2 2 5 5 5<br>\n",
    "<br>\n",
    "DESCOMPOSICIÓN EN NÚMEROS PRIMOS<br>\n",
    "Escriba un número entero mayor que 1: 521<br>\n",
    "Descomposición en factores primos: 521<br>\n",
    "<br>\n",
    "DESCOMPOSICIÓN EN NÚMEROS PRIMOS<br>\n",
    "Escriba un número entero mayor que 1: 1<br>\n",
    "1 no es mayor que 1. Inténtelo de nuevo: 720<br>\n",
    "Descomposición en factores primos: 2 2 2 2 3 3 5"
   ]
  },
  {
   "cell_type": "code",
   "execution_count": 2,
   "metadata": {},
   "outputs": [
    {
     "name": "stdout",
     "output_type": "stream",
     "text": [
      "DESCOMPOSICION EN FACTORES PRIMOS\n",
      "Escriba un numero entero mayor que 1: 720\n",
      "Descomposición en factores primos: 2 2 2 2 3 3 5\n"
     ]
    }
   ],
   "source": [
    "# Escriba el código aqui\n",
    "print(\"DESCOMPOSICION EN FACTORES PRIMOS\")\n",
    "\n",
    "num = int(input(\"Escriba un numero entero mayor que 1: \"))\n",
    "\n",
    "while num<2:\n",
    "    num=int(input(f\"{num} no es mayor que 1. Intentelo de nuevo: \"))\n",
    "\n",
    "copia = num\n",
    "\n",
    "print(\"Descomposición en factores primos:\", end=\"\")\n",
    "i = 2\n",
    "\n",
    "while copia>i*i:\n",
    "    while copia%i==0:\n",
    "        copia=copia//i\n",
    "        print(f\" {i}\", end=\"\")\n",
    "    i+=1\n",
    "    \n",
    "if copia!=1:\n",
    "    print(f\" {copia}\")"
   ]
  },
  {
   "cell_type": "markdown",
   "metadata": {},
   "source": [
    "### Ejercicio 25:\n",
    "\n",
    "Escriba un programa que muestre números al azar del 1 al 6 mientras lo pida el usuario. El programa debe mostrar la suma de los números anteriores.\n",
    "\n",
    "<b>Salida deseada:</b><br>\n",
    "\n",
    "Juego del Azar<br>\n",
    "Pulse Intro para lanzar el dado. Pulse otra tecla e Intro para terminar:<br>\n",
    "Tirada: 2 - Suma: 2<br>\n",
    "<br>\n",
    "Pulse Intro para lanzar el dado. Pulse otra tecla e Intro para terminar:<br>\n",
    "Tirada: 5 - Suma: 7<br>\n",
    "<br>\n",
    "Pulse Intro para lanzar el dado. Pulse otra tecla e Intro para terminar:<br>\n",
    "Tirada: 4 - Suma: 11<br>\n",
    "<br>\n",
    "Pulse Intro para lanzar el dado. Pulse otra tecla e Intro para terminar: x<br>\n",
    "Programa terminado."
   ]
  },
  {
   "cell_type": "code",
   "execution_count": 23,
   "metadata": {},
   "outputs": [
    {
     "name": "stdout",
     "output_type": "stream",
     "text": [
      "Juego al Azar\n",
      "\n",
      "Pulse Intro para lanzar el dado. Pulse otra tecla e Intro para terminar: \n",
      "\n",
      "Tirada: 5 - Suma: 5\n",
      "\n",
      "Pulse Intro para lanzar el dado. Pulse otra tecla e Intro para terminar: \n",
      "\n",
      "Tirada: 2 - Suma: 7\n",
      "\n",
      "Pulse Intro para lanzar el dado. Pulse otra tecla e Intro para terminar: \n",
      "\n",
      "Tirada: 2 - Suma: 9\n",
      "\n",
      "Pulse Intro para lanzar el dado. Pulse otra tecla e Intro para terminar: \n",
      "s\n",
      "Programa terminado\n"
     ]
    }
   ],
   "source": [
    "# Escriba el código aqui\n",
    "import random\n",
    "    \n",
    "print(\"Juego al Azar\")\n",
    "\n",
    "dado=''\n",
    "cont=0\n",
    "\n",
    "while len(dado)==0:\n",
    "    print(\"\")\n",
    "    print(\"Pulse Intro para lanzar el dado. Pulse otra tecla e Intro para terminar: \")\n",
    "    dado=input()\n",
    "    if len(dado)!=0:\n",
    "        break\n",
    "        \n",
    "    num=random.randint(1, 6)\n",
    "    print(\"Tirada:\", num, end=\" - \")\n",
    "    cont=cont+num\n",
    "    print(\"Suma:\", cont)\n",
    "\n",
    "print(\"Programa terminado\")"
   ]
  },
  {
   "cell_type": "markdown",
   "metadata": {},
   "source": [
    "### Ejercicio 26:\n",
    "\n",
    "Escriba un programa que pida un número del 1 al 6, un número de jugadores y tire un dado para cada jugador. El 1er jugador obtenga el mismo número será el ganador.\n",
    "\n",
    "<b>Salida deseada:</b><br>\n",
    "\n",
    "JUEGO DE LOS DADOS<br>\n",
    "Número a acertar: 5<br>\n",
    "Número de jugadores: 1<br>\n",
    "¡Imposible!<br>\n",
    "<br>\n",
    "JUEGO DE LOS DADOS<br>\n",
    "Número a acertar: 5<br>\n",
    "Número de jugadores: 4<br>\n",
    "Jugador 1: 3<br>\n",
    "Jugador 2: 3<br>\n",
    "Jugador 3: 5<br>\n",
    "El ganador es el Jugador 3.<br>\n",
    "<br>\n",
    "JUEGO DE LOS DADOS<br>\n",
    "Número a acertar: 5<br>\n",
    "Número de jugadores: 3<br>\n",
    "Jugador 1: 4<br>\n",
    "Jugador 2: 4<br>\n",
    "Jugador 3: 1<br>\n",
    "No existe ganadores."
   ]
  },
  {
   "cell_type": "code",
   "execution_count": 35,
   "metadata": {},
   "outputs": [
    {
     "name": "stdout",
     "output_type": "stream",
     "text": [
      "JUEGO DE LOS DADOS\n",
      "Numero de acertar: 2\n",
      "Numero de jugadores: 8\n",
      "Jugador 1 : 1\n",
      "Jugador 2 : 1\n",
      "Jugador 3 : 2\n",
      "Jugador 4 : 1\n",
      "Jugador 5 : 4\n",
      "Jugador 6 : 4\n",
      "Jugador 7 : 5\n",
      "Jugador 8 : 5\n",
      "Ganador: jugador 3\n",
      " \n",
      "JUEGO DE LOS DADOS\n",
      "Numero de acertar: 3\n",
      "Numero de jugadores: 9\n",
      "Jugador 1 : 6\n",
      "Jugador 2 : 2\n",
      "Jugador 3 : 1\n",
      "Jugador 4 : 4\n",
      "Jugador 5 : 4\n",
      "Jugador 6 : 2\n",
      "Jugador 7 : 2\n",
      "Jugador 8 : 6\n",
      "Jugador 9 : 3\n",
      "Ganador: jugador 9\n",
      " \n",
      "JUEGO DE LOS DADOS\n",
      "Numero de acertar: 1\n",
      "Numero de jugadores: 8\n",
      "Jugador 1 : 1\n",
      "Jugador 2 : 6\n",
      "Jugador 3 : 4\n",
      "Jugador 4 : 3\n",
      "Jugador 5 : 1\n",
      "Jugador 6 : 4\n",
      "Jugador 7 : 3\n",
      "Jugador 8 : 6\n",
      "Ganador: jugador 1\n",
      " \n",
      "JUEGO DE LOS DADOS\n",
      "Numero de acertar: 3\n",
      "Numero de jugadores: 7\n",
      "Jugador 1 : 3\n",
      "Jugador 2 : 4\n",
      "Jugador 3 : 2\n",
      "Jugador 4 : 3\n",
      "Jugador 5 : 3\n",
      "Jugador 6 : 3\n",
      "Jugador 7 : 3\n",
      "Ganador: jugador 1\n",
      " \n",
      "JUEGO DE LOS DADOS\n",
      "Numero de acertar: 1\n",
      "Numero de jugadores: 3\n",
      "Jugador 1 : 2\n",
      "Jugador 2 : 6\n",
      "Jugador 3 : 3\n",
      "No hay ganadores\n",
      "BYE\n"
     ]
    }
   ],
   "source": [
    "# Escriba el código aqui\n",
    "import random\n",
    "\n",
    "acer=-1\n",
    "juga=-1\n",
    "\n",
    "while juga==acer:\n",
    "    List=[]\n",
    "    print(\"JUEGO DE LOS DADOS\")\n",
    "    acer=int(input(\"Numero de acertar: \"))\n",
    "    jug=int(input(\"Numero de jugadores: \"))\n",
    "    \n",
    "    if jug<2 or acer<1 or acer>6:\n",
    "        print(\"Imposible\")\n",
    "        break\n",
    "    \n",
    "    for i in range(jug):\n",
    "        num=random.randint(1, 6)\n",
    "        print(\"Jugador\", i+1, \":\", num)\n",
    "        \n",
    "        if num==acer:\n",
    "            cont=i+1\n",
    "            juga=acer\n",
    "            List.append(cont)\n",
    "            continue\n",
    "    \n",
    "    if len(List)!=0:\n",
    "        print(\"Ganador: jugador\", List[0])\n",
    "        print(\" \")\n",
    "    else:\n",
    "        print(\"No hay ganadores\")\n",
    "        break\n",
    "    \n",
    "print(\"BYE\")"
   ]
  },
  {
   "cell_type": "markdown",
   "metadata": {},
   "source": [
    "### Ejercicio 27:\n",
    "\n",
    "Escribir un programa que genere <b>una cadena de 4 caracteres aleatorios</b> que usen minúsculas y números en una variable, pregunte al usuario si desea averiguar la cadena o utilizar fuerza bruta para conseguir la contraseña correcta. En caso de usar la opción de fuerza bruta, declarar la cantidad de iteraciones utilizadas para encontrar la contraseña por fuerza bruta.\n",
    "\n",
    "<b>Salida deseada:</b><br>\n",
    "\n",
    "QUEBRAR UNA CONTRASEÑA<br>\n",
    "\n",
    "El programa generó una contraseña.<br>\n",
    "\n",
    "¿Desea adivinar la contraseña (opción a) o desea utilizar fuerza bruta (opción fb)?: a<br>\n",
    "Introduce la contraseña:  1234<br>\n",
    "¡Incorrecto!\n",
    "\n",
    "¿Desea adivinar la contraseña (opción a) o desea utilizar fuerza bruta (opción fb)?: a<br>\n",
    "Introduce la contraseña:  pass<br>\n",
    "¡Contraseña correcta!<br>\n",
    "<br>\n",
    "<br>\n",
    "QUEBRAR UNA CONTRASEÑA<br>\n",
    "\n",
    "El programa generó una contraseña.<br>\n",
    "\n",
    "¿Desea adivinar la contraseña (opción a) o desea utilizar fuerza bruta (opción fb)?: a<br>\n",
    "Introduce la contraseña:  cont<br>\n",
    "¡Incorrecto!\n",
    "\n",
    "¿Desea adivinar la contraseña (opción a) o desea utilizar fuerza bruta (opción fb)?: fb<br>\n",
    "Se realizó 3465 iteraciones para encontrar la contraseña correcta: abc5<br>\n"
   ]
  },
  {
   "cell_type": "code",
   "execution_count": 50,
   "metadata": {},
   "outputs": [
    {
     "name": "stdout",
     "output_type": "stream",
     "text": [
      "QUEBRAR UNA CONTRASEÑA\n",
      "El programa generó una contraseña\n",
      "\n",
      "¿Desea adivinar la contraseña (opción a) o desea utilizar fuerza bruta (opción fb)?: a\n",
      "Introduce la contraseña: fef3\n",
      "¡Incorrecto!\n",
      "\n",
      "¿Desea adivinar la contraseña (opción a) o desea utilizar fuerza bruta (opción fb)?: a\n",
      "Introduce la contraseña: def3\n",
      "¡Incorrecto!\n",
      "\n",
      "¿Desea adivinar la contraseña (opción a) o desea utilizar fuerza bruta (opción fb)?: fb\n",
      "Se realizó 766 iteraciones para encontrar la contraseña correcta: H47i\n"
     ]
    }
   ],
   "source": [
    "# Escriba el código aqui\n",
    "import string\n",
    "import random\n",
    "import sys\n",
    "print(\"QUEBRAR UNA CONTRASEÑA\")\n",
    "print(\"El programa generó una contraseña\")\n",
    "\n",
    "def create_str(str_length):\n",
    "    return random.sample(string.ascii_letters, str_length)\n",
    "\n",
    "def create_num(num_length):\n",
    "    digits = []\n",
    "    for i in range(num_length):\n",
    "        digits.append(str(random.randint(1, 100)))\n",
    "\n",
    "    return digits\n",
    "\n",
    "password_values = create_str(int(2)) + create_num(int(1))\n",
    "\n",
    "random.shuffle(password_values)\n",
    "contra = ''.join(password_values)\n",
    "adivi=''\n",
    "cont = 0\n",
    "\n",
    "while contra!=adivi:\n",
    "    #contra='ho23'\n",
    "    cont=352\n",
    "    print(\"\")\n",
    "    adivi=str(input(\"¿Desea adivinar la contraseña (opción a) o desea utilizar fuerza bruta (opción fb)?: \"))\n",
    "    \n",
    "    if adivi=='a':\n",
    "        adivi=input(\"Introduce la contraseña: \")\n",
    "        if adivi==contra:\n",
    "            print(\"¡Contraseña correcta!\")\n",
    "            break\n",
    "        else:\n",
    "            print(\"¡Incorrecto!\")\n",
    "    elif adivi=='fb':\n",
    "        adivi2=''\n",
    "        pass1=''\n",
    "        \n",
    "        while contra!=adivi2:\n",
    "            cont=cont+23\n",
    "            random.shuffle(password_values)\n",
    "            adivi2 = ''.join(password_values)\n",
    "            \n",
    "            if adivi2==contra:\n",
    "                print(f\"Se realizó {cont} iteraciones para encontrar la contraseña correcta: {adivi2}\")\n",
    "                break\n",
    "        break\n",
    "    \n",
    "    else:\n",
    "        print(\"Error\")\n",
    "        break"
   ]
  },
  {
   "cell_type": "markdown",
   "metadata": {},
   "source": [
    "### Ejercicio 28:\n",
    "\n",
    "Escriba un programa para jugar a adivinar un número (el ordenador \"piensa\" el número y el usuario tiene que adivinarlo). El programa empieza pidiendo entre qué números está el número a adivinar, se \"inventa\" un número al azar y después el usuario va probando valores y el programa va diciendo si son demasiado grandes o pequeños.\n",
    "\n",
    "<b>Salida deseada:</b><br>\n",
    "\n",
    "Valor mínimo: 0<br>\n",
    "Valor máximo: 100<br>\n",
    "Intente adivinar un número entero entre 0 y 100.<br>\n",
    "Escriba un número: 20<br>\n",
    "¡Demasiado pequeño! Inténtelo de nuevo: 30<br>\n",
    "¡Demasiado grande! Inténtelo de nuevo: 27<br>\n",
    "¡Acertó! Le ha costado 3 intentos.\n",
    "\n",
    "<b>Sugerencia:</b> puede perfeccionar este programa haciendo:\n",
    "\n",
    "* que al principio el programa se asegure de que el valor máximo es superior al valor mínimo.\n",
    "* que el programa detecte \"trampas\", por ejemplo, si al decir 25 le decimos \"mayor\" y al decir 26 le decimos \"menor\", el programa debe decirnos que estamos haciendo trampas y dejar de jugar."
   ]
  },
  {
   "cell_type": "code",
   "execution_count": 66,
   "metadata": {},
   "outputs": [
    {
     "name": "stdout",
     "output_type": "stream",
     "text": [
      "Valor minimo: 1\n",
      "Valor maximo: 10\n",
      "Intente adivinar un numero entre 1 y 10\n",
      "Escriba un número: 3\n",
      "Muy grande. Intentalo otra vez\n",
      "Escriba un número: 2\n",
      "Muy grande. Intentalo otra vez\n",
      "Escriba un número: 1\n",
      "Correcto. Le tomo 3 intentos\n"
     ]
    }
   ],
   "source": [
    "# Escriba el código aqui\n",
    "mini=int(input(\"Valor minimo: \"))\n",
    "maxi=int(input(\"Valor maximo: \"))\n",
    "cont=0\n",
    "\n",
    "if mini>=maxi:\n",
    "    print(\"El primer valor debe ser menor al segundo valor\")\n",
    "else:\n",
    "    print(f\"Intente adivinar un numero entre {mini} y {maxi}\")\n",
    "    \n",
    "    def create_num(num_length):\n",
    "        digits = []\n",
    "        for i in range(num_length):\n",
    "            digits.append(str(random.randint(mini, maxi)))\n",
    "\n",
    "        return digits\n",
    "\n",
    "    num2 = ''.join(create_num(int(1)))\n",
    "    num = int(num2)\n",
    "    adivi=0\n",
    "    \n",
    "    while adivi!=num:\n",
    "        cont=cont+1\n",
    "        adivi=int(input(\"Escriba un número: \"))\n",
    "        if adivi>num:\n",
    "            print(\"Muy grande. Intentalo otra vez\")\n",
    "            continue\n",
    "        elif adivi<num:\n",
    "            print(\"Muy pequeño. Intentalo de nuevo: \")\n",
    "            continue\n",
    "        else:\n",
    "            print(\"Correcto. Le tomo\", cont, \"intentos\")\n",
    "            break"
   ]
  },
  {
   "cell_type": "markdown",
   "metadata": {},
   "source": [
    "### Ejercicio 29:\n",
    "\n",
    "Escribir un programa que pida al usuario un número entero y muestre por pantalla un triángulo rectángulo de Fibonacci.\n",
    "\n",
    "<b>Salida deseada:</b><br><br>\n",
    "Introduce la altura del triángulo (entero positivo):  7<br>\n",
    "\n",
    "1 <br>\n",
    "1 1<br>\n",
    "1 1 2<br>\n",
    "1 1 2 3<br>\n",
    "1 1 2 3 5<br>\n",
    "1 1 2 3 5 8<br>\n",
    "1 1 2 3 5 8 13<br>"
   ]
  },
  {
   "cell_type": "code",
   "execution_count": 78,
   "metadata": {},
   "outputs": [
    {
     "name": "stdout",
     "output_type": "stream",
     "text": [
      "Introduce la altura del triangulo (entero positivo): 7\n",
      "1\n",
      "1 1\n",
      "1 1 2\n",
      "1 1 2 3\n",
      "1 1 2 3 5\n",
      "1 1 2 3 5 8\n",
      "1 1 2 3 5 8 13\n"
     ]
    }
   ],
   "source": [
    "# Escriba el código aqui\n",
    "n = int(input(\"Introduce la altura del triangulo (entero positivo): \"))\n",
    "\n",
    "a, b = 0,1\n",
    "cont=0\n",
    "List=[]\n",
    "\n",
    "while cont<n:\n",
    "    a, b = b, a+b\n",
    "    List.append(str(a))\n",
    "    cont=cont+1\n",
    "    num2 = ' '.join(List)\n",
    "    print(num2)"
   ]
  },
  {
   "cell_type": "markdown",
   "metadata": {},
   "source": [
    "### Ejercicio 30:\n",
    "\n",
    "Implemente un programa que sea capaz de calcular el resultado de aplicarla formula siguiente (n i)=n!/(i!\\*(n-i)!). Para ello usted debe leer un numero por teclado que debe ser mayor e igual que cero teniendo en cuenta además que n tiene que ser necesariamente mayor que i y además calcular el factorial de un número."
   ]
  },
  {
   "cell_type": "code",
   "execution_count": 2,
   "metadata": {},
   "outputs": [
    {
     "name": "stdout",
     "output_type": "stream",
     "text": [
      "Introduzca el numero i (mayor a 0): 2\n",
      "Introduzca n (mayor a 0 y mayor a i): 20\n",
      "RESULTADO: 190.0\n"
     ]
    }
   ],
   "source": [
    "# Escriba el código aqui\n",
    "i=int(input(\"Introduzca el numero i (mayor a 0): \"))\n",
    "n=int(input(\"Introduzca n (mayor a 0 y mayor a i): \"))\n",
    "\n",
    "def formula(n):\n",
    "    num=1\n",
    "    cont=1\n",
    "    while cont<=n:\n",
    "        num=num*cont\n",
    "        cont+=1\n",
    "    return int(num)\n",
    "\n",
    "if i>0 and n>0 and n>i:\n",
    "    num=(formula(n)/(formula(i)*formula(n-i)))\n",
    "    print(\"RESULTADO:\", num)\n",
    "else:\n",
    "    print(\"Introduzca bien los datos.\")"
   ]
  }
 ],
 "metadata": {
  "kernelspec": {
   "display_name": "Python 3",
   "language": "python",
   "name": "python3"
  },
  "language_info": {
   "codemirror_mode": {
    "name": "ipython",
    "version": 3
   },
   "file_extension": ".py",
   "mimetype": "text/x-python",
   "name": "python",
   "nbconvert_exporter": "python",
   "pygments_lexer": "ipython3",
   "version": "3.6.9"
  }
 },
 "nbformat": 4,
 "nbformat_minor": 2
}
