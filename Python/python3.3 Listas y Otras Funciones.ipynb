{
 "cells": [
  {
   "cell_type": "markdown",
   "metadata": {},
   "source": [
    "<img src=cenapad.jpg align=left><BR><BR><BR><BR><BR><BR>\n",
    "<h1>Curso Introducción al Lenguaje Python<br>Listas y Otras Funciones</h1>\n",
    "<img src=python-logo.png align=left>"
   ]
  },
  {
   "cell_type": "markdown",
   "metadata": {},
   "source": [
    "# 3. Listas\n",
    "\n",
    "## 3.1 Función range"
   ]
  },
  {
   "cell_type": "markdown",
   "metadata": {},
   "source": [
    "<b>range()</b> devuelve un objeto especial de tipo rango. Podemos usarlo para crear una lista de números que van desde un punto inicial hasta un punto final. También podemos especificar el tamaño del paso. Podemos usar la función rango (range) con 1, 2 o 3 argumentos."
   ]
  },
  {
   "cell_type": "code",
   "execution_count": 51,
   "metadata": {},
   "outputs": [
    {
     "name": "stdout",
     "output_type": "stream",
     "text": [
      "[0, 1, 2, 3, 4, 5, 6, 7, 8, 9]\n"
     ]
    }
   ],
   "source": [
    "#Un único argumento (final de range - intérvalo abierto).\n",
    "# Inicio default es 0. Paso default es 1.\n",
    "#Define una lista a partir de un range de 0 a 9 con paso 1\n",
    "r = list(range(10))\n",
    "print(r)"
   ]
  },
  {
   "cell_type": "code",
   "execution_count": 52,
   "metadata": {},
   "outputs": [
    {
     "name": "stdout",
     "output_type": "stream",
     "text": [
      "[5, 6, 7, 8, 9]\n"
     ]
    }
   ],
   "source": [
    "#Dos argumentos. (inicio do range - intervalo cerrado - \n",
    "# y final del range - intervalo abierto). Paso default es 1\n",
    "r2 = list(range(5,10))  #Intervalo cerrado es 5 y \n",
    "                        #abierto en 10 con paso de 1\n",
    "print(r2)"
   ]
  },
  {
   "cell_type": "code",
   "execution_count": 53,
   "metadata": {},
   "outputs": [
    {
     "name": "stdout",
     "output_type": "stream",
     "text": [
      "[10, 12, 14, 16, 18]\n"
     ]
    }
   ],
   "source": [
    "#Tres argumentos - inicio (intervalo cerrado), \n",
    "#fin (intervalo abierto) y paso. \n",
    "r3 = list(range(10,20,2))   #Aqui definimos un range de10 a \n",
    "                            #20 (abierto) con paso 2\n",
    "print(r3)"
   ]
  },
  {
   "cell_type": "code",
   "execution_count": 54,
   "metadata": {},
   "outputs": [
    {
     "data": {
      "text/plain": [
       "range"
      ]
     },
     "execution_count": 54,
     "metadata": {},
     "output_type": "execute_result"
    }
   ],
   "source": [
    "x = range(0,10) #La función range retornoa un objeto de tipo range\n",
    "type(x)"
   ]
  },
  {
   "cell_type": "code",
   "execution_count": 55,
   "metadata": {},
   "outputs": [
    {
     "data": {
      "text/plain": [
       "list"
      ]
     },
     "execution_count": 55,
     "metadata": {},
     "output_type": "execute_result"
    }
   ],
   "source": [
    "#Es preciso usar la función list() para convertir un range para\n",
    "# una lista\n",
    "x = list(range(0,10))\n",
    "type(x)"
   ]
  },
  {
   "cell_type": "markdown",
   "metadata": {},
   "source": [
    "Para iterar sobre los índices de una secuencia, se puede combinar <b>range()</b> y <b>len()</b> así:"
   ]
  },
  {
   "cell_type": "code",
   "execution_count": 56,
   "metadata": {},
   "outputs": [
    {
     "name": "stdout",
     "output_type": "stream",
     "text": [
      "0 Mary\n",
      "1 tenia\n",
      "2 un\n",
      "3 corderito\n"
     ]
    }
   ],
   "source": [
    "a = ['Mary', 'tenia', 'un', 'corderito']\n",
    "\n",
    "for i in range(len(a)):\n",
    "    print(i, a[i])"
   ]
  },
  {
   "cell_type": "markdown",
   "metadata": {},
   "source": [
    "En la mayoría de los casos, sin embargo, conviene usar la función <b>enumerate()</b>.\n",
    "\n",
    "Algo extraño sucede si mostrás un <b>range</b>:"
   ]
  },
  {
   "cell_type": "code",
   "execution_count": 57,
   "metadata": {},
   "outputs": [
    {
     "name": "stdout",
     "output_type": "stream",
     "text": [
      "range(0, 10)\n"
     ]
    }
   ],
   "source": [
    "print(range(10))"
   ]
  },
  {
   "cell_type": "markdown",
   "metadata": {},
   "source": [
    "De muchas maneras el objeto devuelto por <b>range()</b> se comporta como si fuera una lista, pero no lo es. Es un objeto que devuelve los ítems sucesivos de la secuencia deseada cuando iterás sobre él, pero realmente no construye la lista, ahorrando entonces espacio.\n",
    "\n",
    "Decimos que tal objeto es iterable; esto es, que se lo puede usar en funciones y construcciones que esperan algo de lo cual obtener ítems sucesivos hasta que se termine. Hemos visto que la declaración <b>for</b> es un iterador en ese sentido. La función <b>list()</b> es otra; crea listas a partir de iterables:"
   ]
  },
  {
   "cell_type": "code",
   "execution_count": 58,
   "metadata": {},
   "outputs": [
    {
     "data": {
      "text/plain": [
       "[0, 1, 2, 3, 4]"
      ]
     },
     "execution_count": 58,
     "metadata": {},
     "output_type": "execute_result"
    }
   ],
   "source": [
    "list(range(5))"
   ]
  },
  {
   "cell_type": "markdown",
   "metadata": {},
   "source": [
    "Más tarde veremos más funciones que devuelven iterables y que toman iterables como entrada."
   ]
  },
  {
   "cell_type": "markdown",
   "metadata": {},
   "source": [
    "### Ejercicio 1:\n",
    "\n",
    "Escriba un programa que escriba las siguientes listas:<br>\n",
    "[0,1]<br>\n",
    "[0]<br>\n",
    "[]<br>\n",
    "[4, 5, 6, 7, 8, 9, 10]<br>\n",
    "[-6, -5, -4, -3, -2, -1]<br>\n",
    "[-56, -55, -54, -53, -52, -51, -50]<br>\n",
    "[1, 3, 5, 7, 9, 11, 13, 15, 17]<br>\n",
    "[-6, -4, -2, 0, 2, 4, 6, 8, 10]<br>\n",
    "[100, 200, 300, 400, 500, 600, 700, 800, 900, 1000]<br>\n",
    "[17, 15, 13, 11, 9, 7, 5, 3, 1]<br>\n",
    "\n",
    "<b>Nota:</b> Para cada lista será necesario incluir un print(list(range( ... )))"
   ]
  },
  {
   "cell_type": "code",
   "execution_count": 12,
   "metadata": {},
   "outputs": [
    {
     "name": "stdout",
     "output_type": "stream",
     "text": [
      "[0, 1]\n",
      "[0]\n",
      "[]\n",
      "[4, 5, 6, 7, 8, 9, 10]\n",
      "[-6, -5, -4, -3, -2, -1]\n",
      "[-56, -55, -54, -53, -52, -51, -50]\n",
      "[1, 3, 5, 7, 9, 11, 13, 15, 17]\n",
      "[-6, -4, -2, 0, 2, 4, 6, 8, 10]\n",
      "[100, 200, 300, 400, 500, 600, 700, 800, 900, 1000]\n",
      "[17, 15, 13, 11, 9, 7, 5, 3, 1]\n"
     ]
    }
   ],
   "source": [
    "# Escriba el código aqui\n",
    "print(list(range(0,2)))\n",
    "print(list(range(0,1)))\n",
    "print(list(range(0,0)))\n",
    "print(list(range(4,11)))\n",
    "print(list(range(-6,0)))\n",
    "print(list(range(-56,-49)))\n",
    "print(list(range(1,18,2)))\n",
    "print(list(range(-6,11,2)))\n",
    "print(list(range(100,1001,100)))\n",
    "print(list(range(17,0,-2)))"
   ]
  },
  {
   "cell_type": "markdown",
   "metadata": {},
   "source": [
    "### Ejercicio 2:\n",
    "\n",
    "Escriba un programa que pida un número entero mayor que cero y escriba varias listas de números consecutivos, como indican los ejemplos siguientes:\n",
    "\n",
    "<b>Salida deseada:</b><br>\n",
    "LISTAS A PARTIR DE VALOR<br>\n",
    "Escriba un número entero mayor que 0: 0<br>\n",
    "¡Le he pedido un número entero mayor que 0!<br>\n",
    "<br>\n",
    "LISTAS A PARTIR DE VALOR<br>\n",
    "Escriba un número entero mayor que 0: 5<br>\n",
    "[0, 1, 2, 3, 4, 5]<br>\n",
    "[5, 4, 3, 2, 1, 0]<br>\n",
    "[1, 2, 3, 4]<br>\n",
    "[4, 3, 2, 1]<br>\n",
    "[0, 1, 2, 3, 4, 5, 4, 3, 2, 1, 0]<br>\n",
    "<br>\n",
    "LISTAS A PARTIR DE VALOR<br>\n",
    "Escriba un número entero mayor que 0: 1<br>\n",
    "[0, 1]<br>\n",
    "[1, 0]<br>\n",
    "[]<br>\n",
    "[]<br>\n",
    "[0, 1, 0]<br>"
   ]
  },
  {
   "cell_type": "code",
   "execution_count": 112,
   "metadata": {},
   "outputs": [
    {
     "name": "stdout",
     "output_type": "stream",
     "text": [
      "LISTAS A PARTIR DE VALOR\n",
      "Escriba un numero mayor que 0: 7\n",
      "[0, 1, 2, 3, 4, 5, 6, 7]\n",
      "[7, 6, 5, 4, 3, 2, 1, 0]\n",
      "[1, 2, 3, 4, 5, 6]\n",
      "[6, 5, 4, 3, 2, 1]\n",
      "[0, 1, 2, 3, 4, 5, 6, 7, 6, 5, 4, 3, 2, 1, 0]\n"
     ]
    }
   ],
   "source": [
    "# Escriba el código aqui\n",
    "print(\"LISTAS A PARTIR DE VALOR\")\n",
    "\n",
    "num=int(input(\"Escriba un numero mayor que 0: \"))\n",
    "List3=[]\n",
    "if num<=0:\n",
    "    print(\"Le pedi un numeri mayor a 0!\")\n",
    "else:\n",
    "    print(list(range(0,num+1)))\n",
    "    print(list(range(num,-1,-1)))\n",
    "    print(list(range(1,num)))\n",
    "    print(list(range(num-1,0,-1)))\n",
    "    List= list(range(0,num+1))\n",
    "    List2= list(range(num-1,-1,-1))\n",
    "    List3 = List+List2\n",
    "    print(List3)"
   ]
  },
  {
   "cell_type": "markdown",
   "metadata": {},
   "source": [
    "### Ejercicio 3:\n",
    "\n",
    "Escriba un programa que pida dos números enteros (el segundo mayor que el primero) y escriba varias listas de números consecutivos, como indican los siguientes ejemplos:\n",
    "\n",
    "<b>Salida deseada:</b><br>\n",
    "LISTAS ENTRE DOS NÚMEROS<br>\n",
    "Escriba un número entero: 8<br>\n",
    "Escriba otro número entero mayor que 8: 5<br>\n",
    "¡Le he pedido un número mayor que 8!<br>\n",
    "<br>\n",
    "LISTAS ENTRE DOS NÚMEROS<br>\n",
    "Escriba un número entero: 5<br>\n",
    "Escriba otro número entero mayor que 5: 11<br>\n",
    "[5, 6, 7, 8, 9, 10, 11]<br>\n",
    "[10, 9, 8, 7, 6, 5]<br>\n",
    "[6, 7, 8, 9, 10, 11, 12]<br>\n",
    "[10, 9, 8, 7, 6]<br>\n",
    "[5, 6, 7, 8, 9, 10, 11, 10, 9, 8, 7, 6, 5]<br>\n",
    "<br>\n",
    "LISTAS ENTRE DOS NÚMEROS<br>\n",
    "Escriba un número entero: -2<br>\n",
    "Escriba otro número entero mayor que -2: 3<br>\n",
    "[-2, -1, 0, 1, 2, 3]<br>\n",
    "[2, 1, 0, -1, -2]<br>\n",
    "[-1, 0, 1, 2, 3, 4]<br>\n",
    "[2, 1, 0, -1]<br>\n",
    "[-2, -1, 0, 1, 2, 3, 2, 1, 0, -1, -2]<br>"
   ]
  },
  {
   "cell_type": "code",
   "execution_count": 113,
   "metadata": {},
   "outputs": [
    {
     "name": "stdout",
     "output_type": "stream",
     "text": [
      "LISTA ENTRE DOS NUMEROS\n",
      "Escriba un numero entero: -5\n",
      "Escriba otro numero entero mayor que -5: 5\n",
      "[-5, -4, -3, -2, -1, 0, 1, 2, 3, 4, 5]\n",
      "[4, 3, 2, 1, 0, -1, -2, -3, -4, -5]\n",
      "[-4, -3, -2, -1, 0, 1, 2, 3, 4, 5, 6]\n",
      "[4, 3, 2, 1, 0, -1, -2, -3, -4]\n",
      "[-5, -4, -3, -2, -1, 0, 1, 2, 3, 4, 5, 4, 3, 2, 1, 0, -1, -2, -3, -4, -5]\n"
     ]
    }
   ],
   "source": [
    "# Escriba el código aqui\n",
    "print(\"LISTA ENTRE DOS NUMEROS\")\n",
    "\n",
    "num=int(input(\"Escriba un numero entero: \"))\n",
    "num2=int(input(f\"Escriba otro numero entero mayor que {num}: \"))\n",
    "\n",
    "if num2<=num:\n",
    "    print(f\"¡Le he pedido un número mayor que {num}!\")\n",
    "else:\n",
    "    print(list(range(num,num2+1)))\n",
    "    print(list(range(num2-1,num-1,-1)))\n",
    "    print(list(range(num+1,num2+2)))\n",
    "    print(list(range(num2-1,num,-1)))\n",
    "    List= list(range(num,num2+1))\n",
    "    List2= list(range(num2-1,num-1,-1))\n",
    "    List3 = List+List2\n",
    "    print(List3)"
   ]
  },
  {
   "cell_type": "markdown",
   "metadata": {},
   "source": [
    "### Ejercicio 4:\n",
    "\n",
    "Escriba un programa que pida dos números enteros y escriba la lista de números pares que hay entre ellos (incluidos ellos mismos si son pares).\n",
    "\n",
    "<b>Salida deseada:</b><br>\n",
    "PARES ENTRE VALORES<br>\n",
    "Escriba el número entero inicial: 6<br>\n",
    "Escriba el número entero final: 4<br>\n",
    "¡El número final debe ser mayor que el inicial!<br>\n",
    "<br>\n",
    "PARES ENTRE VALORES<br>\n",
    "Escriba el número entero inicial: 3<br>\n",
    "Escriba el número entero final: 12<br>\n",
    "[4, 6, 8, 10, 12]<br>\n",
    "<br>\n",
    "PARES ENTRE VALORES<br>\n",
    "Escriba el número entero inicial: 6<br>\n",
    "Escriba el número entero final: 15<br>\n",
    "[6, 8, 10, 12, 14]<br>\n",
    "<br>\n",
    "PARES ENTRE VALORES<br>\n",
    "Escriba el número entero inicial: 8<br>\n",
    "Escriba el número entero final: 8<br>\n",
    "[8]<br>"
   ]
  },
  {
   "cell_type": "code",
   "execution_count": 114,
   "metadata": {},
   "outputs": [
    {
     "name": "stdout",
     "output_type": "stream",
     "text": [
      "PARES ENTRE VALORES\n",
      "Escriba el numero entero inicial: 4\n",
      "Escriba el numero entero final: 10\n",
      "[4, 6, 8, 10]\n"
     ]
    }
   ],
   "source": [
    "# Escriba el código aqui\n",
    "print(\"PARES ENTRE VALORES\")\n",
    "\n",
    "num=int(input(\"Escriba el numero entero inicial: \"))\n",
    "num2=int(input(\"Escriba el numero entero final: \"))\n",
    "\n",
    "if num2<num:\n",
    "    print(\"¡El número final debe ser mayor que el inicial!\")\n",
    "else:\n",
    "    if num%2==0:\n",
    "        print(list(range(num,num2+1,2)))\n",
    "    else:\n",
    "        print(list(range(num+1,num2+1,2)))"
   ]
  },
  {
   "cell_type": "markdown",
   "metadata": {},
   "source": [
    "### Ejercicio 5:\n",
    "\n",
    "Escriba un programa que pida tres números enteros y escriba la lista de números múltiplos del tercero que hay entre los dos primeros (incluidos ellos mismos si son múltiplos del número indicado):\n",
    "\n",
    "<b>Salida deseada:</b><br>\n",
    "MÚLTIPLOS ENTRE VALORES<br>\n",
    "Escriba el número entero inicial: 5<br>\n",
    "Escriba el número entero final: 4<br>\n",
    "¡El número final debe ser mayor que el inicial!<br>\n",
    "<br>\n",
    "MÚLTIPLOS ENTRE VALORES<br>\n",
    "Escriba el número entero inicial: 9<br>\n",
    "Escriba el número entero final: 37<br>\n",
    "¿De qué número quiere los múltiplos?: 0<br>\n",
    "¡Los múltiplos deben ser de un número entero mayor que cero!<br>\n",
    "<br>\n",
    "MÚLTIPLOS ENTRE VALORES<br>\n",
    "Escriba el número entero inicial: 9<br>\n",
    "Escriba el número entero final: 37<br>\n",
    "¿De qué número quiere los múltiplos?: 5<br>\n",
    "Entre 9 y 37 hay 6 múltiplos de 5:<br>\n",
    "[10, 15, 20, 25, 30, 35]<br>\n",
    "<br>\n",
    "MÚLTIPLOS ENTRE VALORES<br>\n",
    "Escriba el número entero inicial: 9<br>\n",
    "Escriba el número entero final: 18<br>\n",
    "¿De qué número quiere los múltiplos?: 3<br>\n",
    "Entre 9 y 18 hay 4 múltiplos de 3:<br>\n",
    "[9, 12, 15, 18]<br>\n",
    "<br>\n",
    "MÚLTIPLOS ENTRE VALORES<br>\n",
    "Escriba el número entero inicial: 7<br>\n",
    "Escriba el número entero final: 10<br>\n",
    "¿De qué número quiere los múltiplos?: 25<br>\n",
    "Entre 7 y 10 hay 0 múltiplos de 25:<br>\n",
    "[]<br>\n",
    "<br>\n",
    "MÚLTIPLOS ENTRE VALORES<br>\n",
    "Escriba el número entero inicial: 35<br>\n",
    "Escriba el número entero final: 39<br>\n",
    "¿De qué número quiere los múltiplos?: 5<br>\n",
    "Entre 35 y 39 hay 1 múltiplos de 5:<br>\n",
    "[35]<br>"
   ]
  },
  {
   "cell_type": "code",
   "execution_count": 115,
   "metadata": {},
   "outputs": [
    {
     "name": "stdout",
     "output_type": "stream",
     "text": [
      "MULTIPLOS ENTRE VALORES\n",
      "Escriba el numero entero inicial: 3\n",
      "Escriba el numero entero final: 90\n",
      "¿De qué número quiere los múltiplos?: 7\n",
      "Entre 3 y 90 hay 12 múltiplos de 7:\n",
      "[7, 14, 21, 28, 35, 42, 49, 56, 63, 70, 77, 84]\n"
     ]
    }
   ],
   "source": [
    "# Escriba el código aqui\n",
    "print(\"MULTIPLOS ENTRE VALORES\")\n",
    "\n",
    "num=int(input(\"Escriba el numero entero inicial: \"))\n",
    "num2=int(input(\"Escriba el numero entero final: \"))\n",
    "\n",
    "if num2<=num:\n",
    "    print(\"¡El número final debe ser mayor que el inicial!\")\n",
    "else:\n",
    "    num3=int(input(\"¿De qué número quiere los múltiplos?: \"))\n",
    "    \n",
    "    if num3<1:\n",
    "        print(\"¡Los múltiplos deben ser de un número entero mayor que cero!\")\n",
    "    else:\n",
    "        if num % num3 != 0:\n",
    "            inicial2 = num // num3 * num3 + num3\n",
    "        else:\n",
    "            inicial2 = num\n",
    "        \n",
    "        print(f\"Entre {num} y {num2} hay \"\n",
    "              f\"{len(range(inicial2, num2 + 1, num3))} múltiplos de {num3}:\")\n",
    "        print(list(range(inicial2, num2 + 1, num3)))"
   ]
  },
  {
   "cell_type": "markdown",
   "metadata": {},
   "source": [
    "## 3.2 Más sobre listas"
   ]
  },
  {
   "cell_type": "code",
   "execution_count": 59,
   "metadata": {},
   "outputs": [
    {
     "name": "stdout",
     "output_type": "stream",
     "text": [
      "[16, 2, 8, 1, 0]\n"
     ]
    }
   ],
   "source": [
    "#Definimos una lista de 30 números para realizar los ejemplos.\n",
    "from random import randrange\n",
    "num=[randrange(20) for p in range(0,5)]\n",
    "print(num)"
   ]
  },
  {
   "cell_type": "code",
   "execution_count": 60,
   "metadata": {},
   "outputs": [
    {
     "name": "stdout",
     "output_type": "stream",
     "text": [
      "[3, 6, 2, 7, 5]\n"
     ]
    }
   ],
   "source": [
    "#Opción 2\n",
    "from random import randint\n",
    "x = [randint(0, 9) for p in range(0, 5)]\n",
    "print(x)"
   ]
  },
  {
   "cell_type": "markdown",
   "metadata": {},
   "source": [
    "<b>El tipo de dato lista tiene algunos métodos más. Aquí están todos los métodos de los objetos lista:</b>"
   ]
  },
  {
   "cell_type": "markdown",
   "metadata": {},
   "source": [
    "<b>list.append(valor)</b>\\\n",
    "Agrega un ítem al final de la lista."
   ]
  },
  {
   "cell_type": "code",
   "execution_count": 61,
   "metadata": {},
   "outputs": [
    {
     "name": "stdout",
     "output_type": "stream",
     "text": [
      "[16, 2, 8, 1, 0, 22]\n"
     ]
    }
   ],
   "source": [
    "num.append(22)\n",
    "print(num)"
   ]
  },
  {
   "cell_type": "markdown",
   "metadata": {},
   "source": [
    "<b>list.extend(iterable)</b>\\\n",
    "Extiende la lista agregándole todos los ítems del iterable."
   ]
  },
  {
   "cell_type": "code",
   "execution_count": 62,
   "metadata": {},
   "outputs": [
    {
     "name": "stdout",
     "output_type": "stream",
     "text": [
      "[16, 2, 8, 1, 0, 22, 3, 6, 2, 7, 5]\n"
     ]
    }
   ],
   "source": [
    "num.extend(x)\n",
    "print(num)"
   ]
  },
  {
   "cell_type": "markdown",
   "metadata": {},
   "source": [
    "<b>list.insert(posición, valor)</b>\\\n",
    "Inserta un ítem en una posición dada. El primer argumento es el índice del ítem delante del cual se insertará, por lo tanto lista.insert(0, x) inserta al principio de la lista, y lista.insert(len(lista), valor) equivale a lista.append(valor)."
   ]
  },
  {
   "cell_type": "code",
   "execution_count": 63,
   "metadata": {},
   "outputs": [
    {
     "name": "stdout",
     "output_type": "stream",
     "text": [
      "[18, 16, 2, 8, 1, 0, 22, 3, 6, 2, 7, 5]\n"
     ]
    }
   ],
   "source": [
    "num.insert(0,18)\n",
    "print(num)"
   ]
  },
  {
   "cell_type": "markdown",
   "metadata": {},
   "source": [
    "<b>list.remove(x)</b>\\\n",
    "Quita el primer ítem de la lista cuyo valor sea x. Es un error si no existe tal ítem."
   ]
  },
  {
   "cell_type": "code",
   "execution_count": 64,
   "metadata": {},
   "outputs": [
    {
     "name": "stdout",
     "output_type": "stream",
     "text": [
      "[18, 16, 8, 1, 0, 22, 3, 6, 2, 7, 5]\n"
     ]
    }
   ],
   "source": [
    "num.remove(2)\n",
    "print(num)"
   ]
  },
  {
   "cell_type": "markdown",
   "metadata": {},
   "source": [
    "<b>list.pop(*)</b> ==> donde    * es la pocisión opcional\\\n",
    "Quita el ítem en la posición dada de la lista, y lo devuelve. Si no se especifica un índice, list.pop() quita y devuelve el último ítem de la lista. (Los corchetes que encierran a i en la firma del método denotan que el parámetro es opcional, no que deberías escribir corchetes en esa posición. Verás esta notación con frecuencia en la Referencia de la Biblioteca de Python.)"
   ]
  },
  {
   "cell_type": "code",
   "execution_count": 65,
   "metadata": {},
   "outputs": [
    {
     "name": "stdout",
     "output_type": "stream",
     "text": [
      "[18, 16, 8, 1, 0, 22, 3, 6, 2, 7]\n"
     ]
    }
   ],
   "source": [
    "num.pop()\n",
    "print(num)"
   ]
  },
  {
   "cell_type": "code",
   "execution_count": 66,
   "metadata": {},
   "outputs": [
    {
     "name": "stdout",
     "output_type": "stream",
     "text": [
      "[18, 8, 1, 0, 22, 3, 6, 2, 7]\n"
     ]
    }
   ],
   "source": [
    "num.pop(1)\n",
    "print(num)"
   ]
  },
  {
   "cell_type": "markdown",
   "metadata": {},
   "source": [
    "<b>list.clear()</b>\\\n",
    "Quita todos los elementos de la lista. Equivalente a del list[:]."
   ]
  },
  {
   "cell_type": "code",
   "execution_count": 67,
   "metadata": {},
   "outputs": [
    {
     "name": "stdout",
     "output_type": "stream",
     "text": [
      "[3, 6, 2, 7, 5]\n",
      "[]\n"
     ]
    }
   ],
   "source": [
    "print(x)\n",
    "x.clear()\n",
    "print(x)"
   ]
  },
  {
   "cell_type": "markdown",
   "metadata": {},
   "source": [
    "<b>list.index(x[, start[, end]])</b>\\\n",
    "Devuelve un índice basado en cero en la lista del primer ítem cuyo valor sea x. Levanta una excepción ValueError si no existe tal ítem.\n",
    "\n",
    "Los argumentos opcionales start y end son interpetados como la notación de rebanadas y se usan para limitar la búsqueda a una subsecuencia particular de la lista. El index retornado se calcula de manera relativa al inicio de la secuencia completa en lugar de con respecto al argumento start."
   ]
  },
  {
   "cell_type": "code",
   "execution_count": 69,
   "metadata": {},
   "outputs": [
    {
     "data": {
      "text/plain": [
       "2"
      ]
     },
     "execution_count": 69,
     "metadata": {},
     "output_type": "execute_result"
    }
   ],
   "source": [
    "num.index(1)"
   ]
  },
  {
   "cell_type": "code",
   "execution_count": 77,
   "metadata": {},
   "outputs": [
    {
     "name": "stdout",
     "output_type": "stream",
     "text": [
      "[18, 8, 1, 0, 22, 3, 6, 2, 7]\n"
     ]
    }
   ],
   "source": [
    "print(num)\n",
    "#um.index(18,7)"
   ]
  },
  {
   "cell_type": "markdown",
   "metadata": {},
   "source": [
    "<b>list.count(x)</b>\\\n",
    "Devuelve el número de veces que x aparece en la lista."
   ]
  },
  {
   "cell_type": "code",
   "execution_count": 78,
   "metadata": {},
   "outputs": [
    {
     "data": {
      "text/plain": [
       "0"
      ]
     },
     "execution_count": 78,
     "metadata": {},
     "output_type": "execute_result"
    }
   ],
   "source": [
    "num.count(5)"
   ]
  },
  {
   "cell_type": "markdown",
   "metadata": {},
   "source": [
    "<b>list.sort(key=None, reverse=False)</b>\\\n",
    "Ordena los ítems de la lista in situ (los argumentos pueden ser usados para personalizar el orden de la lista. Más información en sorted() para su explicación)."
   ]
  },
  {
   "cell_type": "code",
   "execution_count": 79,
   "metadata": {},
   "outputs": [
    {
     "name": "stdout",
     "output_type": "stream",
     "text": [
      "[0, 1, 2, 3, 6, 7, 8, 18, 22]\n"
     ]
    }
   ],
   "source": [
    "num.sort()\n",
    "print(num)"
   ]
  },
  {
   "cell_type": "code",
   "execution_count": 80,
   "metadata": {},
   "outputs": [
    {
     "name": "stdout",
     "output_type": "stream",
     "text": [
      "[22, 18, 8, 7, 6, 3, 2, 1, 0]\n"
     ]
    }
   ],
   "source": [
    "num.sort(reverse=True)\n",
    "print(num)"
   ]
  },
  {
   "cell_type": "code",
   "execution_count": 82,
   "metadata": {},
   "outputs": [
    {
     "name": "stdout",
     "output_type": "stream",
     "text": [
      "[7, 0, 22, 8, 1, 2, 3, 18, 6]\n"
     ]
    }
   ],
   "source": [
    "def func(x): \n",
    "    return x % 7\n",
    "\n",
    "num.sort(key=func)\n",
    "print(num)\n",
    "# ¿Qué es lo que realiza?"
   ]
  },
  {
   "cell_type": "code",
   "execution_count": 83,
   "metadata": {},
   "outputs": [],
   "source": [
    "?sorted"
   ]
  },
  {
   "cell_type": "markdown",
   "metadata": {},
   "source": [
    "<b>list.reverse()</b>\\\n",
    "Invierte los elementos de la lista in situ."
   ]
  },
  {
   "cell_type": "code",
   "execution_count": 84,
   "metadata": {},
   "outputs": [
    {
     "name": "stdout",
     "output_type": "stream",
     "text": [
      "[6, 18, 3, 2, 1, 8, 22, 0, 7]\n"
     ]
    }
   ],
   "source": [
    "num.reverse()\n",
    "print(num)"
   ]
  },
  {
   "cell_type": "markdown",
   "metadata": {},
   "source": [
    "<b>list.copy()</b>\\\n",
    "Devuelve una copia superficial de la lista. Equivalente a list[:]."
   ]
  },
  {
   "cell_type": "code",
   "execution_count": 87,
   "metadata": {},
   "outputs": [
    {
     "name": "stdout",
     "output_type": "stream",
     "text": [
      "[6, 18, 3, 2, 1, 8, 22, 0, 7]\n"
     ]
    }
   ],
   "source": [
    "x = num.copy()\n",
    "print(x)"
   ]
  },
  {
   "cell_type": "markdown",
   "metadata": {},
   "source": [
    "<b>Nota: </b>Quizás hayas notado que métodos como insert, remove o sort, que solo modifican a la lista, no tienen impreso un valor de retorno – devuelven None. Esto es un principio de diseño para todas las estructuras de datos mutables en Python."
   ]
  },
  {
   "cell_type": "markdown",
   "metadata": {},
   "source": [
    "## 3.3 Usando listas como pilas\n",
    "Los métodos de lista hacen que resulte muy fácil usar una lista como una pila, donde el último elemento añadido es el primer elemento retirado (“último en entrar, primero en salir”). Para agregar un ítem a la cima de la pila, use append(). Para retirar un ítem de la cima de la pila, use pop() sin un índice explícito. Por ejemplo:"
   ]
  },
  {
   "cell_type": "code",
   "execution_count": 88,
   "metadata": {},
   "outputs": [],
   "source": [
    "stack = [3, 4, 5]"
   ]
  },
  {
   "cell_type": "code",
   "execution_count": 89,
   "metadata": {},
   "outputs": [],
   "source": [
    "stack.append(6)"
   ]
  },
  {
   "cell_type": "code",
   "execution_count": 90,
   "metadata": {},
   "outputs": [],
   "source": [
    "stack.append(7)"
   ]
  },
  {
   "cell_type": "code",
   "execution_count": 91,
   "metadata": {},
   "outputs": [
    {
     "data": {
      "text/plain": [
       "[3, 4, 5, 6, 7]"
      ]
     },
     "execution_count": 91,
     "metadata": {},
     "output_type": "execute_result"
    }
   ],
   "source": [
    "stack"
   ]
  },
  {
   "cell_type": "code",
   "execution_count": 92,
   "metadata": {},
   "outputs": [
    {
     "data": {
      "text/plain": [
       "7"
      ]
     },
     "execution_count": 92,
     "metadata": {},
     "output_type": "execute_result"
    }
   ],
   "source": [
    "stack.pop()"
   ]
  },
  {
   "cell_type": "code",
   "execution_count": 93,
   "metadata": {},
   "outputs": [
    {
     "data": {
      "text/plain": [
       "[3, 4, 5, 6]"
      ]
     },
     "execution_count": 93,
     "metadata": {},
     "output_type": "execute_result"
    }
   ],
   "source": [
    "stack"
   ]
  },
  {
   "cell_type": "code",
   "execution_count": 94,
   "metadata": {},
   "outputs": [
    {
     "data": {
      "text/plain": [
       "6"
      ]
     },
     "execution_count": 94,
     "metadata": {},
     "output_type": "execute_result"
    }
   ],
   "source": [
    "stack.pop()"
   ]
  },
  {
   "cell_type": "code",
   "execution_count": 95,
   "metadata": {},
   "outputs": [
    {
     "data": {
      "text/plain": [
       "5"
      ]
     },
     "execution_count": 95,
     "metadata": {},
     "output_type": "execute_result"
    }
   ],
   "source": [
    "stack.pop()"
   ]
  },
  {
   "cell_type": "code",
   "execution_count": 96,
   "metadata": {},
   "outputs": [
    {
     "data": {
      "text/plain": [
       "[3, 4]"
      ]
     },
     "execution_count": 96,
     "metadata": {},
     "output_type": "execute_result"
    }
   ],
   "source": [
    "stack"
   ]
  },
  {
   "cell_type": "markdown",
   "metadata": {},
   "source": [
    "## 3.4 Usando listas como colas\n",
    "También es posible usar una lista como una cola, donde el primer elemento añadido es el primer elemento retirado (“primero en entrar, primero en salir”); sin embargo, las listas no son eficientes para este propósito. Agregar y sacar del final de la lista es rápido, pero insertar o sacar del comienzo de una lista es lento (porque todos los otros elementos tienen que ser desplazados por uno)."
   ]
  },
  {
   "cell_type": "code",
   "execution_count": 97,
   "metadata": {},
   "outputs": [],
   "source": [
    "from collections import deque"
   ]
  },
  {
   "cell_type": "code",
   "execution_count": 98,
   "metadata": {},
   "outputs": [
    {
     "name": "stdout",
     "output_type": "stream",
     "text": [
      "deque(['Eric', 'John', 'Michael'])\n"
     ]
    }
   ],
   "source": [
    "queue = deque([\"Eric\", \"John\", \"Michael\"])\n",
    "print(queue)"
   ]
  },
  {
   "cell_type": "code",
   "execution_count": 99,
   "metadata": {},
   "outputs": [],
   "source": [
    "queue.append(\"Terry\")         # llega Terry"
   ]
  },
  {
   "cell_type": "code",
   "execution_count": 100,
   "metadata": {},
   "outputs": [],
   "source": [
    "queue.append(\"Graham\")        # llega Graham"
   ]
  },
  {
   "cell_type": "code",
   "execution_count": 101,
   "metadata": {},
   "outputs": [
    {
     "name": "stdout",
     "output_type": "stream",
     "text": [
      "deque(['Eric', 'John', 'Michael', 'Terry', 'Graham'])\n"
     ]
    }
   ],
   "source": [
    "print(queue)"
   ]
  },
  {
   "cell_type": "code",
   "execution_count": 102,
   "metadata": {},
   "outputs": [
    {
     "data": {
      "text/plain": [
       "'Eric'"
      ]
     },
     "execution_count": 102,
     "metadata": {},
     "output_type": "execute_result"
    }
   ],
   "source": [
    "queue.popleft()               # el primero en llegar ahora se va"
   ]
  },
  {
   "cell_type": "code",
   "execution_count": 103,
   "metadata": {},
   "outputs": [
    {
     "data": {
      "text/plain": [
       "'John'"
      ]
     },
     "execution_count": 103,
     "metadata": {},
     "output_type": "execute_result"
    }
   ],
   "source": [
    "queue.popleft()               # el segundo en llegar ahora se va"
   ]
  },
  {
   "cell_type": "code",
   "execution_count": 104,
   "metadata": {},
   "outputs": [
    {
     "data": {
      "text/plain": [
       "deque(['Michael', 'Terry', 'Graham'])"
      ]
     },
     "execution_count": 104,
     "metadata": {},
     "output_type": "execute_result"
    }
   ],
   "source": [
    "queue                         # el resto de la cola en órden de llegada"
   ]
  },
  {
   "cell_type": "markdown",
   "metadata": {},
   "source": [
    "### Ejercicio 6:\n",
    "\n",
    "Escriba un programa que permita crear una lista de palabras. Para ello, el programa tiene que pedir un número y luego solicitar ese número de palabras para crear la lista. Por último, el programa tiene que escribir la lista.\n",
    "\n",
    "<b>Salida deseada:</b><br>\n",
    "Dígame cuántas palabras tiene la lista: 3<br>\n",
    "Dígame la palabra 1: Alberto<br>\n",
    "Dígame la palabra 2: Benito<br>\n",
    "Dígame la palabra 3: Carmen<br>\n",
    "La lista creada es: ['Alberto', 'Benito', 'Carmen']<br>\n",
    "<br>\n",
    "Dígame cuántas palabras tiene la lista: 0<br>\n",
    "¡Imposible!<br>"
   ]
  },
  {
   "cell_type": "code",
   "execution_count": 120,
   "metadata": {},
   "outputs": [
    {
     "name": "stdout",
     "output_type": "stream",
     "text": [
      "Digame cuantas palabras tiene la lista: 3\n",
      "Digame la palabra 1: 1\n",
      "Digame la palabra 2: 2\n",
      "Digame la palabra 3: 3\n",
      "La lista creada es:  ['1', '2', '3']\n"
     ]
    }
   ],
   "source": [
    "# Escriba el código aqui\n",
    "num=int(input(\"Digame cuantas palabras tiene la lista: \"))\n",
    "n=0\n",
    "List=[]\n",
    "\n",
    "if num<1:\n",
    "    print(\"IMPOSIBLE\")\n",
    "else:\n",
    "    while n<num:\n",
    "        n=n+1\n",
    "        pal=str(input(f\"Digame la palabra {n}: \"))\n",
    "        List.append(pal)\n",
    "\n",
    "    print(\"La lista creada es: \", List)"
   ]
  },
  {
   "cell_type": "markdown",
   "metadata": {},
   "source": [
    "### Ejercicio 7:\n",
    "\n",
    "Escriba un programa que permita crear dos listas de palabras y que, a continuación, elimine de la primera lista los nombres de la segunda lista.\n",
    "\n",
    "<b>Salida deseada:</b><br>\n",
    "Dígame cuántas palabras tiene la lista: 5<br>\n",
    "Dígame la palabra 1: Carmen<br>\n",
    "Dígame la palabra 2: Carmen<br>\n",
    "Dígame la palabra 3: Alberto<br>\n",
    "Dígame la palabra 4: Benito<br>\n",
    "Dígame la palabra 5: David<br>\n",
    "La lista creada es: ['Carmen', 'Carmen', 'Alberto', 'Benito', 'David']<br>\n",
    "Dígame cuántas palabras tiene la lista de palabras a eliminar: 3<br>\n",
    "Dígame la palabra 1: Benito<br>\n",
    "Dígame la palabra 2: Juan<br>\n",
    "Dígame la palabra 3: Carmen<br>\n",
    "La lista de palabras a eliminar es: ['Benito', 'Juan', 'Carmen']<br>\n",
    "La lista es ahora: ['Alberto', 'David']<br>"
   ]
  },
  {
   "cell_type": "code",
   "execution_count": 131,
   "metadata": {},
   "outputs": [
    {
     "name": "stdout",
     "output_type": "stream",
     "text": [
      "Digame cuantas palabras tiene la lista: 3\n",
      "Digame la palabra 1: sara\n",
      "Digame la palabra 2: dedo\n",
      "Digame la palabra 3: tgnr\n",
      "La lista creada es:  ['sara', 'dedo', 'tgnr']\n",
      "Digame cuantas palabras tiene la lista para eliminar: 2\n",
      "Digame la palabra 1: sara\n",
      "Digame la palabra 2: dedo\n",
      "La lista a eliminar es: ['sara', 'dedo']\n",
      "La lista ahora es: ['tgnr']\n"
     ]
    }
   ],
   "source": [
    "# Escriba el código aqui\n",
    "num=int(input(\"Digame cuantas palabras tiene la lista: \"))\n",
    "n=0\n",
    "m=0\n",
    "List=[]\n",
    "List2=[]\n",
    "List3=[]\n",
    "\n",
    "if num<1:\n",
    "    print(\"IMPOSIBLE\")\n",
    "else:\n",
    "    while n<num:\n",
    "        n=n+1\n",
    "        pal=str(input(f\"Digame la palabra {n}: \"))\n",
    "        List.append(pal)\n",
    "\n",
    "    print(\"La lista creada es: \", List)\n",
    "    \n",
    "    num2=int(input(\"Digame cuantas palabras tiene la lista para eliminar: \"))\n",
    "    \n",
    "    List2 = List.copy()\n",
    "    \n",
    "    while m<num2:\n",
    "        m=m+1\n",
    "        pal2=str(input(f\"Digame la palabra {m}: \"))\n",
    "        List3.append(pal2)\n",
    "        List2.remove(pal2)\n",
    "    \n",
    "    print(\"La lista a eliminar es:\", List3)\n",
    "    print(\"La lista ahora es:\", List2)"
   ]
  },
  {
   "cell_type": "markdown",
   "metadata": {},
   "source": [
    "## Ejercicio 8:\n",
    "\n",
    "Escriba un programa que permita crear una lista de palabras y que, a continuación, elimine los elementos repetidos (dejando únicamente el primero de los elementos repetido\n",
    "\n",
    "<b>Salida deseada:</b><br>\n",
    "Dígame cuántas palabras tiene la lista: 4<br>\n",
    "Dígame la palabra 1: Alberto<br>\n",
    "Dígame la palabra 2: Carmen<br>\n",
    "Dígame la palabra 3: Benito<br>\n",
    "Dígame la palabra 4: Carmen<br>\n",
    "La lista creada es: ['Alberto', 'Carmen', 'Benito', 'Carmen']<br>\n",
    "La lista sin repeticiones es: ['Alberto', 'Carmen', 'Benito']<br>"
   ]
  },
  {
   "cell_type": "code",
   "execution_count": 136,
   "metadata": {},
   "outputs": [
    {
     "name": "stdout",
     "output_type": "stream",
     "text": [
      "Digame cuantas palabras tiene la lista: 4\n",
      "Digame la palabra 1: sara\n",
      "Digame la palabra 2: mari\n",
      "Digame la palabra 3: dini\n",
      "Digame la palabra 4: mari\n",
      "La lista creada es:  ['sara', 'mari', 'dini', 'mari']\n",
      "La lista sin repeticiones es:  ['sara', 'mari', 'dini']\n"
     ]
    }
   ],
   "source": [
    "# Escriba el código aqui\n",
    "num=int(input(\"Digame cuantas palabras tiene la lista: \"))\n",
    "n=0\n",
    "List=[]\n",
    "\n",
    "if num<1:\n",
    "    print(\"IMPOSIBLE\")\n",
    "else:\n",
    "    while n<num:\n",
    "        n=n+1\n",
    "        pal=str(input(f\"Digame la palabra {n}: \"))\n",
    "        List.append(pal)\n",
    "\n",
    "    print(\"La lista creada es: \", List)\n",
    "\n",
    "    repetido = []\n",
    "    unico = []\n",
    "    \n",
    "    for x in List:\n",
    "        if x not in unico:\n",
    "            unico.append(x)\n",
    "        else:\n",
    "            if x not in repetido:\n",
    "                repetido.append(x)\n",
    "    \n",
    "    print(\"La lista sin repeticiones es: \", unico)"
   ]
  },
  {
   "cell_type": "markdown",
   "metadata": {},
   "source": [
    "### Ejercicio 9:\n",
    "\n",
    "Escriba un programa que permita crear dos listas de palabras y que, a continuación, escriba las siguientes listas (en las que no debe haber repeticiones):\n",
    "<ul>\n",
    "    <li>Lista de palabras que aparecen en las dos listas.</li>\n",
    "    <li>Lista de palabras que aparecen en la primera lista, pero no en la segunda.</li>\n",
    "    <li>Lista de palabras que aparecen en la segunda lista, pero no en la primera.</li>\n",
    "    <li>Lista de palabras que aparecen en ambas listas.</li>\n",
    "</ul>\n",
    "Nota: Para evitar las repeticiones, el programa deberá empezar eliminando los elementos repetidos en cada lista.\n",
    "\n",
    "<b>Salida deseada:</b><br>\n",
    "Dígame cuántas palabras tiene la primera lista: 4<br>\n",
    "Dígame la palabra 1: Carmen<br>\n",
    "Dígame la palabra 2: Alberto<br>\n",
    "Dígame la palabra 3: Benito<br>\n",
    "Dígame la palabra 4: Carmen<br>\n",
    "La primera lista es: ['Carmen', 'Alberto', 'Benito', 'Carmen']<br>\n",
    "Dígame cuántas palabras tiene la segunda lista: 3<br>\n",
    "Dígame la palabra 1: Benito<br>\n",
    "Dígame la palabra 2: Juan<br>\n",
    "Dígame la palabra 3: Carmen<br>\n",
    "La segunda lista es: ['Benito', 'Juan', 'Carmen']<br>\n",
    "Palabras que aparecen en las dos listas: ['Carmen', 'Benito']<br>\n",
    "Palabras que sólo aparecen en la primera lista: ['Alberto']<br>\n",
    "Palabras que sólo aparecen en la segunda lista: ['Juan']<br>\n",
    "Todas las palabras: ['Carmen', 'Benito', 'Alberto', 'Juan']<br>"
   ]
  },
  {
   "cell_type": "code",
   "execution_count": 22,
   "metadata": {},
   "outputs": [
    {
     "name": "stdout",
     "output_type": "stream",
     "text": [
      "Digame cuantas palabras tiene la primera lista: 4\n",
      "Digame la palabra 1: sara\n",
      "Digame la palabra 2: andrea\n",
      "Digame la palabra 3: elena\n",
      "Digame la palabra 4: claudia\n",
      "La primera lista creada es:  ['sara', 'andrea', 'elena', 'claudia']\n",
      "Dígame cuántas palabras tiene la segunda lista: 5\n",
      "Digame la palabra 1: sara\n",
      "Digame la palabra 2: andrea\n",
      "Digame la palabra 3: vivi\n",
      "Digame la palabra 4: hugo\n",
      "Digame la palabra 5: elena\n",
      "La segunda lista creada es:  ['sara', 'andrea', 'vivi', 'hugo', 'elena']\n",
      "Ambas listas contienen estos elementos: ['sara', 'andrea', 'elena']\n",
      "Las palabras que solo existen en la primera lista son:  ['claudia']\n",
      "Las palabras que solo existen en la segunda lista son:  ['vivi', 'hugo']\n"
     ]
    }
   ],
   "source": [
    "# Escriba el código aqui\n",
    "num=int(input(\"Digame cuantas palabras tiene la primera lista: \"))\n",
    "n=0\n",
    "List=[]\n",
    "List3=[]\n",
    "if num<1:\n",
    "    print(\"IMPOSIBLE\")\n",
    "else:\n",
    "    while n<num:\n",
    "        n=n+1\n",
    "        pal=str(input(f\"Digame la palabra {n}: \"))\n",
    "        List.append(pal)\n",
    "\n",
    "    print(\"La primera lista creada es: \", List)\n",
    "\n",
    "num2=int(input(\"Dígame cuántas palabras tiene la segunda lista: \"))\n",
    "m=0\n",
    "List2=[]\n",
    "\n",
    "if num2<1:\n",
    "    print(\"IMPOSIBLE\")\n",
    "else:\n",
    "    while m<num2:\n",
    "        m=m+1\n",
    "        pal2=str(input(f\"Digame la palabra {m}: \"))\n",
    "        List2.append(pal2)\n",
    "\n",
    "    print(\"La segunda lista creada es: \", List2)\n",
    "\n",
    "comparacion = [item for item in List if item in List2]\n",
    "\n",
    "List3=[]\n",
    "List4=List+List2\n",
    "if len(comparacion)>0:\n",
    "    print('Ambas listas contienen estos elementos:', end=\" \")\n",
    "    for item in comparacion: \n",
    "        List3.append(item)\n",
    "    print(List3)\n",
    "    \n",
    "    repetido = []\n",
    "    unico=[]\n",
    "    unico2=[]\n",
    "\n",
    "    for x in List4:\n",
    "        if x not in List:\n",
    "            unico.append(x)\n",
    "        else:\n",
    "            if x not in repetido:\n",
    "                repetido.append(x)\n",
    "    for x in List4:\n",
    "        if x not in List2:\n",
    "            unico2.append(x)\n",
    "        else:\n",
    "            if x not in repetido:\n",
    "                repetido.append(x)\n",
    "                \n",
    "else:\n",
    "    print('No existe ningun elemento igual en las listas')\n",
    "    \n",
    "print(\"Las palabras que solo existen en la primera lista son: \", unico2)\n",
    "print(\"Las palabras que solo existen en la segunda lista son: \", unico)"
   ]
  },
  {
   "cell_type": "markdown",
   "metadata": {},
   "source": [
    "### Ejercicio 10:\n",
    "\n",
    "Escriba un programa que permita crear una lista de palabras y que, a continuación, ordene la lista por la extensión de las palabras de forma ascendente.\n",
    "\n",
    "<b>Salida deseada:</b><br>\n",
    "Dígame cuántas palabras tiene la lista: 4<br>\n",
    "Dígame la palabra 1: Carmen<br>\n",
    "Dígame la palabra 2: Alberto<br>\n",
    "Dígame la palabra 3: José<br>\n",
    "Dígame la palabra 4: Juan Carlos<br>\n",
    "La lista creada es: ['Carmen', Alberto', 'José', 'Juan Carlos']\n",
    "La lista ordenada es: ['José', 'Carmen', 'Alberto', 'Juan Carlos']"
   ]
  },
  {
   "cell_type": "code",
   "execution_count": 23,
   "metadata": {},
   "outputs": [
    {
     "name": "stdout",
     "output_type": "stream",
     "text": [
      "Digame cuantas palabras tiene la lista: 3\n",
      "Digame la palabra 1: sara\n",
      "Digame la palabra 2: elena\n",
      "Digame la palabra 3: andrea\n",
      "La lista creada es:  ['sara', 'elena', 'andrea']\n",
      "La lista ordenada es:  ['andrea', 'elena', 'sara']\n"
     ]
    }
   ],
   "source": [
    "# Escriba el código aqui\n",
    "num=int(input(\"Digame cuantas palabras tiene la lista: \"))\n",
    "n=0\n",
    "List=[]\n",
    "\n",
    "if num<1:\n",
    "    print(\"IMPOSIBLE\")\n",
    "else:\n",
    "    while n<num:\n",
    "        n=n+1\n",
    "        pal=str(input(f\"Digame la palabra {n}: \"))\n",
    "        List.append(pal)\n",
    "\n",
    "    print(\"La lista creada es: \", List)\n",
    "    List.sort()\n",
    "    print(\"La lista ordenada es: \", List)"
   ]
  },
  {
   "cell_type": "markdown",
   "metadata": {},
   "source": [
    "## 3.5 Las sentencias break, continue, y else en Bucles\n",
    "La sentencia <b>break</b>, como en C, termina el bucle <b>for</b> o <b>while</b> más anidado.<br><br>\n",
    "Las sentencias de bucle pueden tener una cláusula <b>else</b> que es ejecutada cuando el bucle terminal, luego de agotar la lista (con <b>for</b>) o cuando la condición se hace falsa (con <b>while</b>), pero no cuando el bucle es terminado con la sentencia <b>break</b>. Se ejemplifica en el siguiente bucle, que busca números primos:"
   ]
  },
  {
   "cell_type": "code",
   "execution_count": 1,
   "metadata": {},
   "outputs": [
    {
     "name": "stdout",
     "output_type": "stream",
     "text": [
      "2 es un numero primo\n",
      "3 es un numero primo\n",
      "4 es igual a 2 * 2.0\n",
      "5 es un numero primo\n",
      "6 es igual a 2 * 3.0\n",
      "7 es un numero primo\n",
      "8 es igual a 2 * 4.0\n",
      "9 es igual a 3 * 3.0\n"
     ]
    }
   ],
   "source": [
    "for n in range(2, 10):\n",
    "    for x in range(2, n):\n",
    "        if n % x == 0:\n",
    "            print(n, 'es igual a', x, '*', n/x)\n",
    "            break\n",
    "    else:\n",
    "        # sigue el bucle sin encontrar un factor\n",
    "        print(n, 'es un numero primo')"
   ]
  },
  {
   "cell_type": "markdown",
   "metadata": {},
   "source": [
    "(Sí, este es el código correcto. Fijate bien: el <b>else</b> pertenece al ciclo <b>for</b>, no al <b>if</b>.)<br><br>\n",
    "Cuando se usa con un ciclo, el <b>else</b> tiene más en común con el <b>else</b> de una declaración <b>try</b> que con el de un <b>if</b>: el <b>else</b> de un <b>try</b> se ejecuta cuando no se genera ninguna excepción, y el <b>else</b> de un ciclo se ejecuta cuando no hay ningún <b>break</b>.\n",
    "La declaración <b>continue</b>, también tomada de C, continua con la siguiente iteración del ciclo:"
   ]
  },
  {
   "cell_type": "code",
   "execution_count": 2,
   "metadata": {},
   "outputs": [
    {
     "name": "stdout",
     "output_type": "stream",
     "text": [
      "Encontré un número par 2\n",
      "Encontré un número 3\n",
      "Encontré un número par 4\n",
      "Encontré un número 5\n",
      "Encontré un número par 6\n",
      "Encontré un número 7\n",
      "Encontré un número par 8\n",
      "Encontré un número 9\n"
     ]
    }
   ],
   "source": [
    "for num in range(2, 10):\n",
    "    if num % 2 == 0:\n",
    "        print(\"Encontré un número par\", num)\n",
    "        continue\n",
    "    print(\"Encontré un número\", num)"
   ]
  },
  {
   "cell_type": "markdown",
   "metadata": {},
   "source": [
    "## 3.6 La sentencia pass\n",
    "La sentencia <b>pass</b> no hace nada. Se puede usar cuando una sentencia es requerida por la sintáxis pero el programa no requiere ninguna acción. Por ejemplo:"
   ]
  },
  {
   "cell_type": "code",
   "execution_count": null,
   "metadata": {},
   "outputs": [],
   "source": [
    "while True:\n",
    "    # Espera ocupada hasta una interrupción de teclado (Ctrl+C)\n",
    "    # en el terminal o stop en jupyter notebook\n",
    "    pass"
   ]
  },
  {
   "cell_type": "markdown",
   "metadata": {},
   "source": [
    "Se usa normalmente para crear clases en su mínima expresión:"
   ]
  },
  {
   "cell_type": "code",
   "execution_count": null,
   "metadata": {},
   "outputs": [],
   "source": [
    "class MyEmptyClass:\n",
    "    pass"
   ]
  },
  {
   "cell_type": "markdown",
   "metadata": {},
   "source": [
    "Otro lugar donde se puede usar <b>pass</b> es como una marca de lugar para una función o un cuerpo condicional cuando estás trabajando en código nuevo, lo cual te permite pensar a un nivel de abstracción mayor. El <b>pass</b> se ignora silenciosamente:"
   ]
  },
  {
   "cell_type": "code",
   "execution_count": null,
   "metadata": {},
   "outputs": [],
   "source": [
    "def initlog(*args):\n",
    "    pass   # Acordate de implementar esto!"
   ]
  },
  {
   "cell_type": "markdown",
   "metadata": {},
   "source": [
    "## 3.7 Comprensión de listas (List Comprehension)\n",
    "\n",
    "Crear y adicioar valores a una lista en Python puede ser una tarea tediosa. Afortunadamente Python proporciona un atajo que permite la creación de listas a trav;es de una sintaxis facil y con poco código. \n",
    "\n",
    "Las List Comprehension ofrecen una manera concisa de crear listas. Sus usos comunes son para hacer nuevas listas donde cada elemento es el resultado de algunas operaciones aplicadas a cada miembro de otra secuencia o iterable, o para crear una subsecuencia de esos elementos para satisfacer una condición determinada.\n",
    "\n",
    "La sintaxis básica es lista = [ expresión for item in lista if condición].<br>\n",
    "\n",
    "Esta sintaxis intenta aproximarse a la notación matemática. Por ejemplo:\n",
    "S = {x² : x in {0 ... 9}}\n",
    "V = (1, 2, 4, 8, ..., 2¹²)\n",
    "M = {x | x in S and x even}\n",
    "\n",
    "Por ejemplo, asumamos que queremos crear una lista de cuadrados, como:"
   ]
  },
  {
   "cell_type": "code",
   "execution_count": 3,
   "metadata": {},
   "outputs": [
    {
     "name": "stdout",
     "output_type": "stream",
     "text": [
      "[0, 1, 4, 9, 16, 25, 36, 49, 64, 81]\n"
     ]
    }
   ],
   "source": [
    "cuadrados = []\n",
    "for x in range(10):\n",
    "    cuadrados.append(x**2)\n",
    "print(cuadrados)"
   ]
  },
  {
   "cell_type": "markdown",
   "metadata": {},
   "source": [
    "Nota que esto crea (o sobreescribe) una variable llamada x que sigue existiendo luego de que el bucle haya terminado. Podemos calcular la lista de cuadrados sin ningun efecto secundario haciendo:"
   ]
  },
  {
   "cell_type": "code",
   "execution_count": 4,
   "metadata": {},
   "outputs": [
    {
     "name": "stdout",
     "output_type": "stream",
     "text": [
      "[0, 1, 4, 9, 16, 25, 36, 49, 64, 81]\n"
     ]
    }
   ],
   "source": [
    "cuadrados2 = list(map(lambda x: x**2, range(10)))\n",
    "print(cuadrados2)"
   ]
  },
  {
   "cell_type": "markdown",
   "metadata": {},
   "source": [
    "o, un equivalente:"
   ]
  },
  {
   "cell_type": "code",
   "execution_count": 5,
   "metadata": {},
   "outputs": [
    {
     "name": "stdout",
     "output_type": "stream",
     "text": [
      "[0, 1, 4, 9, 16, 25, 36, 49, 64, 81]\n"
     ]
    }
   ],
   "source": [
    "cuadrados3 = [x ** 2 for x in range(10)]\n",
    "print(cuadrados3)"
   ]
  },
  {
   "cell_type": "markdown",
   "metadata": {},
   "source": [
    "que es más conciso y legible.\n",
    "\n",
    "Una lista de comprensión consiste de corchetes rodeando una expresión seguida de la declaración <b>for</b> y luego cero o más declaraciones <b>for</b> o <b>if</b>. El resultado será una nueva lista que sale de evaluar la expresión en el contexto de los <b>for</b> o <b>if</b> que le siguen. Por ejemplo, esta lista de comprensión combina los elementos de dos listas si no son iguales:"
   ]
  },
  {
   "cell_type": "code",
   "execution_count": 6,
   "metadata": {},
   "outputs": [
    {
     "data": {
      "text/plain": [
       "[(1, 3), (1, 4), (2, 3), (2, 1), (2, 4), (3, 1), (3, 4)]"
      ]
     },
     "execution_count": 6,
     "metadata": {},
     "output_type": "execute_result"
    }
   ],
   "source": [
    "[(x, y) for x in [1,2,3] for y in [3,1,4] if x != y]"
   ]
  },
  {
   "cell_type": "markdown",
   "metadata": {},
   "source": [
    "y es equivalente a:"
   ]
  },
  {
   "cell_type": "code",
   "execution_count": 7,
   "metadata": {},
   "outputs": [
    {
     "data": {
      "text/plain": [
       "[(1, 3), (1, 4), (2, 3), (2, 1), (2, 4), (3, 1), (3, 4)]"
      ]
     },
     "execution_count": 7,
     "metadata": {},
     "output_type": "execute_result"
    }
   ],
   "source": [
    "combinacion = []\n",
    "for x in [1,2,3]:\n",
    "    for y in [3,1,4]:\n",
    "        if x != y:\n",
    "            combinacion.append((x, y))\n",
    "combinacion"
   ]
  },
  {
   "cell_type": "markdown",
   "metadata": {},
   "source": [
    "Notá como el orden de los <b>for</b> y <b>if</b> es el mismo en ambos pedacitos de código.\n",
    "\n",
    "Si la expresión es una tupla (como el (x, y) en el ejemplo anterior), debe estar entre paréntesis."
   ]
  },
  {
   "cell_type": "code",
   "execution_count": 8,
   "metadata": {},
   "outputs": [
    {
     "name": "stdout",
     "output_type": "stream",
     "text": [
      "[-4, -2, 0, 2, 4]\n",
      "[[1, 2, 3], [4, 5, 6], [7, 8, 9]]\n",
      "['  banana', '  mora de Logan ', 'maracuya  ']\n"
     ]
    }
   ],
   "source": [
    "#Declaramos dos vectores\n",
    "vec = [-4, -2, 0, 2, 4]\n",
    "print(vec)\n",
    "vec2 = [[1,2,3], [4,5,6], [7,8,9]]\n",
    "print(vec2)\n",
    "frutafresca = ['  banana', '  mora de Logan ', 'maracuya  ']\n",
    "print(frutafresca)"
   ]
  },
  {
   "cell_type": "markdown",
   "metadata": {},
   "source": [
    "#### Ejemplo 1. Crear una nueva lista con los valores duplicados."
   ]
  },
  {
   "cell_type": "code",
   "execution_count": 9,
   "metadata": {},
   "outputs": [
    {
     "data": {
      "text/plain": [
       "[-8, -4, 0, 4, 8]"
      ]
     },
     "execution_count": 9,
     "metadata": {},
     "output_type": "execute_result"
    }
   ],
   "source": [
    "[x * 2 for x in vec]"
   ]
  },
  {
   "cell_type": "markdown",
   "metadata": {},
   "source": [
    "#### Ejemplo 2. Filtrar la lista para excluir números negativos."
   ]
  },
  {
   "cell_type": "code",
   "execution_count": 10,
   "metadata": {},
   "outputs": [
    {
     "data": {
      "text/plain": [
       "[0, 2, 4]"
      ]
     },
     "execution_count": 10,
     "metadata": {},
     "output_type": "execute_result"
    }
   ],
   "source": [
    "[x for x in vec if x >= 0]"
   ]
  },
  {
   "cell_type": "markdown",
   "metadata": {},
   "source": [
    "#### Ejemplo 3. Aplica una función a todos los elementos."
   ]
  },
  {
   "cell_type": "code",
   "execution_count": 11,
   "metadata": {},
   "outputs": [
    {
     "data": {
      "text/plain": [
       "[4, 2, 0, 2, 4]"
      ]
     },
     "execution_count": 11,
     "metadata": {},
     "output_type": "execute_result"
    }
   ],
   "source": [
    "[abs(x) for x in vec]"
   ]
  },
  {
   "cell_type": "markdown",
   "metadata": {},
   "source": [
    "#### Ejemplo 4. Llama un método a cada elemento."
   ]
  },
  {
   "cell_type": "code",
   "execution_count": 12,
   "metadata": {},
   "outputs": [
    {
     "data": {
      "text/plain": [
       "['banana', 'mora de Logan', 'maracuya']"
      ]
     },
     "execution_count": 12,
     "metadata": {},
     "output_type": "execute_result"
    }
   ],
   "source": [
    "[arma.strip() for arma in frutafresca]"
   ]
  },
  {
   "cell_type": "markdown",
   "metadata": {},
   "source": [
    "#### Ejemplo 5. Crea una lista de tuplas de dos como (número, cuadrado)."
   ]
  },
  {
   "cell_type": "code",
   "execution_count": 13,
   "metadata": {},
   "outputs": [
    {
     "data": {
      "text/plain": [
       "[(0, 0), (1, 1), (2, 4), (3, 9), (4, 16), (5, 25)]"
      ]
     },
     "execution_count": 13,
     "metadata": {},
     "output_type": "execute_result"
    }
   ],
   "source": [
    "[(x, x ** 2) for x in range(6)]"
   ]
  },
  {
   "cell_type": "markdown",
   "metadata": {},
   "source": [
    "#### Ejemplo Error. La tupla debe estar entre paréntesis, sino es un error."
   ]
  },
  {
   "cell_type": "code",
   "execution_count": null,
   "metadata": {},
   "outputs": [],
   "source": [
    "[x, x ** 2 for x in range(6)] #Siempre entre () las tuplas"
   ]
  },
  {
   "cell_type": "markdown",
   "metadata": {},
   "source": [
    "#### Ejemplo 6. Aplanar una lista usando comprensión de listas con dos 'for'"
   ]
  },
  {
   "cell_type": "code",
   "execution_count": 14,
   "metadata": {},
   "outputs": [
    {
     "data": {
      "text/plain": [
       "[1, 2, 3, 4, 5, 6, 7, 8, 9]"
      ]
     },
     "execution_count": 14,
     "metadata": {},
     "output_type": "execute_result"
    }
   ],
   "source": [
    "[num for elem in vec2 for num in elem] #De matriz a lista"
   ]
  },
  {
   "cell_type": "markdown",
   "metadata": {},
   "source": [
    "Las comprensiones de listas pueden contener expresiones complejas y funciones anidadas:"
   ]
  },
  {
   "cell_type": "code",
   "execution_count": 15,
   "metadata": {},
   "outputs": [
    {
     "data": {
      "text/plain": [
       "['3.1', '3.14', '3.142', '3.1416', '3.14159']"
      ]
     },
     "execution_count": 15,
     "metadata": {},
     "output_type": "execute_result"
    }
   ],
   "source": [
    "from math import pi\n",
    "[str(round(pi, i)) for i in range(1, 6)]"
   ]
  },
  {
   "cell_type": "code",
   "execution_count": 16,
   "metadata": {},
   "outputs": [
    {
     "name": "stdout",
     "output_type": "stream",
     "text": [
      "[0, 1, 4, 9, 16, 25, 36, 49, 64, 81]\n"
     ]
    }
   ],
   "source": [
    "#Generando una lista de cuadrados de enteros del 0 al 9\n",
    "#Forma extendida - sin list comprehension\n",
    "s=[]\n",
    "for x in range(10):\n",
    "    s.append(x**2)\n",
    "print(s)"
   ]
  },
  {
   "cell_type": "code",
   "execution_count": 17,
   "metadata": {},
   "outputs": [
    {
     "name": "stdout",
     "output_type": "stream",
     "text": [
      "[0, 1, 4, 9, 16, 25, 36, 49, 64, 81]\n"
     ]
    }
   ],
   "source": [
    "#Generando una lista de cuadrados de enteros del 0 al 9\n",
    "#Forma pythónica - con list comprehension\n",
    "s = [x**2 for x in range(10)]\n",
    "print(s)"
   ]
  },
  {
   "cell_type": "code",
   "execution_count": 18,
   "metadata": {},
   "outputs": [
    {
     "name": "stdout",
     "output_type": "stream",
     "text": [
      "[1, 2, 4, 8, 16, 32, 64, 128, 256, 512, 1024, 2048, 4096]\n"
     ]
    }
   ],
   "source": [
    "#Lista con las potoncias de 2 de 0 a 12\n",
    "#Forma extendida - sin list comprehension\n",
    "v = []\n",
    "for x in range(13):\n",
    "    v.append(2**x)\n",
    "print(v)"
   ]
  },
  {
   "cell_type": "code",
   "execution_count": 19,
   "metadata": {},
   "outputs": [
    {
     "name": "stdout",
     "output_type": "stream",
     "text": [
      "[1, 2, 4, 8, 16, 32, 64, 128, 256, 512, 1024, 2048, 4096]\n"
     ]
    }
   ],
   "source": [
    "#Lista com las potencias de 2 de 0 a 12\n",
    "#Forma pythónica - con list comprehension\n",
    "v = [2**x for x in range(0,13)]\n",
    "print(v)"
   ]
  },
  {
   "cell_type": "code",
   "execution_count": 20,
   "metadata": {},
   "outputs": [
    {
     "name": "stdout",
     "output_type": "stream",
     "text": [
      "[0, 4, 16, 36, 64]\n"
     ]
    }
   ],
   "source": [
    "#Sublista de los números pares de la lista s\n",
    "#(Cuadrados pares de los enteros de 0 a 9)\n",
    "#Forma extendida - sin list comprehension\n",
    "m = []\n",
    "for x in range(10):\n",
    "    if x**2%2==0:\n",
    "        m.append(x**2)\n",
    "print(m)"
   ]
  },
  {
   "cell_type": "code",
   "execution_count": 21,
   "metadata": {},
   "outputs": [
    {
     "name": "stdout",
     "output_type": "stream",
     "text": [
      "[0, 4, 16, 36, 64]\n"
     ]
    }
   ],
   "source": [
    "#Sublista de los números pares de la lista s\n",
    "#(Cuadrados pares de los enteros de 0 a 9)\n",
    "#Forma pythónica - sin list comprehension\n",
    "m = [x**2 for x in range(10) if x**2%2==0]\n",
    "print(m)"
   ]
  },
  {
   "cell_type": "code",
   "execution_count": 22,
   "metadata": {},
   "outputs": [
    {
     "name": "stdout",
     "output_type": "stream",
     "text": [
      "[0, 4, 16, 36, 64]\n"
     ]
    }
   ],
   "source": [
    "#Podemos alternativamente formar una lista m a partir de s \n",
    "#(lista de los cuadrados ya definido arriba)\n",
    "m = [x for x in s if x%2==0] \n",
    "print(m)"
   ]
  },
  {
   "cell_type": "code",
   "execution_count": 23,
   "metadata": {},
   "outputs": [],
   "source": [
    "#Lista de los años bisiestos entre 1900 e 2200 \n",
    "#con list comprehension\n",
    "bisiestos = [x for x in range(1900,2200) if ((x%4==0 and x%100!=0) or x%400==0)]"
   ]
  },
  {
   "cell_type": "code",
   "execution_count": 24,
   "metadata": {},
   "outputs": [
    {
     "name": "stdout",
     "output_type": "stream",
     "text": [
      "[1904, 1908, 1912, 1916, 1920, 1924, 1928, 1932, 1936, 1940, 1944, 1948, 1952, 1956, 1960, 1964, 1968, 1972, 1976, 1980, 1984, 1988, 1992, 1996, 2000, 2004, 2008, 2012, 2016, 2020, 2024, 2028, 2032, 2036, 2040, 2044, 2048, 2052, 2056, 2060, 2064, 2068, 2072, 2076, 2080, 2084, 2088, 2092, 2096, 2104, 2108, 2112, 2116, 2120, 2124, 2128, 2132, 2136, 2140, 2144, 2148, 2152, 2156, 2160, 2164, 2168, 2172, 2176, 2180, 2184, 2188, 2192, 2196]\n"
     ]
    }
   ],
   "source": [
    "print(bisiestos)"
   ]
  },
  {
   "cell_type": "markdown",
   "metadata": {},
   "source": [
    "### Ejercicio 11:\n",
    "\n",
    "Dada una lista almacenada en una variable: a = [1, 4, 9, 16, 25, 36, 49, 64, 81, 100], escriba un programa que tome esta lista y cree una nueva lista que solo contenga los elementos pares de las misma utilizando comprensión de listas."
   ]
  },
  {
   "cell_type": "code",
   "execution_count": 26,
   "metadata": {},
   "outputs": [
    {
     "name": "stdout",
     "output_type": "stream",
     "text": [
      "[4, 16, 36, 64, 100]\n"
     ]
    }
   ],
   "source": [
    "# Escriba el código aqui\n",
    "a = [1,4,9,16,25,36,49,64,81,100]\n",
    "\n",
    "lista = [x for x in a if x%2==0]\n",
    "print(lista)"
   ]
  },
  {
   "cell_type": "markdown",
   "metadata": {},
   "source": [
    "### Ejercicio 12:\n",
    "\n",
    "Crear una lista con las potencias de 2 (n²) de los primeros 10 números.\n",
    "\n",
    "<b>Salida deseada:</b><br>\n",
    "[0, 1, 4, 9, 16, 25, 36, 49, 64, 81, 100]"
   ]
  },
  {
   "cell_type": "code",
   "execution_count": 29,
   "metadata": {},
   "outputs": [
    {
     "data": {
      "text/plain": [
       "[0, 1, 4, 9, 16, 25, 36, 49, 64, 81, 100]"
      ]
     },
     "execution_count": 29,
     "metadata": {},
     "output_type": "execute_result"
    }
   ],
   "source": [
    "# Escriba el código aqui\n",
    "[i**2 for i in range(11)]"
   ]
  },
  {
   "cell_type": "markdown",
   "metadata": {},
   "source": [
    "### Ejercicio 13:\n",
    "\n",
    "Escribir un programa con Comprensión de Listas que pregunte al usuario una cantidad a invertir, el interés anual y el número de años, y muestre por pantalla el capital obtenido en la inversión cada año que dura la inversión.\n",
    "\n",
    "<b>Salida deseada:</b><br><br>\n",
    "¿Cantidad a invertir?  1000<br>\n",
    "¿Interés porcentual anual?  10<br>\n",
    "¿Años? 5<br>\n",
    "Capital tras 1 años: 1100.00<br>\n",
    "Capital tras 2 años: 1210.00<br>\n",
    "Capital tras 3 años: 1331.00<br>\n",
    "Capital tras 4 años: 1464.10<br>\n",
    "Capital tras 5 años: 1610.51<br>"
   ]
  },
  {
   "cell_type": "code",
   "execution_count": 52,
   "metadata": {},
   "outputs": [
    {
     "name": "stdout",
     "output_type": "stream",
     "text": [
      "Cantidad a invertir: 1000\n",
      "Interes porcentual anual: 10\n",
      "Años: 5\n",
      "1100.0 1210.0 1331.0 1464.1 1610.51\n"
     ]
    }
   ],
   "source": [
    "# Escriba el código aqui\n",
    "cant=int(input(\"Cantidad a invertir: \"))\n",
    "interes=int(input(\"Interes porcentual anual: \"))\n",
    "anios=int(input(\"Años: \"))\n",
    "\n",
    "s=[cant]\n",
    "s=[s[-1] for x in range(anios) if not s.append(s[-1]+(s[-1]*interes/100))]\n",
    "print(*s)"
   ]
  },
  {
   "cell_type": "markdown",
   "metadata": {},
   "source": [
    "### Ejercicio 14:\n",
    "\n",
    "Escriba un programa con comprensión de listas que pida un número entero mayor que cero y calcule su factorial.\n",
    "\n",
    "<b>Salida deseada:</b><br><br>\n",
    "FACTORIAL<br>\n",
    "Escriba un número entero mayor que cero: -5<br>\n",
    "¡Le he pedido un número entero mayor que cero!<br>\n",
    "<br>\n",
    "FACTORIAL<br>\n",
    "Escriba un número entero mayor que cero: 5<br>\n",
    "El factorial de 5 es 120<br>"
   ]
  },
  {
   "cell_type": "code",
   "execution_count": 87,
   "metadata": {},
   "outputs": [
    {
     "name": "stdout",
     "output_type": "stream",
     "text": [
      "Escriba un numero entero mayor que cero: 5\n",
      "El factorial de 5 es: 120\n"
     ]
    }
   ],
   "source": [
    "# Escriba el código aqui\n",
    "fact=int(input(\"Escriba un numero entero mayor que cero: \"))\n",
    "\n",
    "#if fact<0:\n",
    "    #print(\"¡Le he pedido un número entero mayor que cero!\")\n",
    "#else:\n",
    "    #s=[fact]\n",
    "    #s=[s[-1] for x in range(1,fact+1) if not s.append(x*s[-1] if s[-1] else 1)]\n",
    "    #print(\"El factorial de\", fact, \"es:\", s[-1])\n",
    "    \n",
    "if fact<0:\n",
    "    print(\"¡Le he pedido un número entero mayor que cero!\")\n",
    "else:\n",
    "    s=[1]\n",
    "    s=[s[-1] for x in range(1,fact+1) if not s.append(s[-1]*x)]\n",
    "    print(\"El factorial de\", fact, \"es:\", s[-1])"
   ]
  },
  {
   "cell_type": "markdown",
   "metadata": {},
   "source": [
    "### Ejercicio 15:\n",
    "\n",
    "Una matriz identidad de tamaño n es una matriz cuadrada de n filas por n columnas en donde cada elemento de la diagonal principal es 1 y los elementos restantes son 0.\n",
    "\n",
    "Crear un programa en Python que solicite n y retorne una matriz identidad de (n,n)."
   ]
  },
  {
   "cell_type": "code",
   "execution_count": 86,
   "metadata": {},
   "outputs": [
    {
     "name": "stdout",
     "output_type": "stream",
     "text": [
      "Introduce un entero positivo: 5\n"
     ]
    },
    {
     "data": {
      "text/plain": [
       "[[1, 0, 0, 0, 0],\n",
       " [0, 1, 0, 0, 0],\n",
       " [0, 0, 1, 0, 0],\n",
       " [0, 0, 0, 1, 0],\n",
       " [0, 0, 0, 0, 1]]"
      ]
     },
     "execution_count": 86,
     "metadata": {},
     "output_type": "execute_result"
    }
   ],
   "source": [
    "# Escriba el código aqui\n",
    "n = int(input('Introduce un entero positivo: '))\n",
    "\n",
    "identidad = [[1 if j == i else 0 for j in range(n)] for i in range(n)]\n",
    "identidad"
   ]
  },
  {
   "cell_type": "markdown",
   "metadata": {},
   "source": [
    "## 3.8 Listas de Listas (Listas Anidadas)"
   ]
  },
  {
   "cell_type": "markdown",
   "metadata": {},
   "source": [
    "La expresión inicial de una comprensión de listas puede ser cualquier expresión arbitraria, incluyendo otra comprensión de listas.\n",
    "\n",
    "Considerá el siguiente ejemplo de una matriz de 3x4 implementada como una lista de tres listas de largo 4:"
   ]
  },
  {
   "cell_type": "code",
   "execution_count": 88,
   "metadata": {},
   "outputs": [
    {
     "data": {
      "text/plain": [
       "[[1, 2, 3, 4], [5, 6, 7, 8], [9, 10, 11, 12]]"
      ]
     },
     "execution_count": 88,
     "metadata": {},
     "output_type": "execute_result"
    }
   ],
   "source": [
    "matriz = [\n",
    "    [1, 2, 3, 4],\n",
    "    [5, 6, 7, 8],\n",
    "    [9, 10, 11, 12],\n",
    "]\n",
    "matriz"
   ]
  },
  {
   "cell_type": "markdown",
   "metadata": {},
   "source": [
    "La siguiente comprensión de lista transpondrá las filas y columnas:"
   ]
  },
  {
   "cell_type": "code",
   "execution_count": 89,
   "metadata": {},
   "outputs": [
    {
     "data": {
      "text/plain": [
       "[[1, 5, 9], [2, 6, 10], [3, 7, 11], [4, 8, 12]]"
      ]
     },
     "execution_count": 89,
     "metadata": {},
     "output_type": "execute_result"
    }
   ],
   "source": [
    "[[fila[i] for fila in matriz] for i in range(4)]"
   ]
  },
  {
   "cell_type": "markdown",
   "metadata": {},
   "source": [
    "Como vimos en la sección anterior, la lista de comprensión anidada se evalua en el contexto del for que lo sigue, por lo que este ejemplo equivale a:"
   ]
  },
  {
   "cell_type": "code",
   "execution_count": 90,
   "metadata": {},
   "outputs": [
    {
     "data": {
      "text/plain": [
       "[[1, 5, 9], [2, 6, 10], [3, 7, 11], [4, 8, 12]]"
      ]
     },
     "execution_count": 90,
     "metadata": {},
     "output_type": "execute_result"
    }
   ],
   "source": [
    "transpuesta = []\n",
    "for i in range(4):\n",
    "    transpuesta.append([fila[i] for fila in matriz])\n",
    "\n",
    "transpuesta"
   ]
  },
  {
   "cell_type": "markdown",
   "metadata": {},
   "source": [
    "el cual, a la vez, es lo mismo que:"
   ]
  },
  {
   "cell_type": "code",
   "execution_count": null,
   "metadata": {},
   "outputs": [],
   "source": [
    "transpuesta = []\n",
    "for i in range(4):\n",
    "    # las siguientes 3 lineas hacen la comprensión \n",
    "    # de listas anidada\n",
    "    fila_transpuesta = []\n",
    "    for fila in matriz:\n",
    "        fila_transpuesta.append(fila[i])\n",
    "    transpuesta.append(fila_transpuesta)\n",
    "\n",
    "transpuesta"
   ]
  },
  {
   "cell_type": "markdown",
   "metadata": {},
   "source": [
    "En el mundo real, deberías preferir funciones predefinidas a declaraciones con flujo complejo. La función zip() haría un buen trabajo para este caso de uso:"
   ]
  },
  {
   "cell_type": "code",
   "execution_count": 91,
   "metadata": {},
   "outputs": [
    {
     "data": {
      "text/plain": [
       "[(1, 5, 9), (2, 6, 10), (3, 7, 11), (4, 8, 12)]"
      ]
     },
     "execution_count": 91,
     "metadata": {},
     "output_type": "execute_result"
    }
   ],
   "source": [
    "list(zip(*matriz))"
   ]
  },
  {
   "cell_type": "markdown",
   "metadata": {},
   "source": [
    "(\\*) Sirve para desempaquetando una lista de argumentos."
   ]
  },
  {
   "cell_type": "markdown",
   "metadata": {},
   "source": [
    "Dada una matriz, se puede acceder a sus alementos de la siguiente forma."
   ]
  },
  {
   "cell_type": "code",
   "execution_count": 92,
   "metadata": {},
   "outputs": [
    {
     "name": "stdout",
     "output_type": "stream",
     "text": [
      "2\n"
     ]
    }
   ],
   "source": [
    "matriz = [[1,2],[4,3],[1,5]]\n",
    "print(matriz[0][1])"
   ]
  },
  {
   "cell_type": "code",
   "execution_count": 93,
   "metadata": {},
   "outputs": [
    {
     "name": "stdout",
     "output_type": "stream",
     "text": [
      "[[1, 2], [4, 3], [1, 10]]\n"
     ]
    }
   ],
   "source": [
    "matriz[2][1]=10 #Redefinir un elemento de la matriz\n",
    "print(matriz)"
   ]
  },
  {
   "cell_type": "markdown",
   "metadata": {},
   "source": [
    "Una lista de listas ni siempre representa una matriz numérica. O sea, las listas internas no precisan tener el mismo tamaña y pueden mezclar tipos e datos diferentes."
   ]
  },
  {
   "cell_type": "code",
   "execution_count": 94,
   "metadata": {},
   "outputs": [
    {
     "name": "stdout",
     "output_type": "stream",
     "text": [
      "<class 'list'> [['gato', 'perro', 'elefante'], ['abeja', 'mosquito'], ['pez'], [1, 2, 5, 8.45]]\n",
      "<class 'str'> mosquito\n",
      "<class 'int'> 5\n"
     ]
    }
   ],
   "source": [
    "lista_de_listas=[ [\"gato\",\"perro\",\"elefante\"], [\"abeja\",\"mosquito\"],[\"pez\"],[1,2,5,8.45] ]\n",
    "print(type(lista_de_listas), lista_de_listas)\n",
    "print(type(lista_de_listas[1][1]), lista_de_listas[1][1])\n",
    "print(type(lista_de_listas[3][2]), lista_de_listas[3][2])"
   ]
  },
  {
   "cell_type": "markdown",
   "metadata": {},
   "source": [
    "Podemos usar un bucle dentro de otro para iterar sobre listas de listas"
   ]
  },
  {
   "cell_type": "code",
   "execution_count": 95,
   "metadata": {},
   "outputs": [
    {
     "name": "stdout",
     "output_type": "stream",
     "text": [
      "gato\n",
      "perro\n",
      "elefante\n",
      "abeja\n",
      "mosquito\n",
      "pez\n",
      "1\n",
      "2\n",
      "5\n",
      "8.45\n"
     ]
    }
   ],
   "source": [
    "for lista in lista_de_listas:\n",
    "    for x in lista:\n",
    "        print(x)"
   ]
  },
  {
   "cell_type": "code",
   "execution_count": 96,
   "metadata": {},
   "outputs": [
    {
     "name": "stdout",
     "output_type": "stream",
     "text": [
      "Elemento 0,0 = gato\n",
      "Elemento 0,1 = perro\n",
      "Elemento 0,2 = elefante\n",
      "Elemento 1,0 = abeja\n",
      "Elemento 1,1 = mosquito\n",
      "Elemento 2,0 = pez\n",
      "Elemento 3,0 = 1\n",
      "Elemento 3,1 = 2\n",
      "Elemento 3,2 = 5\n",
      "Elemento 3,3 = 8.45\n"
     ]
    }
   ],
   "source": [
    "#Usando enumerate para obtener el índice de los elementos\n",
    "for i,lista in enumerate(lista_de_listas):\n",
    "    for j,x in enumerate(lista):\n",
    "        print(f\"Elemento {i},{j} = {x}\")"
   ]
  },
  {
   "cell_type": "code",
   "execution_count": 97,
   "metadata": {},
   "outputs": [
    {
     "name": "stdout",
     "output_type": "stream",
     "text": [
      "Elemento 0 , 0  =  gato\n",
      "Elemento 0 , 1  =  perro\n",
      "Elemento 0 , 2  =  elefante\n",
      "Elemento 1 , 0  =  abeja\n",
      "Elemento 1 , 1  =  mosquito\n",
      "Elemento 2 , 0  =  pez\n",
      "Elemento 3 , 0  =  1\n",
      "Elemento 3 , 1  =  2\n",
      "Elemento 3 , 2  =  5\n",
      "Elemento 3 , 3  =  8.45\n"
     ]
    }
   ],
   "source": [
    "#Otra forma de imprimir elementos\n",
    "for i,lista in enumerate(lista_de_listas):\n",
    "    for j,x in enumerate(lista):\n",
    "        print(\"Elemento\",i,\",\",j,\" = \",x)"
   ]
  },
  {
   "cell_type": "markdown",
   "metadata": {},
   "source": [
    "### Ejercicio 16:\n",
    "\n",
    "Escriba un programa que pida al usuario una matriz de 3x3 números enteros y luego muestre la media de las tres filas."
   ]
  },
  {
   "cell_type": "code",
   "execution_count": 55,
   "metadata": {},
   "outputs": [
    {
     "name": "stdout",
     "output_type": "stream",
     "text": [
      "Ingrese el elemento 0 la primera fila de la matriz: 2\n",
      "Ingrese el elemento 1 la primera fila de la matriz: 4\n",
      "Ingrese el elemento 2 la primera fila de la matriz: 6\n",
      "Ingrese el elemento 0 la segunda fila de la matriz: 1\n",
      "Ingrese el elemento 1 la segunda fila de la matriz: 3\n",
      "Ingrese el elemento 2 la segunda fila de la matriz: 5\n",
      "Ingrese el elemento 0 la tercera fila de la matriz: 1\n",
      "Ingrese el elemento 1 la tercera fila de la matriz: 2\n",
      "Ingrese el elemento 2 la tercera fila de la matriz: 3\n",
      "Media de los elementos de la primera linea: 4.0\n",
      "Media de los elementos de la segunda linea: 3.0\n",
      "Media de los elementos de la tercera linea: 2.0\n"
     ]
    }
   ],
   "source": [
    "# Escriba el código aqui\n",
    "mat1=[]\n",
    "mat2=[]\n",
    "mat3=[]\n",
    "\n",
    "for i in range(3):\n",
    "    mat1.append(int(input(f'Ingrese el elemento {i} la primera fila de la matriz: ')))\n",
    "\n",
    "uno=sum(mat1)/len(mat1)\n",
    "\n",
    "for i in range(3):\n",
    "    mat2.append(int(input(f'Ingrese el elemento {i} la segunda fila de la matriz: ')))\n",
    "\n",
    "dos=sum(mat2)/len(mat2)\n",
    "\n",
    "for i in range(3):\n",
    "    mat3.append(int(input(f'Ingrese el elemento {i} la tercera fila de la matriz: ')))\n",
    "    \n",
    "tres=sum(mat3)/len(mat3)\n",
    "\n",
    "print(f\"Media de los elementos de la primera linea: {uno}\")\n",
    "print(f\"Media de los elementos de la segunda linea: {dos}\")\n",
    "print(f\"Media de los elementos de la tercera linea: {tres}\")"
   ]
  },
  {
   "cell_type": "markdown",
   "metadata": {},
   "source": [
    "##### Ejercicio 17:\n",
    "\n",
    "Solicite el tamaño de fila (fil) y columna (col) de las matrices. Llene una matriz con números secuenciales del 1 al (fil*col). La segunda matriz con su potencia ([fil,col]^2).Suma las matrices."
   ]
  },
  {
   "cell_type": "code",
   "execution_count": 57,
   "metadata": {},
   "outputs": [
    {
     "name": "stdout",
     "output_type": "stream",
     "text": [
      "Ingrese filas: 3\n",
      "Ingrese columnas: 2\n",
      "[[1, 2], [5, 6], [9, 10]]\n",
      "[[1, 4], [25, 36], [81, 100]]\n",
      "[[2, 6], [30, 42], [90, 110]]\n"
     ]
    }
   ],
   "source": [
    "# Escriba el código aqui\n",
    "fila = int(input(\"Ingrese filas: \"))\n",
    "col = int(input(\"Ingrese columnas: \"))\n",
    "\n",
    "mat1 = [[i*(fila+1)+j+1 for j in range(col)] for i in range(fila)]\n",
    "print(\"La primera es:\", mat1)\n",
    "\n",
    "mat2 = [[mat1[i][j]**2 for j in range(col)] for i in range(fila)]\n",
    "print(\"La segunda es:\", mat2)\n",
    "\n",
    "mat3 = [[mat1[i][j]+mat2[i][j] for j in range(col)] for i in range(fil)]\n",
    "print(\"La suma de las matrices es:\", mat3)"
   ]
  },
  {
   "cell_type": "markdown",
   "metadata": {},
   "source": [
    "### Ejercicio 18:\n",
    "\n",
    "Una compañia tiene N sucursales en todo el país. Se formó una matriz de N por 12 que contiene las ventas de cada sucursal durante los 12 meses del año. Elaborar un programa que nos permita hallar e imprimir lo siguiente:\n",
    "<ul>\n",
    "    <li>Total de ventas por compañia.</li>\n",
    "    <li>Total de ventas por sucursal.</li>\n",
    "    <li>Sucursal que más vendió durante el año</li>\n",
    "    <li>Mes que menos vendió la compañia.</li>\n",
    "</ul>"
   ]
  },
  {
   "cell_type": "code",
   "execution_count": 37,
   "metadata": {},
   "outputs": [
    {
     "name": "stdout",
     "output_type": "stream",
     "text": [
      "Ingrese N: 1\n",
      "Ingrese ventas sucursal 1, mes 1: 1\n",
      "Ingrese ventas sucursal 1, mes 2: 2\n",
      "Ingrese ventas sucursal 1, mes 3: 3\n",
      "Ingrese ventas sucursal 1, mes 4: 4\n",
      "Ingrese ventas sucursal 1, mes 5: 5\n",
      "Ingrese ventas sucursal 1, mes 6: 6\n",
      "Ingrese ventas sucursal 1, mes 7: 7\n",
      "Ingrese ventas sucursal 1, mes 8: 8\n",
      "Ingrese ventas sucursal 1, mes 9: 9\n",
      "Ingrese ventas sucursal 1, mes 10: 11\n",
      "Ingrese ventas sucursal 1, mes 11: 13\n",
      "Ingrese ventas sucursal 1, mes 12: 15\n",
      "Total ventas compañia: 84\n",
      "Total ventas por sucursal: [84]\n",
      "La sucursal que mas vendio fue la sucursal 1\n",
      "[1, 2, 3, 4, 5, 6, 7, 8, 9, 11, 13, 15]\n",
      "El mes que menos se vendió fue el mes 1\n"
     ]
    }
   ],
   "source": [
    "# Escriba el código aqui\n",
    "n = int(input(\"Ingrese N: \"))\n",
    "mat = [[int(input(f\"Ingrese ventas sucursal {i+1}, mes {j+1}: \")) for j in range(12)] for i in range(n)]\n",
    "\n",
    "ventas = [sum(sucursal) for sucursal in mat]\n",
    "print(f\"Total ventas compañia: {sum(ventas)}\")\n",
    "print(f\"Total ventas por sucursal: {ventas}\")\n",
    "print(f\"La sucursal que mas vendio fue la sucursal {ventas.index(max(ventas))+1}\")\n",
    "\n",
    "t = []\n",
    "\n",
    "for i in range(12):\n",
    "    t.append([suc[i] for suc in mat])\n",
    "\n",
    "meses = [sum(mes) for mes in t]\n",
    "print(meses)\n",
    "print(f\"El mes que menos se vendió fue el mes {t.index(min(t)) +1}\")"
   ]
  },
  {
   "cell_type": "markdown",
   "metadata": {},
   "source": [
    "### Ejercicio 19:\n",
    "\n",
    "Lea una matriz de N xM y a continuación:\n",
    "<ul>\n",
    "    <li>Elimine la fila x (x debe leer y validar)</li>\n",
    "    <li>Elimine la columna y (y se debe leer y validar)</li>\n",
    "    <li>Inserte una nueva fila en x (x debe leer y validar)</li>\n",
    "    <li>Inserte una nueva columna en y (y se debe leer y validar)</li>\n",
    "</ul>"
   ]
  },
  {
   "cell_type": "code",
   "execution_count": 64,
   "metadata": {},
   "outputs": [],
   "source": [
    "# Escriba el código aqui\n",
    "#NO SE PUEDE"
   ]
  },
  {
   "cell_type": "markdown",
   "metadata": {},
   "source": [
    "### Ejercicio 20:\n",
    "\n",
    "Dada una matriz de nxm, utiliza la libreria random para rellenar la matriz con un rango de (-100,100) y reemplace todos los números negativos por un cero y los positivos por un 1. Mostrar la matriz original y la matriz modificada."
   ]
  },
  {
   "cell_type": "code",
   "execution_count": 39,
   "metadata": {},
   "outputs": [
    {
     "name": "stdout",
     "output_type": "stream",
     "text": [
      "MATRIZ 1\n",
      "Introduce el tamaño de numero de filas: 2\n",
      "Introduce el tamaño de numero de columnas: 3\n",
      "Ingresa los datos de la matriz 2 x 3\n",
      "[31, -93, 58]\n",
      "[38, 31, 15]\n",
      "El resultado es:\n",
      "[1, 0, 1]\n",
      "[1, 1, 1]\n"
     ]
    }
   ],
   "source": [
    "# Escriba el código aqui\n",
    "import random\n",
    "import sys\n",
    "print(\"MATRIZ 1\")\n",
    "filas = int(input(\"Introduce el tamaño de numero de filas: \"))\n",
    "columnas = int(input(\"Introduce el tamaño de numero de columnas: \"))\n",
    "matriz = []\n",
    "print(f\"Ingresa los datos de la matriz {filas} x {columnas}\")\n",
    "for i in range(filas):          \n",
    "    a =[] \n",
    "    for j in range(columnas):      \n",
    "         a.append(random.randint(-100,100)) \n",
    "    matriz.append(a) \n",
    "\n",
    "for r in matriz:\n",
    "    print(r)\n",
    "matriz2 = []\n",
    "for i in range(filas):\n",
    "    matriz2.append([])\n",
    "    for j in range(columnas):\n",
    "        if(matriz[i][j]<= 0):\n",
    "            matriz2[i].append(0)\n",
    "        else:\n",
    "            matriz2[i].append(1)\n",
    "print(\"El resultado es:\")\n",
    "for r in matriz2:\n",
    "    print(r)"
   ]
  },
  {
   "cell_type": "markdown",
   "metadata": {},
   "source": [
    "## 3.9 La Instrucción del\n",
    "\n",
    "Hay una manera de quitar un ítem de una lista dado su índice en lugar de su valor: la instrucción <b>del</b>. Esta es diferente del método <b>pop()</b>, el cual devuelve un valor. La instrucción <b>del</b> también puede usarse para quitar secciones de una lista o vaciar la lista completa (lo que hacíamos antes asignando una lista vacía a la sección). Por ejemplo:"
   ]
  },
  {
   "cell_type": "code",
   "execution_count": 98,
   "metadata": {},
   "outputs": [
    {
     "name": "stdout",
     "output_type": "stream",
     "text": [
      "[-1, 1, 66.25, 333, 333, 1234.5]\n"
     ]
    }
   ],
   "source": [
    "a = [-1, 1, 66.25, 333, 333, 1234.5]\n",
    "print(a)"
   ]
  },
  {
   "cell_type": "code",
   "execution_count": 99,
   "metadata": {},
   "outputs": [
    {
     "name": "stdout",
     "output_type": "stream",
     "text": [
      "[1, 66.25, 333, 333, 1234.5]\n"
     ]
    }
   ],
   "source": [
    "del a[0]\n",
    "print(a)"
   ]
  },
  {
   "cell_type": "code",
   "execution_count": 100,
   "metadata": {},
   "outputs": [
    {
     "name": "stdout",
     "output_type": "stream",
     "text": [
      "[1, 66.25, 1234.5]\n"
     ]
    }
   ],
   "source": [
    "del a[2:4]\n",
    "print(a)"
   ]
  },
  {
   "cell_type": "code",
   "execution_count": 101,
   "metadata": {},
   "outputs": [
    {
     "name": "stdout",
     "output_type": "stream",
     "text": [
      "[]\n"
     ]
    }
   ],
   "source": [
    "del a[:]\n",
    "print(a)"
   ]
  },
  {
   "cell_type": "markdown",
   "metadata": {},
   "source": [
    "<b>del</b> puede usarse también para eliminar variables:"
   ]
  },
  {
   "cell_type": "code",
   "execution_count": 102,
   "metadata": {},
   "outputs": [],
   "source": [
    "del a"
   ]
  },
  {
   "cell_type": "code",
   "execution_count": 103,
   "metadata": {},
   "outputs": [
    {
     "ename": "NameError",
     "evalue": "name 'a' is not defined",
     "output_type": "error",
     "traceback": [
      "\u001b[0;31m---------------------------------------------------------------------------\u001b[0m",
      "\u001b[0;31mNameError\u001b[0m                                 Traceback (most recent call last)",
      "\u001b[0;32m<ipython-input-103-b152ec05ccbc>\u001b[0m in \u001b[0;36m<module>\u001b[0;34m\u001b[0m\n\u001b[0;32m----> 1\u001b[0;31m \u001b[0mtype\u001b[0m\u001b[0;34m(\u001b[0m\u001b[0ma\u001b[0m\u001b[0;34m)\u001b[0m\u001b[0;34m\u001b[0m\u001b[0;34m\u001b[0m\u001b[0m\n\u001b[0m",
      "\u001b[0;31mNameError\u001b[0m: name 'a' is not defined"
     ]
    }
   ],
   "source": [
    "type(a)"
   ]
  },
  {
   "cell_type": "markdown",
   "metadata": {},
   "source": [
    "Hacer referencia al nombre a de aquí en más es un error (al menos hasta que se le asigne otro valor). Veremos otros usos para <b>del</b> más adelante."
   ]
  },
  {
   "cell_type": "markdown",
   "metadata": {},
   "source": [
    "## 3.10 Función enumerate\n",
    "\n",
    "Suponga que usted tenga una lista de personas = ['Juan','José','Maria'].\n",
    "\n",
    "La función <b>enumerate</b> retorna tuplas de índices y elementos en el formato [(0,'Juan'),(1,'José'),(2,'Maria')]. El resultado de la función <b>enumerate</b> puede ser convertido para lista con la función list()"
   ]
  },
  {
   "cell_type": "code",
   "execution_count": 104,
   "metadata": {},
   "outputs": [],
   "source": [
    "personas=['Juan','José','Maria']"
   ]
  },
  {
   "cell_type": "code",
   "execution_count": 105,
   "metadata": {},
   "outputs": [
    {
     "name": "stdout",
     "output_type": "stream",
     "text": [
      "[(0, 'Juan'), (1, 'José'), (2, 'Maria')]\n"
     ]
    }
   ],
   "source": [
    "enum_personas = list(enumerate(personas))\n",
    "print(enum_personas)"
   ]
  },
  {
   "cell_type": "code",
   "execution_count": 106,
   "metadata": {},
   "outputs": [
    {
     "name": "stdout",
     "output_type": "stream",
     "text": [
      "Personas 0=Juan\n",
      "Personas 1=José\n",
      "Personas 2=Maria\n"
     ]
    }
   ],
   "source": [
    "#La función enumerate puede ser útil dentro de un bucle for, \n",
    "# que veremos más adelante.\n",
    "#Por ahora vamos a quedar apenas con este ejemplo\n",
    "for i,p in enumerate(personas):\n",
    "    #usando f-string p/ intercalar texto con variables\n",
    "    #(Disponible a partir del Python 3.6)\n",
    "    print(f\"Personas {i}={p}\") "
   ]
  },
  {
   "cell_type": "markdown",
   "metadata": {},
   "source": [
    "## 3.11 Función zip"
   ]
  },
  {
   "cell_type": "markdown",
   "metadata": {},
   "source": [
    "La función zip combina dos listas en una lsita de tuplas. Por ejemplo:"
   ]
  },
  {
   "cell_type": "code",
   "execution_count": 107,
   "metadata": {},
   "outputs": [
    {
     "name": "stdout",
     "output_type": "stream",
     "text": [
      "[(1, 'ana'), (2, 'maria'), (3, 'josé')]\n"
     ]
    }
   ],
   "source": [
    "indices=[1,2,3]\n",
    "nombres=[\"ana\",\"maria\",\"josé\"]\n",
    "#Convierte el objeto zip para lista\n",
    "nombres_indexados=list(zip(indices,nombres))\n",
    "print(nombres_indexados)"
   ]
  },
  {
   "cell_type": "code",
   "execution_count": 108,
   "metadata": {},
   "outputs": [
    {
     "name": "stdout",
     "output_type": "stream",
     "text": [
      "[('ana', 14, 58), ('maria', 21, 70), ('josé', 38, 90)]\n"
     ]
    }
   ],
   "source": [
    "nombres=[\"ana\",\"maria\",\"josé\"]\n",
    "edades = [14,21,38]\n",
    "pesos = [58,70,90]\n",
    "datos_personas = list(zip(nombres,edades,pesos))\n",
    "print(datos_personas)"
   ]
  },
  {
   "cell_type": "markdown",
   "metadata": {},
   "source": [
    "### Ejercicio 21:\n",
    "\n",
    "Escriba un programa con list comprehension para jugar a adivinar un número (el ordenador \"piensa\" el número y el usuario tiene que adivinarlo). El programa empieza pidiendo entre qué números está el número a adivinar, se \"inventa\" un número al azar y después el usuario va probando valores y el programa va diciendo si son demasiado grandes o pequeños.\n",
    "\n",
    "<b>Salida deseada:</b><br>\n",
    "\n",
    "Valor mínimo: 0<br>\n",
    "Valor máximo: 100<br>\n",
    "Intente adivinar un número entero entre 0 y 100.<br>\n",
    "Escriba un número: 20<br>\n",
    "¡Demasiado pequeño! Inténtelo de nuevo: 30<br>\n",
    "¡Demasiado grande! Inténtelo de nuevo: 27<br>\n",
    "¡Acertó! Le ha costado 3 intentos.\n",
    "\n",
    "<b>Sugerencia:</b> puede perfeccionar este programa haciendo:\n",
    "\n",
    "* que al principio el programa se asegure de que el valor máximo es superior al valor mínimo.\n",
    "* que el programa detecte \"trampas\", por ejemplo, si al decir 25 le decimos \"mayor\" y al decir 26 le decimos \"menor\", el programa debe decirnos que estamos haciendo trampas y dejar de jugar."
   ]
  },
  {
   "cell_type": "code",
   "execution_count": 63,
   "metadata": {},
   "outputs": [],
   "source": [
    "# Escriba el código aqui\n",
    "#NO SE PUEDE"
   ]
  },
  {
   "cell_type": "markdown",
   "metadata": {},
   "source": [
    "### Ejercicio 22:\n",
    "\n",
    "Calcule el producto escalar E de dos listas de números de igual tamaño. Considere que las listas pueden tener cualquier tamaño.<br>\n",
    "    Ej: X = [3,6,7] Y=[2,7,8]<br>\n",
    "    E= 3 * 2 + 6 * 7 + 7 * 8"
   ]
  },
  {
   "cell_type": "code",
   "execution_count": 2,
   "metadata": {},
   "outputs": [
    {
     "name": "stdout",
     "output_type": "stream",
     "text": [
      "[15, 48, 63, 12]\n"
     ]
    }
   ],
   "source": [
    "X=[3,6,7,6]\n",
    "Y=[5,8,9,2]\n",
    "\n",
    "Lis = list(zip(X,Y))\n",
    "E = [Lis[i][0]*Lis[i][1] for i in range(len(Lis))]\n",
    "print(E)"
   ]
  },
  {
   "cell_type": "markdown",
   "metadata": {},
   "source": [
    "### Ejercicio 23:\n",
    "#Una matriz puede ser definida como una lista de listas.<br>\n",
    "A=[[1,2,3],[4,5,6],[2,2,2]] #Matriz 3X3<br>\n",
    "B=[[5,2,1],[2,1,7],[4,1,2]]<br>\n",
    "<br>\n",
    "Defina una matriz S con la suma de las matrizes<br>"
   ]
  },
  {
   "cell_type": "code",
   "execution_count": 74,
   "metadata": {},
   "outputs": [
    {
     "data": {
      "text/plain": [
       "array([[ 6,  4,  4],\n",
       "       [ 6,  6, 13],\n",
       "       [ 6,  3,  4]])"
      ]
     },
     "execution_count": 74,
     "metadata": {},
     "output_type": "execute_result"
    }
   ],
   "source": [
    "A=[[1,2,3],[4,5,6],[2,2,2]]\n",
    "B=[[5,2,1],[2,1,7],[4,1,2]]\n",
    "#Calcule S\n",
    "import random\n",
    "import numpy as np\n",
    "\n",
    "S=[[A[i][j]+B[i][j] for j in range(len(A))] for i in range(len(B))]\n",
    "\n",
    "np.array(S)"
   ]
  }
 ],
 "metadata": {
  "kernelspec": {
   "display_name": "Python 3",
   "language": "python",
   "name": "python3"
  },
  "language_info": {
   "codemirror_mode": {
    "name": "ipython",
    "version": 3
   },
   "file_extension": ".py",
   "mimetype": "text/x-python",
   "name": "python",
   "nbconvert_exporter": "python",
   "pygments_lexer": "ipython3",
   "version": "3.6.9"
  }
 },
 "nbformat": 4,
 "nbformat_minor": 2
}
